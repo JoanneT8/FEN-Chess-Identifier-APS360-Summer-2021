{
  "nbformat": 4,
  "nbformat_minor": 0,
  "metadata": {
    "colab": {
      "name": "FEN Chess Identifier - Group 3 Project",
      "provenance": [],
      "authorship_tag": "ABX9TyNG2VBrduExx9cDt4/VrXzZ",
      "include_colab_link": true
    },
    "kernelspec": {
      "name": "python3",
      "display_name": "Python 3"
    },
    "language_info": {
      "name": "python"
    }
  },
  "cells": [
    {
      "cell_type": "markdown",
      "metadata": {
        "id": "view-in-github",
        "colab_type": "text"
      },
      "source": [
        "<a href=\"https://colab.research.google.com/github/JoanneT8/FEN-Chess-Identifier-APS360-Summer-2021/blob/main/FEN_Chess_Identifier_Group_3_Project.ipynb\" target=\"_parent\"><img src=\"https://colab.research.google.com/assets/colab-badge.svg\" alt=\"Open In Colab\"/></a>"
      ]
    },
    {
      "cell_type": "markdown",
      "metadata": {
        "id": "-oQfyXToPntL"
      },
      "source": [
        "## FEN Chess Identifier Project"
      ]
    },
    {
      "cell_type": "markdown",
      "metadata": {
        "id": "7vAEqXKsPO8j"
      },
      "source": [
        "Welcome to Group 3's Google Colab Notebook! This is where we are going to build our FEN Chess Identifier machine learning model for APS360 Summer 2021.\n",
        "\n",
        "Team members: John Lee, Kevin Karam, Morgan Tran, Joanne Tan"
      ]
    },
    {
      "cell_type": "markdown",
      "metadata": {
        "id": "3xFs6COgPx2E"
      },
      "source": [
        "## Google Colab Shared Link\n",
        "Link: https://colab.research.google.com/drive/1hBLG7VLoNU6S6vvo8Ff9rpU0ix5F1Wwj?usp=sharing"
      ]
    },
    {
      "cell_type": "markdown",
      "metadata": {
        "id": "XnHedjPPQDRf"
      },
      "source": [
        "## Git Repository\n",
        "Current Git repo is still private."
      ]
    },
    {
      "cell_type": "code",
      "metadata": {
        "id": "FJCd89SPO8Vs"
      },
      "source": [
        ""
      ],
      "execution_count": null,
      "outputs": []
    }
  ]
}