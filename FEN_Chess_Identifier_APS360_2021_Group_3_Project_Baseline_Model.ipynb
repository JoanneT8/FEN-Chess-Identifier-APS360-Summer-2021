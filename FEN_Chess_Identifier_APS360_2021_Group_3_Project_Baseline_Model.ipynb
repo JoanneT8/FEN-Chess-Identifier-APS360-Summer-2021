{
  "nbformat": 4,
  "nbformat_minor": 0,
  "metadata": {
    "colab": {
      "name": "FEN Chess Identifier APS360 2021 Group 3 Project - Baseline Model",
      "provenance": [],
      "collapsed_sections": [],
      "include_colab_link": true
    },
    "kernelspec": {
      "display_name": "Python 3",
      "name": "python3"
    },
    "language_info": {
      "name": "python"
    },
    "accelerator": "GPU"
  },
  "cells": [
    {
      "cell_type": "markdown",
      "metadata": {
        "id": "view-in-github",
        "colab_type": "text"
      },
      "source": [
        "<a href=\"https://colab.research.google.com/github/JoanneT8/FEN-Chess-Identifier-APS360-Summer-2021/blob/main/FEN_Chess_Identifier_APS360_2021_Group_3_Project_Baseline_Model.ipynb\" target=\"_parent\"><img src=\"https://colab.research.google.com/assets/colab-badge.svg\" alt=\"Open In Colab\"/></a>"
      ]
    },
    {
      "cell_type": "markdown",
      "metadata": {
        "id": "-oQfyXToPntL"
      },
      "source": [
        "## FEN Chess Identifier Project"
      ]
    },
    {
      "cell_type": "markdown",
      "metadata": {
        "id": "7vAEqXKsPO8j"
      },
      "source": [
        "Welcome to Group 3's Google Colab Notebook! This is where we are going to build our FEN Chess Identifier machine learning model for APS360 Summer 2021.\n",
        "\n",
        "**Team members: John Lee, Kevin Karam, Morgan Tran, Joanne Tan**"
      ]
    },
    {
      "cell_type": "markdown",
      "metadata": {
        "id": "hxb2jIn37lUh"
      },
      "source": [
        "##  Project Overview\n",
        "[Why did we choose this? What kind of results do we want?]\n",
        "- Chess has been growing in popularity and this little tool would help online chess players quickly convert their current board (JEPG) into FEN to share with others to discuss and learn!\n",
        "- The whole group has a general interest in chess\n",
        "- We would like to successfully convert the inputed chess image into the correct FEN where it can later be inserted into your favourite online chess platform to re-create the exact same scenario for analysis or practice!"
      ]
    },
    {
      "cell_type": "markdown",
      "metadata": {
        "id": "3xFs6COgPx2E"
      },
      "source": [
        "## Google Colab Shared Link\n",
        "Baseline Model Link: https://colab.research.google.com/drive/1hBLG7VLoNU6S6vvo8Ff9rpU0ix5F1Wwj?usp=sharing\n",
        "\n",
        "Main Model Link: https://colab.research.google.com/drive/1gLG2Td7MzgWcH2JUzr1E3Rst3kRTovYm?usp=sharing "
      ]
    },
    {
      "cell_type": "markdown",
      "metadata": {
        "id": "XnHedjPPQDRf"
      },
      "source": [
        "## Git Repository\n",
        "Current Git repo is still private."
      ]
    },
    {
      "cell_type": "markdown",
      "metadata": {
        "id": "aeeSSsUacGVh"
      },
      "source": [
        "# Clean the Data\n",
        "- Download the dataset\n",
        "- Resize all images to 200 x 200 pixels\n",
        "- Extract JPG name and replace all dashes with slashes, store into a dataframe?\n",
        "- Convert images into numpy arrays, store into csv file"
      ]
    },
    {
      "cell_type": "code",
      "metadata": {
        "colab": {
          "base_uri": "https://localhost:8080/"
        },
        "id": "fonNdl1Pcdhi",
        "outputId": "db7f5959-9858-492b-b5b5-c7dd1b353489"
      },
      "source": [
        "from google.colab import drive\n",
        "drive.mount('/content/drive')"
      ],
      "execution_count": null,
      "outputs": [
        {
          "output_type": "stream",
          "text": [
            "Mounted at /content/drive\n"
          ],
          "name": "stdout"
        }
      ]
    },
    {
      "cell_type": "markdown",
      "metadata": {
        "id": "RHgiw7A4qCCh"
      },
      "source": [
        "### Resizing images to 200 x 200 px"
      ]
    },
    {
      "cell_type": "markdown",
      "metadata": {
        "id": "3TxOKWFmgbef"
      },
      "source": [
        "Following steps to download Kaggle dataset from this article: https://towardsdatascience.com/downloading-datasets-into-google-drive-via-google-colab-bcb1b30b0166"
      ]
    },
    {
      "cell_type": "code",
      "metadata": {
        "id": "NY5OOGVSgZ2-"
      },
      "source": [
        "from google.colab import files\n",
        "files.upload()  #this will prompt you to upload the kaggle.json"
      ],
      "execution_count": null,
      "outputs": []
    },
    {
      "cell_type": "code",
      "metadata": {
        "id": "yjQeccgthlDV"
      },
      "source": [
        "# make sure you have pip installed\n",
        "!pip --version "
      ],
      "execution_count": null,
      "outputs": []
    },
    {
      "cell_type": "code",
      "metadata": {
        "id": "eS0kbYaoilzl"
      },
      "source": [
        "!pip install -q kaggle\n",
        "!mkdir -p ~/.kaggle\n",
        "!cp kaggle.json ~/.kaggle/\n",
        "!ls ~/.kaggle\n",
        "!chmod 600 /root/.kaggle/kaggle.json  # set permission"
      ],
      "execution_count": null,
      "outputs": []
    },
    {
      "cell_type": "code",
      "metadata": {
        "id": "OEP20ZqSeLey"
      },
      "source": [
        "# import the Kaggle dataset from: https://www.kaggle.com/koryakinp/chess-positions \n",
        "!kaggle datasets download -d koryakinp/chess-positions -p '/content/drive/MyDrive/APS360_Project_Group_3/Chess_Positions_Datset'"
      ],
      "execution_count": null,
      "outputs": []
    },
    {
      "cell_type": "code",
      "metadata": {
        "id": "H2UK83DHnXTw"
      },
      "source": [
        "import os\n",
        "os.chdir('/content/drive/MyDrive/APS360_Project_Group_3')  #change dir"
      ],
      "execution_count": null,
      "outputs": []
    },
    {
      "cell_type": "markdown",
      "metadata": {
        "id": "x7lD2N0z-OBz"
      },
      "source": [
        "**Note: Beware, unzipping this file takes approx. 2 hours 21 min!!!!!**"
      ]
    },
    {
      "cell_type": "code",
      "metadata": {
        "id": "IpcPMCm2xfwh"
      },
      "source": [
        "!unzip -q archive.zip  #unzip dataset "
      ],
      "execution_count": null,
      "outputs": []
    },
    {
      "cell_type": "code",
      "metadata": {
        "id": "f0FqJahW4tYt"
      },
      "source": [
        "# split a portion of the train data for a validation set\n",
        "# save 20k images for validation set, 60k for training\n",
        "\n",
        "#hmmm how do i split the train set in an easy way"
      ],
      "execution_count": null,
      "outputs": []
    },
    {
      "cell_type": "code",
      "metadata": {
        "id": "XQmVHO4QGkgP"
      },
      "source": [
        "import numpy as np\n",
        "import time\n",
        "import torch\n",
        "import torch.nn as nn\n",
        "import torch.nn.functional as F\n",
        "import torch.optim as optim\n",
        "import torchvision\n",
        "from torch.utils.data.sampler import SubsetRandomSampler\n",
        "import torchvision.transforms as transforms\n",
        "import os\n",
        "import shutil\n",
        "import glob\n",
        "import random\n",
        "from numpy import asarray\n",
        "from PIL import Image\n",
        "import matplotlib.pyplot as plt"
      ],
      "execution_count": null,
      "outputs": []
    },
    {
      "cell_type": "code",
      "metadata": {
        "id": "Jer102ojGyrc"
      },
      "source": [
        "train_dir = '/content/drive/MyDrive/APS360_Project_Group_3/dataset/train'\n",
        "val_dir = '/content/drive/MyDrive/APS360_Project_Group_3/dataset/validation'\n",
        "test_dir = '/content/drive/MyDrive/APS360_Project_Group_3/dataset/test'"
      ],
      "execution_count": null,
      "outputs": []
    },
    {
      "cell_type": "code",
      "metadata": {
        "id": "T1LpqakJQvI3"
      },
      "source": [
        "# why is this not working ughhhhhhh - it works on and off -- Reason: sometimes Google Colab finds the file to big to read \n",
        "# check to see if we have all the files\n",
        "counter_train = 0\n",
        "counter_val = 0\n",
        "counter_test = 0\n",
        "\n",
        "for file in os.listdir(train_dir):\n",
        "  # print(file)\n",
        "  counter_train += 1\n",
        "\n",
        "for file in os.listdir(val_dir):\n",
        "  counter_val += 1\n",
        "\n",
        "for file in os.listdir(test_dir):\n",
        "  counter_test += 1\n",
        "  \n",
        "print(counter_train)\n",
        "print(counter_val)\n",
        "print(counter_test)"
      ],
      "execution_count": null,
      "outputs": []
    },
    {
      "cell_type": "code",
      "metadata": {
        "id": "5C5p2HauxtpI"
      },
      "source": [
        "# ------------- DON'T RUN AGAIN --------------\n",
        "# move 20,000 images into validation folder\n",
        "# counter = 0\n",
        "# for file in os.listdir(train_dir):\n",
        "#   curr_path = os.path.join(train_dir, file)\n",
        "#   if (counter < 20000):\n",
        "#     shutil.move(curr_path, val_dir)\n",
        "#     counter += 1\n",
        "#   else:\n",
        "#     break"
      ],
      "execution_count": null,
      "outputs": []
    },
    {
      "cell_type": "markdown",
      "metadata": {
        "id": "FipplZuRtZKH"
      },
      "source": [
        "Resizing images to 200 x 200 pixels"
      ]
    },
    {
      "cell_type": "code",
      "metadata": {
        "id": "Oz6rW5bDrFAf"
      },
      "source": [
        "#Import required Image library\n",
        "from PIL import Image\n",
        "counter = 0\n",
        "finished = 0\n",
        "other = 0\n",
        "new_size = (200,200)\n",
        "\n",
        "# resizing all images in train folder\n",
        "for file in os.listdir(train_dir):\n",
        "  curr_path = os.path.join(train_dir, file)\n",
        "\n",
        "  #Create an Image Object from an Image\n",
        "  im = Image.open(curr_path)\n",
        "\n",
        "  # #Display actual image\n",
        "  # im.show()\n",
        "\n",
        "  if (im.size[0] != 200):\n",
        "    #Make the new image half the width and half the height of the original image\n",
        "    resized_im = im.resize(new_size)\n",
        "\n",
        "    # #Display the resized imaged\n",
        "    # resized_im.show()\n",
        "    print(file)\n",
        "    print(resized_im.size)\n",
        "    print(counter)\n",
        "    print()\n",
        "\n",
        "    counter += 1\n",
        "    #Save the cropped image\n",
        "    resized_im.save(curr_path)\n",
        "  elif (im.size[0] == 200):\n",
        "    print(\"complete: \" + str(finished))\n",
        "    finished += 1\n",
        "    print(im.size)\n",
        "  else:\n",
        "    print(\"other: \" + str(other))\n",
        "    other += 1\n",
        "    print(im.size)\n",
        "\n",
        "print()\n",
        "print()\n",
        "print(\"Completed = \" + str(finished))\n",
        "print(\"resized = \" + str(counter))\n",
        "print(\"other = \" + str(other))\n",
        "\n"
      ],
      "execution_count": null,
      "outputs": []
    },
    {
      "cell_type": "code",
      "metadata": {
        "id": "TYym9CpXtL_i"
      },
      "source": [
        "counter = 0\n",
        "new_size = (200,200)\n",
        "\n",
        "# resizing all images in validation folder\n",
        "for file in os.listdir(val_dir):\n",
        "  curr_path = os.path.join(val_dir, file)\n",
        "\n",
        "  #Create an Image Object from an Image\n",
        "  im = Image.open(curr_path)\n",
        "\n",
        "  # #Display actual image\n",
        "  # im.show()\n",
        "\n",
        "  if (im.size[0] != 200):\n",
        "    #Make the new image half the width and half the height of the original image\n",
        "    resized_im = im.resize(new_size)\n",
        "\n",
        "    # #Display the resized imaged\n",
        "    # resized_im.show()\n",
        "    print(file)\n",
        "    print(resized_im.size)\n",
        "    print(counter)\n",
        "    print()\n",
        "\n",
        "    counter += 1\n",
        "    #Save the cropped image\n",
        "    resized_im.save(curr_path)"
      ],
      "execution_count": null,
      "outputs": []
    },
    {
      "cell_type": "code",
      "metadata": {
        "id": "aDM9yCLHtR7j"
      },
      "source": [
        "counter = 0\n",
        "new_size = (200,200)\n",
        "\n",
        "# resizing all images in test folder\n",
        "for file in os.listdir(test_dir):\n",
        "  curr_path = os.path.join(test_dir, file)\n",
        "\n",
        "  #Create an Image Object from an Image\n",
        "  im = Image.open(curr_path)\n",
        "\n",
        "  # #Display actual image\n",
        "  # im.show()\n",
        "\n",
        "  if (im.size[0] != 200):\n",
        "    #Make the new image half the width and half the height of the original image\n",
        "    resized_im = im.resize(new_size)\n",
        "\n",
        "    # #Display the resized imaged\n",
        "    # resized_im.show()\n",
        "    print(file)\n",
        "    print(resized_im.size)\n",
        "    print(counter)\n",
        "    print()\n",
        "\n",
        "    counter += 1\n",
        "    #Save the cropped image\n",
        "    resized_im.save(curr_path)"
      ],
      "execution_count": null,
      "outputs": []
    },
    {
      "cell_type": "markdown",
      "metadata": {
        "id": "GFndOlyC9DRL"
      },
      "source": [
        "Convert images into numpy array, and save to csv file along with the jpg modified name:\n",
        "https://www.geeksforgeeks.org/how-to-convert-an-image-to-numpy-array-and-saveit-to-csv-file-using-python/"
      ]
    },
    {
      "cell_type": "code",
      "metadata": {
        "id": "xTcqKV1-9LyL"
      },
      "source": [
        ""
      ],
      "execution_count": null,
      "outputs": []
    },
    {
      "cell_type": "code",
      "metadata": {
        "id": "xjejrF1-9MRE"
      },
      "source": [
        ""
      ],
      "execution_count": null,
      "outputs": []
    },
    {
      "cell_type": "markdown",
      "metadata": {
        "id": "BueUUUFISaL7"
      },
      "source": [
        "## How to differentiate between pieces?\n",
        "- 13 classes (6 classes for white, 6 for black, 1 for blanks)\n",
        "Augmenting pieces:\n",
        "- change resolutions\n",
        "- edge detection?\n",
        "- mirror (if piece not symmetrical)\n",
        "- add blank images\n",
        "- add noise\n"
      ]
    },
    {
      "cell_type": "markdown",
      "metadata": {
        "id": "re3xf3HvrzPZ"
      },
      "source": [
        ""
      ]
    },
    {
      "cell_type": "code",
      "metadata": {
        "id": "BWAajcZTpNzC"
      },
      "source": [
        "# create folders (Joanne)\n",
        "#input 5 folders named: base, colour, noise, colournoise, mirror inside each of the 13 pieces\n",
        "pieces_path = '/content/drive/MyDrive/APS360_Project_Group_3/pieces'\n",
        "make_folders = ['base', 'colour', 'noise', 'colournoise', 'mirror']\n",
        "\n",
        "for folder in os.listdir(pieces_path):\n",
        "  curr_path = os.path.join(pieces_path, folder)\n",
        "\n",
        "  for element in make_folders:\n",
        "    new_path_Name = os.path.join(curr_path, element)\n",
        "    os.mkdir(new_path_Name)"
      ],
      "execution_count": null,
      "outputs": []
    },
    {
      "cell_type": "code",
      "metadata": {
        "id": "jpbl26iJSDVS"
      },
      "source": [
        "# function for mirror (Kevin)\n",
        "pieces_path = '/content/drive/MyDrive/APS360_Project_Group_3/pieces'\n",
        "\n",
        "for folder in os.listdir(pieces_path):\n",
        "  curr_path = os.path.join(pieces_path, folder, \"base\")\n",
        "  target_path = os.path.join(pieces_path, folder, \"mirror\")\n",
        "\n",
        "  #https://stackoverflow.com/questions/11903037/copy-all-jpg-file-in-a-directory-to-another-directory-in-python\n",
        "  for file in glob.iglob(os.path.join(curr_path, \"*.png\")):\n",
        "    shutil.copy(file, target_path)"
      ],
      "execution_count": null,
      "outputs": []
    },
    {
      "cell_type": "code",
      "metadata": {
        "id": "ySC93NiNSm79"
      },
      "source": [
        "pieces_path = '/content/drive/MyDrive/APS360_Project_Group_3/pieces'\n",
        "\n",
        "for folder in os.listdir(pieces_path):\n",
        "  convert_PNG_to_JPEG(os.path.join(pieces_path, folder, \"mirror\"), (255, 255, 255))"
      ],
      "execution_count": null,
      "outputs": []
    },
    {
      "cell_type": "code",
      "metadata": {
        "id": "LQslPvsMoh2K"
      },
      "source": [
        "from PIL import Image, ImageOps\n",
        "\n",
        "pieces_path = '/content/drive/MyDrive/APS360_Project_Group_3/pieces'\n",
        "for folder in os.listdir(pieces_path):\n",
        "  curr_path = os.path.join(pieces_path, folder, \"mirror\")\n",
        "  number = 1\n",
        "  for file in glob.iglob(os.path.join(curr_path, \"*.jpeg\")):\n",
        "    im = Image.open(file)\n",
        "    im_mirror = ImageOps.mirror(im)\n",
        "    os.chdir(curr_path)\n",
        "    fileName = \"mirror\" + str(number)\n",
        "    im_mirror.save(fileName + \".jpeg\", 'JPEG')\n",
        "    number += 1\n",
        "number = 1"
      ],
      "execution_count": null,
      "outputs": []
    },
    {
      "cell_type": "code",
      "metadata": {
        "id": "-js7sPwDZtyS"
      },
      "source": [
        "#renaming images to follow convention\n",
        "pieces_path = '/content/drive/MyDrive/APS360_Project_Group_3/pieces'\n",
        "\n",
        "for folder in os.listdir(pieces_path):\n",
        "  curr_path = os.path.join(pieces_path, folder, \"mirror\")\n",
        "  number = 1\n",
        "  formatted_piece = pieceAndColour(folder)\n",
        "  #print(folder)\n",
        "  #print(formatted_piece)\n",
        "  if formatted_piece == None:\n",
        "    break\n",
        "  for file in glob.iglob(os.path.join(curr_path, \"*.jpeg\")):\n",
        "    fileName = formatted_piece + \"_mirror\" + str(number) + \".jpeg\"\n",
        "    number += 1\n",
        "    print(fileName)\n",
        "    os.rename(file, fileName)\n",
        "number = 1"
      ],
      "execution_count": null,
      "outputs": []
    },
    {
      "cell_type": "code",
      "metadata": {
        "id": "mkZpURIuoiks"
      },
      "source": [
        "# function for noise(moving the files)(John)\n",
        "pieces_path = '/content/drive/MyDrive/APS360_Project_Group_3/pieces'\n",
        "\n",
        "for folder in os.listdir(pieces_path):\n",
        "  curr_path = os.path.join(pieces_path, folder, \"base\")\n",
        "  target_path = os.path.join(pieces_path, folder, \"noise\")\n",
        "\n",
        "  #https://stackoverflow.com/questions/11903037/copy-all-jpg-file-in-a-directory-to-another-directory-in-python\n",
        "  for file in glob.iglob(os.path.join(curr_path, \"*.png\")):\n",
        "    shutil.copy(file, target_path)\n",
        "  "
      ],
      "execution_count": null,
      "outputs": []
    },
    {
      "cell_type": "code",
      "metadata": {
        "id": "e9usuvlfpDfw"
      },
      "source": [
        "pieces_path = '/content/drive/MyDrive/APS360_Project_Group_3/pieces'\n",
        "\n",
        "for folder in os.listdir(pieces_path):\n",
        "  convert_PNG_to_JPEG(os.path.join(pieces_path, folder, \"noise\"), (255, 255, 255))"
      ],
      "execution_count": null,
      "outputs": []
    },
    {
      "cell_type": "code",
      "metadata": {
        "id": "C38njiNmqjcw"
      },
      "source": [
        "# removing all files with .png ending in noise folders\n",
        "pieces_path = '/content/drive/MyDrive/APS360_Project_Group_3/pieces'\n",
        "for folder in os.listdir(pieces_path):\n",
        "  noise_path = os.path.join(pieces_path, folder, \"noise\")\n",
        "  for file in os.listdir(noise_path):\n",
        "    if file.endswith(\".png\"):\n",
        "      os.remove(os.path.join(noise_path, file))"
      ],
      "execution_count": null,
      "outputs": []
    },
    {
      "cell_type": "code",
      "metadata": {
        "id": "6TPGZeIpoGzE"
      },
      "source": [
        "#Adding gaussian noise to the images\n",
        "pieces_path = '/content/drive/MyDrive/APS360_Project_Group_3/pieces'\n",
        "\n",
        "for folder in os.listdir(pieces_path):\n",
        "  curr_path = os.path.join(pieces_path, folder, \"noise\")\n",
        "  formatted_piece = pieceAndColour(folder)\n",
        "  number = 1\n",
        "  for file in glob.iglob(os.path.join(curr_path, \"*.jpeg\")):\n",
        "    nf = round(random.uniform(1.0,1.5), 2)\n",
        "    #https://www.geeksforgeeks.org/how-to-convert-images-to-numpy-array/\n",
        "    img= Image.open(file)\n",
        "    np_img = np.array(img)\n",
        "\n",
        "    tensor_img =torch.tensor(np_img)\n",
        "    #Taken from the lecture on autoencoders\n",
        "    noise = tensor_img + nf*torch.randn(*tensor_img.shape)\n",
        "\n",
        "    noisy_image = np.array(noise, dtype=np.uint8)\n",
        "    im = Image.fromarray(noisy_image)\n",
        "    os.chdir(curr_path)\n",
        "    fileName = formatted_piece+\"_noise\" + str(number)\n",
        "    im.save(fileName + \".jpeg\", 'JPEG')\n",
        "    number += 1"
      ],
      "execution_count": null,
      "outputs": []
    },
    {
      "cell_type": "code",
      "metadata": {
        "id": "B1r-YCei0x0q"
      },
      "source": [
        "# removing non-noisy images from the noise folder\n",
        "pieces_path = '/content/drive/MyDrive/APS360_Project_Group_3/pieces'\n",
        "for folder in os.listdir(pieces_path):\n",
        "  noise_path = os.path.join(pieces_path, folder, \"noise\")\n",
        "  for file in os.listdir(noise_path):\n",
        "    if file.endswith(\").jpeg\"):\n",
        "      os.remove(os.path.join(noise_path, file))"
      ],
      "execution_count": null,
      "outputs": []
    },
    {
      "cell_type": "code",
      "metadata": {
        "id": "TcycPxpFnLxX"
      },
      "source": [
        "# remove all images in every noise folder\n",
        "pieces_path = '/content/drive/MyDrive/APS360_Project_Group_3/pieces'\n",
        "\n",
        "for folder in os.listdir(pieces_path):\n",
        "  curr_path = os.path.join(pieces_path, folder, \"noise\")\n",
        "  for file in os.listdir(curr_path):\n",
        "    os.remove(curr_path+\"/\"+file)\n"
      ],
      "execution_count": null,
      "outputs": []
    },
    {
      "cell_type": "code",
      "metadata": {
        "id": "_pqS1ibXPSc8"
      },
      "source": [
        "#adding noise to just the blank squares\n",
        "pieces_path = '/content/drive/MyDrive/APS360_Project_Group_3/pieces/blank/base'\n",
        "\n",
        "for folder in os.listdir(pieces_path):\n",
        "  curr_path = pieces_path\n",
        "  formatted_piece = \"blank\"\n",
        "  number = 1\n",
        "  for file in glob.iglob(os.path.join(curr_path, \"*.jpeg\")):\n",
        "    nf = round(random.uniform(3,5), 2)\n",
        "    #https://www.geeksforgeeks.org/how-to-convert-images-to-numpy-array/\n",
        "    img= Image.open(file)\n",
        "    np_img = np.array(img)\n",
        "\n",
        "    tensor_img =torch.tensor(np_img)\n",
        "    #Taken from the lecture on autoencoders\n",
        "    noise = tensor_img + nf*torch.randn(*tensor_img.shape)\n",
        "\n",
        "    noisy_image = np.array(noise, dtype=np.uint8)\n",
        "    im = Image.fromarray(noisy_image)\n",
        "    os.chdir('/content/drive/MyDrive/APS360_Project_Group_3/pieces/blank/noise')\n",
        "    fileName = formatted_piece+\"_noise\" + str(number)\n",
        "    im.save(fileName + \".jpeg\", 'JPEG')\n",
        "    number += 1"
      ],
      "execution_count": null,
      "outputs": []
    },
    {
      "cell_type": "code",
      "metadata": {
        "id": "6UviXqKCqy9i"
      },
      "source": [
        "#renaming images to follow convention\n",
        "# pieces_path = '/content/drive/MyDrive/APS360_Project_Group_3/pieces'\n",
        "\n",
        "# for folder in os.listdir(pieces_path):\n",
        "#   curr_path = os.path.join(pieces_path, folder, \"noise\")\n",
        "#   number = 1\n",
        "#   formatted_piece = pieceAndColour(folder)\n",
        "#   #print(folder)\n",
        "#   #print(formatted_piece)\n",
        "#   if formatted_piece == None:\n",
        "#     break\n",
        "#   for file in glob.iglob(os.path.join(curr_path, \"*.jpeg\")):\n",
        "#     fileName = formatted_piece + \"_noise\" + str(number) + \".jpeg\"\n",
        "#     number += 1\n",
        "#     print(fileName)\n",
        "#     os.rename(file, fileName)\n",
        "# number = 1"
      ],
      "execution_count": null,
      "outputs": []
    },
    {
      "cell_type": "code",
      "metadata": {
        "id": "q3KSYrI2pck4"
      },
      "source": [
        "#function that will output the proper format of piece and colour when given the folder it is in\n",
        "#ex. \n",
        "#in: pieceAndColour(blackKnight) \n",
        "#out: n_b\n",
        "def pieceAndColour(folder):\n",
        "  if(folder == \"whiteRook\"):\n",
        "    return \"r_w\"\n",
        "  elif(folder == \"whiteQueen\"):\n",
        "    return \"q_w\"\n",
        "  elif(folder == \"whitePawn\"):\n",
        "    return \"p_w\"\n",
        "  elif(folder == \"whiteKnight\"):\n",
        "    return \"n_w\"\n",
        "  elif(folder == \"whiteKing\"):\n",
        "    return \"k_w\"\n",
        "  elif(folder == \"whiteBishop\"):\n",
        "    return \"b_w\"\n",
        "  elif(folder == \"blackRook\"):\n",
        "    return \"r_b\"\n",
        "  elif(folder == \"blackQueen\"):\n",
        "    return \"q_b\"\n",
        "  elif(folder == \"blackPawn\"):\n",
        "    return \"p_b\"\n",
        "  elif(folder == \"blackKnight\"):\n",
        "    return \"n_b\"\n",
        "  elif(folder == \"blackKing\"):\n",
        "    return \"k_b\"\n",
        "  elif(folder == \"blackBishop\"):\n",
        "    return \"b_b\"\n",
        "  elif(folder == \"blank\"):\n",
        "    return \"blank\"\n",
        "\n"
      ],
      "execution_count": null,
      "outputs": []
    },
    {
      "cell_type": "code",
      "metadata": {
        "id": "XicsOjClokEs"
      },
      "source": [
        "# function for background colour (Morgan)\n",
        "# [@Morgan] use the convert convert_PNG_to_JPEG(dir_name, backgroundColour) to create the images\n",
        "# you just need to loop through every image in the folder, and randomize a R, G, B value each time\n",
        "import os\n",
        "from PIL import Image\n",
        "from random import randint \n",
        "import glob\n",
        "\n",
        "\n",
        "\n",
        "pieces_dataset_path = '/content/drive/MyDrive/APS360_Project_Group_3/pieces'\n",
        "##os.listdir(pieces_dataset_path)\n",
        "\n",
        "dir_list = next(os.walk(pieces_dataset_path))[1]\n",
        "\n",
        "\n",
        "for i in dir_list:\n",
        "  if i == \"blank\":  \n",
        "    pass\n",
        "  else:\n",
        "\n",
        "#i = \"whiteKing\"\n",
        "    count = 1\n",
        "    prefix = pieceAndColour(i)\n",
        "    aug = \"colournoise\"\n",
        "\n",
        "    path = os.path.join(pieces_dataset_path, i)\n",
        "    base = os.path.join(path,\"base\")\n",
        "    end = os.path.join(path, aug)\n",
        "\n",
        "    name_b = prefix +\"_\" + aug\n",
        "\n",
        "\n",
        "    #remove any files in there\n",
        "    remove = glob.glob(end+\"/*\")\n",
        "    for r in remove:\n",
        "      print (r)\n",
        "      os.remove(r)\n",
        "\n",
        "\n",
        "    for f in os.listdir(base):\n",
        "      name = name_b + str(count)\n",
        "\n",
        "      name = name + \".jpeg\"\n",
        "      fn = os.path.join(base,f)\n",
        "      file = os.path.join (end,name)\n",
        "      image = Image.open(fn).convert(\"RGBA\")\n",
        "      colour_R = randint(0,255)\n",
        "      colour_G = randint(0,255)\n",
        "      colour_B = randint(0,255)\n",
        "      finalColour = (colour_R, colour_G, colour_B)\n",
        "      new_image = Image.new(\"RGBA\", image.size, finalColour)\n",
        "      new_image.paste(image, mask=image)\n",
        "      new_image.convert(\"RGB\").save(file, \"JPEG\")\n",
        "      count +=1\n",
        "\n"
      ],
      "execution_count": null,
      "outputs": []
    },
    {
      "cell_type": "code",
      "metadata": {
        "colab": {
          "base_uri": "https://localhost:8080/"
        },
        "id": "5XLC7iRM02wX",
        "outputId": "545c2cbc-ca55-4ff8-8eb9-c373d20009b5"
      },
      "source": [
        "\"\"\"\n",
        "Code to mirror [Morgan]\n",
        "\"\"\"\n",
        "\n",
        "import os\n",
        "from PIL import Image, ImageOps\n",
        "from random import randint \n",
        "import glob\n",
        "\n",
        "\n",
        "\n",
        "pieces_dataset_path = '/content/drive/MyDrive/APS360_Project_Group_3/pieces'\n",
        "dir_list = next(os.walk(pieces_dataset_path))[1]\n",
        "#dir_list = [\"whiteKing\"]\n",
        "\n",
        "for i in dir_list:\n",
        "  if i == \"blank\":  \n",
        "    pass\n",
        "  else:\n",
        "    end_path = pieces_dataset_path +\"/\"+i+\"/mirror\"\n",
        "    remove = glob.glob(end_path+\"/*\")\n",
        "    for r in remove:\n",
        "      print (r)\n",
        "      os.remove(r)\n",
        "\n",
        "    prefix = pieceAndColour(i)\n",
        "    \n",
        "    aug_path = os.path.join(pieces_dataset_path, i)\n",
        "    aug_list = next(os.walk(aug_path))[1]\n",
        "\n",
        "                    \n",
        "    for aug in aug_list:\n",
        "      if aug == \"mirror\":\n",
        "        pass\n",
        "      else:\n",
        "      \n",
        "        cur_path = os.path.join(aug_path, aug)\n",
        "        count = 1\n",
        "        name_b = prefix +\"_\" + aug+\"_mirror\"\n",
        "        \n",
        "        for f in os.listdir(cur_path):\n",
        "          fn = os.path.join(cur_path,f)\n",
        "          name = name_b+str(count) + \".jpeg\"\n",
        "          im = Image.open(fn)\n",
        "          im_mirror = ImageOps.mirror(im).convert(\"RGB\")\n",
        "          dest = os.path.join (end_path, name)\n",
        "\n",
        "          im_mirror.save(dest, 'JPEG')\n",
        "          count+=1"
      ],
      "execution_count": null,
      "outputs": [
        {
          "output_type": "stream",
          "text": [
            "/content/drive/MyDrive/APS360_Project_Group_3/pieces/whiteKing/mirror/k_w_base_mirror1.jpeg\n",
            "/content/drive/MyDrive/APS360_Project_Group_3/pieces/whiteKing/mirror/k_w_colour_mirror2.jpeg\n",
            "/content/drive/MyDrive/APS360_Project_Group_3/pieces/whiteKing/mirror/k_w_colour_mirror3.jpeg\n",
            "/content/drive/MyDrive/APS360_Project_Group_3/pieces/whiteKing/mirror/k_w_colour_mirror4.jpeg\n",
            "/content/drive/MyDrive/APS360_Project_Group_3/pieces/whiteKing/mirror/k_w_colour_mirror5.jpeg\n",
            "/content/drive/MyDrive/APS360_Project_Group_3/pieces/whiteKing/mirror/k_w_colour_mirror6.jpeg\n",
            "/content/drive/MyDrive/APS360_Project_Group_3/pieces/whiteKing/mirror/k_w_colour_mirror7.jpeg\n",
            "/content/drive/MyDrive/APS360_Project_Group_3/pieces/whiteKing/mirror/k_w_colour_mirror8.jpeg\n",
            "/content/drive/MyDrive/APS360_Project_Group_3/pieces/whiteKing/mirror/k_w_colour_mirror9.jpeg\n",
            "/content/drive/MyDrive/APS360_Project_Group_3/pieces/whiteKing/mirror/k_w_colour_mirror10.jpeg\n",
            "/content/drive/MyDrive/APS360_Project_Group_3/pieces/whiteKing/mirror/k_w_colour_mirror11.jpeg\n",
            "/content/drive/MyDrive/APS360_Project_Group_3/pieces/whiteKing/mirror/k_w_colour_mirror12.jpeg\n",
            "/content/drive/MyDrive/APS360_Project_Group_3/pieces/whiteKing/mirror/k_w_colour_mirror13.jpeg\n",
            "/content/drive/MyDrive/APS360_Project_Group_3/pieces/whiteKing/mirror/k_w_colour_mirror14.jpeg\n",
            "/content/drive/MyDrive/APS360_Project_Group_3/pieces/whiteKing/mirror/k_w_colour_mirror15.jpeg\n",
            "/content/drive/MyDrive/APS360_Project_Group_3/pieces/whiteKing/mirror/k_w_colour_mirror16.jpeg\n",
            "/content/drive/MyDrive/APS360_Project_Group_3/pieces/whiteKing/mirror/k_w_colour_mirror17.jpeg\n",
            "/content/drive/MyDrive/APS360_Project_Group_3/pieces/whiteKing/mirror/k_w_colour_mirror18.jpeg\n",
            "/content/drive/MyDrive/APS360_Project_Group_3/pieces/whiteKing/mirror/k_w_colour_mirror19.jpeg\n",
            "/content/drive/MyDrive/APS360_Project_Group_3/pieces/whiteKing/mirror/k_w_colour_mirror20.jpeg\n",
            "/content/drive/MyDrive/APS360_Project_Group_3/pieces/whiteKing/mirror/k_w_colour_mirror21.jpeg\n",
            "/content/drive/MyDrive/APS360_Project_Group_3/pieces/whiteKing/mirror/k_w_colour_mirror22.jpeg\n",
            "/content/drive/MyDrive/APS360_Project_Group_3/pieces/whiteKing/mirror/k_w_colour_mirror23.jpeg\n",
            "/content/drive/MyDrive/APS360_Project_Group_3/pieces/whiteKing/mirror/k_w_colour_mirror24.jpeg\n",
            "/content/drive/MyDrive/APS360_Project_Group_3/pieces/whiteKing/mirror/k_w_colour_mirror25.jpeg\n",
            "/content/drive/MyDrive/APS360_Project_Group_3/pieces/whiteKing/mirror/k_w_colour_mirror26.jpeg\n",
            "/content/drive/MyDrive/APS360_Project_Group_3/pieces/whiteKing/mirror/k_w_colour_mirror27.jpeg\n",
            "/content/drive/MyDrive/APS360_Project_Group_3/pieces/whiteKing/mirror/k_w_colour_mirror28.jpeg\n",
            "/content/drive/MyDrive/APS360_Project_Group_3/pieces/whiteKing/mirror/k_w_colour_mirror29.jpeg\n",
            "/content/drive/MyDrive/APS360_Project_Group_3/pieces/whiteKing/mirror/k_w_colour_mirror30.jpeg\n",
            "/content/drive/MyDrive/APS360_Project_Group_3/pieces/whiteKing/mirror/k_w_colour_mirror31.jpeg\n",
            "/content/drive/MyDrive/APS360_Project_Group_3/pieces/whiteKing/mirror/k_w_colour_mirror32.jpeg\n",
            "/content/drive/MyDrive/APS360_Project_Group_3/pieces/whiteKing/mirror/k_w_noise_mirror1.jpeg\n",
            "/content/drive/MyDrive/APS360_Project_Group_3/pieces/whiteKing/mirror/k_w_noise_mirror2.jpeg\n",
            "/content/drive/MyDrive/APS360_Project_Group_3/pieces/whiteKing/mirror/k_w_noise_mirror3.jpeg\n",
            "/content/drive/MyDrive/APS360_Project_Group_3/pieces/whiteKing/mirror/k_w_noise_mirror4.jpeg\n",
            "/content/drive/MyDrive/APS360_Project_Group_3/pieces/whiteKing/mirror/k_w_noise_mirror5.jpeg\n",
            "/content/drive/MyDrive/APS360_Project_Group_3/pieces/whiteKing/mirror/k_w_noise_mirror6.jpeg\n",
            "/content/drive/MyDrive/APS360_Project_Group_3/pieces/whiteKing/mirror/k_w_noise_mirror7.jpeg\n",
            "/content/drive/MyDrive/APS360_Project_Group_3/pieces/whiteKing/mirror/k_w_noise_mirror8.jpeg\n",
            "/content/drive/MyDrive/APS360_Project_Group_3/pieces/whiteKing/mirror/k_w_noise_mirror9.jpeg\n",
            "/content/drive/MyDrive/APS360_Project_Group_3/pieces/whiteKing/mirror/k_w_noise_mirror10.jpeg\n",
            "/content/drive/MyDrive/APS360_Project_Group_3/pieces/whiteKing/mirror/k_w_noise_mirror11.jpeg\n",
            "/content/drive/MyDrive/APS360_Project_Group_3/pieces/whiteKing/mirror/k_w_noise_mirror12.jpeg\n",
            "/content/drive/MyDrive/APS360_Project_Group_3/pieces/whiteKing/mirror/k_w_noise_mirror13.jpeg\n",
            "/content/drive/MyDrive/APS360_Project_Group_3/pieces/whiteKing/mirror/k_w_noise_mirror14.jpeg\n",
            "/content/drive/MyDrive/APS360_Project_Group_3/pieces/whiteKing/mirror/k_w_noise_mirror15.jpeg\n",
            "/content/drive/MyDrive/APS360_Project_Group_3/pieces/whiteKing/mirror/k_w_noise_mirror16.jpeg\n",
            "/content/drive/MyDrive/APS360_Project_Group_3/pieces/whiteKing/mirror/k_w_noise_mirror17.jpeg\n",
            "/content/drive/MyDrive/APS360_Project_Group_3/pieces/whiteKing/mirror/k_w_noise_mirror18.jpeg\n",
            "/content/drive/MyDrive/APS360_Project_Group_3/pieces/whiteKing/mirror/k_w_noise_mirror19.jpeg\n",
            "/content/drive/MyDrive/APS360_Project_Group_3/pieces/whiteKing/mirror/k_w_noise_mirror20.jpeg\n",
            "/content/drive/MyDrive/APS360_Project_Group_3/pieces/whiteKing/mirror/k_w_noise_mirror21.jpeg\n",
            "/content/drive/MyDrive/APS360_Project_Group_3/pieces/whiteKing/mirror/k_w_noise_mirror22.jpeg\n",
            "/content/drive/MyDrive/APS360_Project_Group_3/pieces/whiteKing/mirror/k_w_noise_mirror23.jpeg\n",
            "/content/drive/MyDrive/APS360_Project_Group_3/pieces/whiteKing/mirror/k_w_noise_mirror24.jpeg\n",
            "/content/drive/MyDrive/APS360_Project_Group_3/pieces/whiteKing/mirror/k_w_noise_mirror25.jpeg\n",
            "/content/drive/MyDrive/APS360_Project_Group_3/pieces/whiteKing/mirror/k_w_noise_mirror26.jpeg\n",
            "/content/drive/MyDrive/APS360_Project_Group_3/pieces/whiteKing/mirror/k_w_noise_mirror27.jpeg\n",
            "/content/drive/MyDrive/APS360_Project_Group_3/pieces/whiteKing/mirror/k_w_noise_mirror28.jpeg\n",
            "/content/drive/MyDrive/APS360_Project_Group_3/pieces/whiteKing/mirror/k_w_noise_mirror29.jpeg\n",
            "/content/drive/MyDrive/APS360_Project_Group_3/pieces/whiteKing/mirror/k_w_noise_mirror30.jpeg\n",
            "/content/drive/MyDrive/APS360_Project_Group_3/pieces/whiteKing/mirror/k_w_noise_mirror31.jpeg\n",
            "/content/drive/MyDrive/APS360_Project_Group_3/pieces/whiteKing/mirror/k_w_noise_mirror32.jpeg\n",
            "/content/drive/MyDrive/APS360_Project_Group_3/pieces/whiteKing/mirror/k_w_colournoise_mirror1.jpeg\n",
            "/content/drive/MyDrive/APS360_Project_Group_3/pieces/whiteKing/mirror/k_w_colournoise_mirror2.jpeg\n",
            "/content/drive/MyDrive/APS360_Project_Group_3/pieces/whiteKing/mirror/k_w_colournoise_mirror3.jpeg\n",
            "/content/drive/MyDrive/APS360_Project_Group_3/pieces/whiteKing/mirror/k_w_colournoise_mirror4.jpeg\n",
            "/content/drive/MyDrive/APS360_Project_Group_3/pieces/whiteKing/mirror/k_w_colournoise_mirror5.jpeg\n",
            "/content/drive/MyDrive/APS360_Project_Group_3/pieces/whiteKing/mirror/k_w_colournoise_mirror6.jpeg\n",
            "/content/drive/MyDrive/APS360_Project_Group_3/pieces/whiteKing/mirror/k_w_colournoise_mirror7.jpeg\n",
            "/content/drive/MyDrive/APS360_Project_Group_3/pieces/whiteKing/mirror/k_w_colournoise_mirror8.jpeg\n",
            "/content/drive/MyDrive/APS360_Project_Group_3/pieces/whiteKing/mirror/k_w_colournoise_mirror9.jpeg\n",
            "/content/drive/MyDrive/APS360_Project_Group_3/pieces/whiteKing/mirror/k_w_colournoise_mirror10.jpeg\n",
            "/content/drive/MyDrive/APS360_Project_Group_3/pieces/whiteKing/mirror/k_w_colournoise_mirror11.jpeg\n",
            "/content/drive/MyDrive/APS360_Project_Group_3/pieces/whiteKing/mirror/k_w_colournoise_mirror12.jpeg\n",
            "/content/drive/MyDrive/APS360_Project_Group_3/pieces/whiteKing/mirror/k_w_colournoise_mirror13.jpeg\n",
            "/content/drive/MyDrive/APS360_Project_Group_3/pieces/whiteKing/mirror/k_w_colournoise_mirror14.jpeg\n",
            "/content/drive/MyDrive/APS360_Project_Group_3/pieces/whiteKing/mirror/k_w_colournoise_mirror15.jpeg\n",
            "/content/drive/MyDrive/APS360_Project_Group_3/pieces/whiteKing/mirror/k_w_colournoise_mirror16.jpeg\n",
            "/content/drive/MyDrive/APS360_Project_Group_3/pieces/whiteKing/mirror/k_w_colournoise_mirror17.jpeg\n",
            "/content/drive/MyDrive/APS360_Project_Group_3/pieces/whiteKing/mirror/k_w_colournoise_mirror18.jpeg\n",
            "/content/drive/MyDrive/APS360_Project_Group_3/pieces/whiteKing/mirror/k_w_colournoise_mirror19.jpeg\n",
            "/content/drive/MyDrive/APS360_Project_Group_3/pieces/whiteKing/mirror/k_w_colournoise_mirror20.jpeg\n",
            "/content/drive/MyDrive/APS360_Project_Group_3/pieces/whiteKing/mirror/k_w_colournoise_mirror21.jpeg\n",
            "/content/drive/MyDrive/APS360_Project_Group_3/pieces/whiteKing/mirror/k_w_colournoise_mirror22.jpeg\n",
            "/content/drive/MyDrive/APS360_Project_Group_3/pieces/whiteKing/mirror/k_w_colournoise_mirror23.jpeg\n",
            "/content/drive/MyDrive/APS360_Project_Group_3/pieces/whiteKing/mirror/k_w_colournoise_mirror24.jpeg\n",
            "/content/drive/MyDrive/APS360_Project_Group_3/pieces/whiteKing/mirror/k_w_colournoise_mirror25.jpeg\n",
            "/content/drive/MyDrive/APS360_Project_Group_3/pieces/whiteKing/mirror/k_w_colournoise_mirror26.jpeg\n",
            "/content/drive/MyDrive/APS360_Project_Group_3/pieces/whiteKing/mirror/k_w_colournoise_mirror27.jpeg\n",
            "/content/drive/MyDrive/APS360_Project_Group_3/pieces/whiteKing/mirror/k_w_colournoise_mirror28.jpeg\n",
            "/content/drive/MyDrive/APS360_Project_Group_3/pieces/whiteKing/mirror/k_w_colournoise_mirror29.jpeg\n",
            "/content/drive/MyDrive/APS360_Project_Group_3/pieces/whiteKing/mirror/k_w_colournoise_mirror30.jpeg\n",
            "/content/drive/MyDrive/APS360_Project_Group_3/pieces/whiteKing/mirror/k_w_colournoise_mirror31.jpeg\n",
            "/content/drive/MyDrive/APS360_Project_Group_3/pieces/whiteKing/mirror/k_w_colournoise_mirror32.jpeg\n",
            "/content/drive/MyDrive/APS360_Project_Group_3/pieces/whiteKing/mirror/k_w_colour_mirror1.jpeg\n",
            "/content/drive/MyDrive/APS360_Project_Group_3/pieces/blackPawn/mirror/p_b_mirror1.jpeg\n",
            "/content/drive/MyDrive/APS360_Project_Group_3/pieces/blackPawn/mirror/p_b_mirror2.jpeg\n",
            "/content/drive/MyDrive/APS360_Project_Group_3/pieces/blackPawn/mirror/p_b_mirror3.jpeg\n",
            "/content/drive/MyDrive/APS360_Project_Group_3/pieces/blackPawn/mirror/p_b_mirror4.jpeg\n",
            "/content/drive/MyDrive/APS360_Project_Group_3/pieces/blackPawn/mirror/p_b_mirror5.jpeg\n",
            "/content/drive/MyDrive/APS360_Project_Group_3/pieces/blackPawn/mirror/p_b_mirror6.jpeg\n",
            "/content/drive/MyDrive/APS360_Project_Group_3/pieces/blackPawn/mirror/p_b_mirror7.jpeg\n",
            "/content/drive/MyDrive/APS360_Project_Group_3/pieces/blackPawn/mirror/p_b_mirror8.jpeg\n",
            "/content/drive/MyDrive/APS360_Project_Group_3/pieces/blackPawn/mirror/p_b_mirror9.jpeg\n",
            "/content/drive/MyDrive/APS360_Project_Group_3/pieces/blackPawn/mirror/p_b_mirror10.jpeg\n",
            "/content/drive/MyDrive/APS360_Project_Group_3/pieces/blackPawn/mirror/p_b_mirror11.jpeg\n",
            "/content/drive/MyDrive/APS360_Project_Group_3/pieces/blackPawn/mirror/p_b_mirror12.jpeg\n",
            "/content/drive/MyDrive/APS360_Project_Group_3/pieces/blackPawn/mirror/p_b_mirror13.jpeg\n",
            "/content/drive/MyDrive/APS360_Project_Group_3/pieces/blackPawn/mirror/p_b_mirror14.jpeg\n",
            "/content/drive/MyDrive/APS360_Project_Group_3/pieces/blackPawn/mirror/p_b_mirror15.jpeg\n",
            "/content/drive/MyDrive/APS360_Project_Group_3/pieces/blackPawn/mirror/p_b_mirror16.jpeg\n",
            "/content/drive/MyDrive/APS360_Project_Group_3/pieces/blackPawn/mirror/p_b_mirror17.jpeg\n",
            "/content/drive/MyDrive/APS360_Project_Group_3/pieces/blackPawn/mirror/p_b_mirror18.jpeg\n",
            "/content/drive/MyDrive/APS360_Project_Group_3/pieces/blackPawn/mirror/p_b_mirror19.jpeg\n",
            "/content/drive/MyDrive/APS360_Project_Group_3/pieces/blackPawn/mirror/p_b_mirror20.jpeg\n",
            "/content/drive/MyDrive/APS360_Project_Group_3/pieces/blackPawn/mirror/p_b_mirror21.jpeg\n",
            "/content/drive/MyDrive/APS360_Project_Group_3/pieces/blackPawn/mirror/p_b_mirror22.jpeg\n",
            "/content/drive/MyDrive/APS360_Project_Group_3/pieces/blackPawn/mirror/p_b_mirror23.jpeg\n",
            "/content/drive/MyDrive/APS360_Project_Group_3/pieces/blackPawn/mirror/p_b_mirror24.jpeg\n",
            "/content/drive/MyDrive/APS360_Project_Group_3/pieces/blackPawn/mirror/p_b_mirror25.jpeg\n",
            "/content/drive/MyDrive/APS360_Project_Group_3/pieces/blackPawn/mirror/p_b_mirror26.jpeg\n",
            "/content/drive/MyDrive/APS360_Project_Group_3/pieces/blackPawn/mirror/p_b_mirror27.jpeg\n",
            "/content/drive/MyDrive/APS360_Project_Group_3/pieces/blackPawn/mirror/p_b_mirror28.jpeg\n",
            "/content/drive/MyDrive/APS360_Project_Group_3/pieces/blackPawn/mirror/p_b_mirror29.jpeg\n",
            "/content/drive/MyDrive/APS360_Project_Group_3/pieces/blackPawn/mirror/p_b_mirror30.jpeg\n",
            "/content/drive/MyDrive/APS360_Project_Group_3/pieces/blackPawn/mirror/p_b_mirror31.jpeg\n",
            "/content/drive/MyDrive/APS360_Project_Group_3/pieces/blackPawn/mirror/p_b_mirror32.jpeg\n",
            "/content/drive/MyDrive/APS360_Project_Group_3/pieces/blackBishop/mirror/b_b_mirror1.jpeg\n",
            "/content/drive/MyDrive/APS360_Project_Group_3/pieces/blackBishop/mirror/b_b_mirror2.jpeg\n",
            "/content/drive/MyDrive/APS360_Project_Group_3/pieces/blackBishop/mirror/b_b_mirror3.jpeg\n",
            "/content/drive/MyDrive/APS360_Project_Group_3/pieces/blackBishop/mirror/b_b_mirror4.jpeg\n",
            "/content/drive/MyDrive/APS360_Project_Group_3/pieces/blackBishop/mirror/b_b_mirror5.jpeg\n",
            "/content/drive/MyDrive/APS360_Project_Group_3/pieces/blackBishop/mirror/b_b_mirror6.jpeg\n",
            "/content/drive/MyDrive/APS360_Project_Group_3/pieces/blackBishop/mirror/b_b_mirror7.jpeg\n",
            "/content/drive/MyDrive/APS360_Project_Group_3/pieces/blackBishop/mirror/b_b_mirror8.jpeg\n",
            "/content/drive/MyDrive/APS360_Project_Group_3/pieces/blackBishop/mirror/b_b_mirror9.jpeg\n",
            "/content/drive/MyDrive/APS360_Project_Group_3/pieces/blackBishop/mirror/b_b_mirror10.jpeg\n",
            "/content/drive/MyDrive/APS360_Project_Group_3/pieces/blackBishop/mirror/b_b_mirror11.jpeg\n",
            "/content/drive/MyDrive/APS360_Project_Group_3/pieces/blackBishop/mirror/b_b_mirror12.jpeg\n",
            "/content/drive/MyDrive/APS360_Project_Group_3/pieces/blackBishop/mirror/b_b_mirror13.jpeg\n",
            "/content/drive/MyDrive/APS360_Project_Group_3/pieces/blackBishop/mirror/b_b_mirror14.jpeg\n",
            "/content/drive/MyDrive/APS360_Project_Group_3/pieces/blackBishop/mirror/b_b_mirror15.jpeg\n",
            "/content/drive/MyDrive/APS360_Project_Group_3/pieces/blackBishop/mirror/b_b_mirror16.jpeg\n",
            "/content/drive/MyDrive/APS360_Project_Group_3/pieces/blackBishop/mirror/b_b_mirror17.jpeg\n",
            "/content/drive/MyDrive/APS360_Project_Group_3/pieces/blackBishop/mirror/b_b_mirror18.jpeg\n",
            "/content/drive/MyDrive/APS360_Project_Group_3/pieces/blackBishop/mirror/b_b_mirror19.jpeg\n",
            "/content/drive/MyDrive/APS360_Project_Group_3/pieces/blackBishop/mirror/b_b_mirror20.jpeg\n",
            "/content/drive/MyDrive/APS360_Project_Group_3/pieces/blackBishop/mirror/b_b_mirror21.jpeg\n",
            "/content/drive/MyDrive/APS360_Project_Group_3/pieces/blackBishop/mirror/b_b_mirror22.jpeg\n",
            "/content/drive/MyDrive/APS360_Project_Group_3/pieces/blackBishop/mirror/b_b_mirror23.jpeg\n",
            "/content/drive/MyDrive/APS360_Project_Group_3/pieces/blackBishop/mirror/b_b_mirror24.jpeg\n",
            "/content/drive/MyDrive/APS360_Project_Group_3/pieces/blackBishop/mirror/b_b_mirror25.jpeg\n",
            "/content/drive/MyDrive/APS360_Project_Group_3/pieces/blackBishop/mirror/b_b_mirror26.jpeg\n",
            "/content/drive/MyDrive/APS360_Project_Group_3/pieces/blackBishop/mirror/b_b_mirror27.jpeg\n",
            "/content/drive/MyDrive/APS360_Project_Group_3/pieces/blackBishop/mirror/b_b_mirror28.jpeg\n",
            "/content/drive/MyDrive/APS360_Project_Group_3/pieces/blackBishop/mirror/b_b_mirror29.jpeg\n",
            "/content/drive/MyDrive/APS360_Project_Group_3/pieces/blackBishop/mirror/b_b_mirror30.jpeg\n",
            "/content/drive/MyDrive/APS360_Project_Group_3/pieces/blackBishop/mirror/b_b_mirror31.jpeg\n",
            "/content/drive/MyDrive/APS360_Project_Group_3/pieces/blackBishop/mirror/b_b_mirror32.jpeg\n",
            "/content/drive/MyDrive/APS360_Project_Group_3/pieces/blackRook/mirror/r_b_mirror1.jpeg\n",
            "/content/drive/MyDrive/APS360_Project_Group_3/pieces/blackRook/mirror/r_b_mirror2.jpeg\n",
            "/content/drive/MyDrive/APS360_Project_Group_3/pieces/blackRook/mirror/r_b_mirror3.jpeg\n",
            "/content/drive/MyDrive/APS360_Project_Group_3/pieces/blackRook/mirror/r_b_mirror4.jpeg\n",
            "/content/drive/MyDrive/APS360_Project_Group_3/pieces/blackRook/mirror/r_b_mirror5.jpeg\n",
            "/content/drive/MyDrive/APS360_Project_Group_3/pieces/blackRook/mirror/r_b_mirror6.jpeg\n",
            "/content/drive/MyDrive/APS360_Project_Group_3/pieces/blackRook/mirror/r_b_mirror7.jpeg\n",
            "/content/drive/MyDrive/APS360_Project_Group_3/pieces/blackRook/mirror/r_b_mirror8.jpeg\n",
            "/content/drive/MyDrive/APS360_Project_Group_3/pieces/blackRook/mirror/r_b_mirror9.jpeg\n",
            "/content/drive/MyDrive/APS360_Project_Group_3/pieces/blackRook/mirror/r_b_mirror10.jpeg\n",
            "/content/drive/MyDrive/APS360_Project_Group_3/pieces/blackRook/mirror/r_b_mirror11.jpeg\n",
            "/content/drive/MyDrive/APS360_Project_Group_3/pieces/blackRook/mirror/r_b_mirror12.jpeg\n",
            "/content/drive/MyDrive/APS360_Project_Group_3/pieces/blackRook/mirror/r_b_mirror13.jpeg\n",
            "/content/drive/MyDrive/APS360_Project_Group_3/pieces/blackRook/mirror/r_b_mirror14.jpeg\n",
            "/content/drive/MyDrive/APS360_Project_Group_3/pieces/blackRook/mirror/r_b_mirror15.jpeg\n",
            "/content/drive/MyDrive/APS360_Project_Group_3/pieces/blackRook/mirror/r_b_mirror16.jpeg\n",
            "/content/drive/MyDrive/APS360_Project_Group_3/pieces/blackRook/mirror/r_b_mirror17.jpeg\n",
            "/content/drive/MyDrive/APS360_Project_Group_3/pieces/blackRook/mirror/r_b_mirror18.jpeg\n",
            "/content/drive/MyDrive/APS360_Project_Group_3/pieces/blackRook/mirror/r_b_mirror19.jpeg\n",
            "/content/drive/MyDrive/APS360_Project_Group_3/pieces/blackRook/mirror/r_b_mirror20.jpeg\n",
            "/content/drive/MyDrive/APS360_Project_Group_3/pieces/blackRook/mirror/r_b_mirror21.jpeg\n",
            "/content/drive/MyDrive/APS360_Project_Group_3/pieces/blackRook/mirror/r_b_mirror22.jpeg\n",
            "/content/drive/MyDrive/APS360_Project_Group_3/pieces/blackRook/mirror/r_b_mirror23.jpeg\n",
            "/content/drive/MyDrive/APS360_Project_Group_3/pieces/blackRook/mirror/r_b_mirror24.jpeg\n",
            "/content/drive/MyDrive/APS360_Project_Group_3/pieces/blackRook/mirror/r_b_mirror25.jpeg\n",
            "/content/drive/MyDrive/APS360_Project_Group_3/pieces/blackRook/mirror/r_b_mirror26.jpeg\n",
            "/content/drive/MyDrive/APS360_Project_Group_3/pieces/blackRook/mirror/r_b_mirror27.jpeg\n",
            "/content/drive/MyDrive/APS360_Project_Group_3/pieces/blackRook/mirror/r_b_mirror28.jpeg\n",
            "/content/drive/MyDrive/APS360_Project_Group_3/pieces/blackRook/mirror/r_b_mirror29.jpeg\n",
            "/content/drive/MyDrive/APS360_Project_Group_3/pieces/blackRook/mirror/r_b_mirror30.jpeg\n",
            "/content/drive/MyDrive/APS360_Project_Group_3/pieces/blackRook/mirror/r_b_mirror31.jpeg\n",
            "/content/drive/MyDrive/APS360_Project_Group_3/pieces/blackRook/mirror/r_b_mirror32.jpeg\n",
            "/content/drive/MyDrive/APS360_Project_Group_3/pieces/blackKnight/mirror/n_b_mirror1.jpeg\n",
            "/content/drive/MyDrive/APS360_Project_Group_3/pieces/blackKnight/mirror/n_b_mirror2.jpeg\n",
            "/content/drive/MyDrive/APS360_Project_Group_3/pieces/blackKnight/mirror/n_b_mirror3.jpeg\n",
            "/content/drive/MyDrive/APS360_Project_Group_3/pieces/blackKnight/mirror/n_b_mirror4.jpeg\n",
            "/content/drive/MyDrive/APS360_Project_Group_3/pieces/blackKnight/mirror/n_b_mirror5.jpeg\n",
            "/content/drive/MyDrive/APS360_Project_Group_3/pieces/blackKnight/mirror/n_b_mirror6.jpeg\n",
            "/content/drive/MyDrive/APS360_Project_Group_3/pieces/blackKnight/mirror/n_b_mirror7.jpeg\n",
            "/content/drive/MyDrive/APS360_Project_Group_3/pieces/blackKnight/mirror/n_b_mirror8.jpeg\n",
            "/content/drive/MyDrive/APS360_Project_Group_3/pieces/blackKnight/mirror/n_b_mirror9.jpeg\n",
            "/content/drive/MyDrive/APS360_Project_Group_3/pieces/blackKnight/mirror/n_b_mirror10.jpeg\n",
            "/content/drive/MyDrive/APS360_Project_Group_3/pieces/blackKnight/mirror/n_b_mirror11.jpeg\n",
            "/content/drive/MyDrive/APS360_Project_Group_3/pieces/blackKnight/mirror/n_b_mirror12.jpeg\n",
            "/content/drive/MyDrive/APS360_Project_Group_3/pieces/blackKnight/mirror/n_b_mirror13.jpeg\n",
            "/content/drive/MyDrive/APS360_Project_Group_3/pieces/blackKnight/mirror/n_b_mirror14.jpeg\n",
            "/content/drive/MyDrive/APS360_Project_Group_3/pieces/blackKnight/mirror/n_b_mirror15.jpeg\n",
            "/content/drive/MyDrive/APS360_Project_Group_3/pieces/blackKnight/mirror/n_b_mirror16.jpeg\n",
            "/content/drive/MyDrive/APS360_Project_Group_3/pieces/blackKnight/mirror/n_b_mirror17.jpeg\n",
            "/content/drive/MyDrive/APS360_Project_Group_3/pieces/blackKnight/mirror/n_b_mirror18.jpeg\n",
            "/content/drive/MyDrive/APS360_Project_Group_3/pieces/blackKnight/mirror/n_b_mirror19.jpeg\n",
            "/content/drive/MyDrive/APS360_Project_Group_3/pieces/blackKnight/mirror/n_b_mirror20.jpeg\n",
            "/content/drive/MyDrive/APS360_Project_Group_3/pieces/blackKnight/mirror/n_b_mirror21.jpeg\n",
            "/content/drive/MyDrive/APS360_Project_Group_3/pieces/blackKnight/mirror/n_b_mirror22.jpeg\n",
            "/content/drive/MyDrive/APS360_Project_Group_3/pieces/blackKnight/mirror/n_b_mirror23.jpeg\n",
            "/content/drive/MyDrive/APS360_Project_Group_3/pieces/blackKnight/mirror/n_b_mirror24.jpeg\n",
            "/content/drive/MyDrive/APS360_Project_Group_3/pieces/blackKnight/mirror/n_b_mirror25.jpeg\n",
            "/content/drive/MyDrive/APS360_Project_Group_3/pieces/blackKnight/mirror/n_b_mirror26.jpeg\n",
            "/content/drive/MyDrive/APS360_Project_Group_3/pieces/blackKnight/mirror/n_b_mirror27.jpeg\n",
            "/content/drive/MyDrive/APS360_Project_Group_3/pieces/blackKnight/mirror/n_b_mirror28.jpeg\n",
            "/content/drive/MyDrive/APS360_Project_Group_3/pieces/blackKnight/mirror/n_b_mirror29.jpeg\n",
            "/content/drive/MyDrive/APS360_Project_Group_3/pieces/blackKnight/mirror/n_b_mirror30.jpeg\n",
            "/content/drive/MyDrive/APS360_Project_Group_3/pieces/blackKnight/mirror/n_b_mirror31.jpeg\n",
            "/content/drive/MyDrive/APS360_Project_Group_3/pieces/blackKnight/mirror/n_b_mirror32.jpeg\n",
            "/content/drive/MyDrive/APS360_Project_Group_3/pieces/blackQueen/mirror/q_b_mirror1.jpeg\n",
            "/content/drive/MyDrive/APS360_Project_Group_3/pieces/blackQueen/mirror/q_b_mirror2.jpeg\n",
            "/content/drive/MyDrive/APS360_Project_Group_3/pieces/blackQueen/mirror/q_b_mirror3.jpeg\n",
            "/content/drive/MyDrive/APS360_Project_Group_3/pieces/blackQueen/mirror/q_b_mirror4.jpeg\n",
            "/content/drive/MyDrive/APS360_Project_Group_3/pieces/blackQueen/mirror/q_b_mirror5.jpeg\n",
            "/content/drive/MyDrive/APS360_Project_Group_3/pieces/blackQueen/mirror/q_b_mirror6.jpeg\n",
            "/content/drive/MyDrive/APS360_Project_Group_3/pieces/blackQueen/mirror/q_b_mirror7.jpeg\n",
            "/content/drive/MyDrive/APS360_Project_Group_3/pieces/blackQueen/mirror/q_b_mirror8.jpeg\n",
            "/content/drive/MyDrive/APS360_Project_Group_3/pieces/blackQueen/mirror/q_b_mirror9.jpeg\n",
            "/content/drive/MyDrive/APS360_Project_Group_3/pieces/blackQueen/mirror/q_b_mirror10.jpeg\n",
            "/content/drive/MyDrive/APS360_Project_Group_3/pieces/blackQueen/mirror/q_b_mirror11.jpeg\n",
            "/content/drive/MyDrive/APS360_Project_Group_3/pieces/blackQueen/mirror/q_b_mirror12.jpeg\n",
            "/content/drive/MyDrive/APS360_Project_Group_3/pieces/blackQueen/mirror/q_b_mirror13.jpeg\n",
            "/content/drive/MyDrive/APS360_Project_Group_3/pieces/blackQueen/mirror/q_b_mirror14.jpeg\n",
            "/content/drive/MyDrive/APS360_Project_Group_3/pieces/blackQueen/mirror/q_b_mirror15.jpeg\n",
            "/content/drive/MyDrive/APS360_Project_Group_3/pieces/blackQueen/mirror/q_b_mirror16.jpeg\n",
            "/content/drive/MyDrive/APS360_Project_Group_3/pieces/blackQueen/mirror/q_b_mirror17.jpeg\n",
            "/content/drive/MyDrive/APS360_Project_Group_3/pieces/blackQueen/mirror/q_b_mirror18.jpeg\n",
            "/content/drive/MyDrive/APS360_Project_Group_3/pieces/blackQueen/mirror/q_b_mirror19.jpeg\n",
            "/content/drive/MyDrive/APS360_Project_Group_3/pieces/blackQueen/mirror/q_b_mirror20.jpeg\n",
            "/content/drive/MyDrive/APS360_Project_Group_3/pieces/blackQueen/mirror/q_b_mirror21.jpeg\n",
            "/content/drive/MyDrive/APS360_Project_Group_3/pieces/blackQueen/mirror/q_b_mirror22.jpeg\n",
            "/content/drive/MyDrive/APS360_Project_Group_3/pieces/blackQueen/mirror/q_b_mirror23.jpeg\n",
            "/content/drive/MyDrive/APS360_Project_Group_3/pieces/blackQueen/mirror/q_b_mirror24.jpeg\n",
            "/content/drive/MyDrive/APS360_Project_Group_3/pieces/blackQueen/mirror/q_b_mirror25.jpeg\n",
            "/content/drive/MyDrive/APS360_Project_Group_3/pieces/blackQueen/mirror/q_b_mirror26.jpeg\n",
            "/content/drive/MyDrive/APS360_Project_Group_3/pieces/blackQueen/mirror/q_b_mirror27.jpeg\n",
            "/content/drive/MyDrive/APS360_Project_Group_3/pieces/blackQueen/mirror/q_b_mirror28.jpeg\n",
            "/content/drive/MyDrive/APS360_Project_Group_3/pieces/blackQueen/mirror/q_b_mirror29.jpeg\n",
            "/content/drive/MyDrive/APS360_Project_Group_3/pieces/blackQueen/mirror/q_b_mirror30.jpeg\n",
            "/content/drive/MyDrive/APS360_Project_Group_3/pieces/blackQueen/mirror/q_b_mirror31.jpeg\n",
            "/content/drive/MyDrive/APS360_Project_Group_3/pieces/blackQueen/mirror/q_b_mirror32.jpeg\n",
            "/content/drive/MyDrive/APS360_Project_Group_3/pieces/blackKing/mirror/k_b_mirror1.jpeg\n",
            "/content/drive/MyDrive/APS360_Project_Group_3/pieces/blackKing/mirror/k_b_mirror2.jpeg\n",
            "/content/drive/MyDrive/APS360_Project_Group_3/pieces/blackKing/mirror/k_b_mirror3.jpeg\n",
            "/content/drive/MyDrive/APS360_Project_Group_3/pieces/blackKing/mirror/k_b_mirror4.jpeg\n",
            "/content/drive/MyDrive/APS360_Project_Group_3/pieces/blackKing/mirror/k_b_mirror5.jpeg\n",
            "/content/drive/MyDrive/APS360_Project_Group_3/pieces/blackKing/mirror/k_b_mirror6.jpeg\n",
            "/content/drive/MyDrive/APS360_Project_Group_3/pieces/blackKing/mirror/k_b_mirror7.jpeg\n",
            "/content/drive/MyDrive/APS360_Project_Group_3/pieces/blackKing/mirror/k_b_mirror8.jpeg\n",
            "/content/drive/MyDrive/APS360_Project_Group_3/pieces/blackKing/mirror/k_b_mirror9.jpeg\n",
            "/content/drive/MyDrive/APS360_Project_Group_3/pieces/blackKing/mirror/k_b_mirror10.jpeg\n",
            "/content/drive/MyDrive/APS360_Project_Group_3/pieces/blackKing/mirror/k_b_mirror11.jpeg\n",
            "/content/drive/MyDrive/APS360_Project_Group_3/pieces/blackKing/mirror/k_b_mirror12.jpeg\n",
            "/content/drive/MyDrive/APS360_Project_Group_3/pieces/blackKing/mirror/k_b_mirror13.jpeg\n",
            "/content/drive/MyDrive/APS360_Project_Group_3/pieces/blackKing/mirror/k_b_mirror14.jpeg\n",
            "/content/drive/MyDrive/APS360_Project_Group_3/pieces/blackKing/mirror/k_b_mirror15.jpeg\n",
            "/content/drive/MyDrive/APS360_Project_Group_3/pieces/blackKing/mirror/k_b_mirror16.jpeg\n",
            "/content/drive/MyDrive/APS360_Project_Group_3/pieces/blackKing/mirror/k_b_mirror17.jpeg\n",
            "/content/drive/MyDrive/APS360_Project_Group_3/pieces/blackKing/mirror/k_b_mirror18.jpeg\n",
            "/content/drive/MyDrive/APS360_Project_Group_3/pieces/blackKing/mirror/k_b_mirror19.jpeg\n",
            "/content/drive/MyDrive/APS360_Project_Group_3/pieces/blackKing/mirror/k_b_mirror20.jpeg\n",
            "/content/drive/MyDrive/APS360_Project_Group_3/pieces/blackKing/mirror/k_b_mirror21.jpeg\n",
            "/content/drive/MyDrive/APS360_Project_Group_3/pieces/blackKing/mirror/k_b_mirror22.jpeg\n",
            "/content/drive/MyDrive/APS360_Project_Group_3/pieces/blackKing/mirror/k_b_mirror23.jpeg\n",
            "/content/drive/MyDrive/APS360_Project_Group_3/pieces/blackKing/mirror/k_b_mirror24.jpeg\n",
            "/content/drive/MyDrive/APS360_Project_Group_3/pieces/blackKing/mirror/k_b_mirror25.jpeg\n",
            "/content/drive/MyDrive/APS360_Project_Group_3/pieces/blackKing/mirror/k_b_mirror26.jpeg\n",
            "/content/drive/MyDrive/APS360_Project_Group_3/pieces/blackKing/mirror/k_b_mirror27.jpeg\n",
            "/content/drive/MyDrive/APS360_Project_Group_3/pieces/blackKing/mirror/k_b_mirror28.jpeg\n",
            "/content/drive/MyDrive/APS360_Project_Group_3/pieces/blackKing/mirror/k_b_mirror29.jpeg\n",
            "/content/drive/MyDrive/APS360_Project_Group_3/pieces/blackKing/mirror/k_b_mirror30.jpeg\n",
            "/content/drive/MyDrive/APS360_Project_Group_3/pieces/blackKing/mirror/k_b_mirror31.jpeg\n",
            "/content/drive/MyDrive/APS360_Project_Group_3/pieces/blackKing/mirror/k_b_mirror32.jpeg\n",
            "/content/drive/MyDrive/APS360_Project_Group_3/pieces/blackKing/mirror/k_b_mirror33.jpeg\n",
            "/content/drive/MyDrive/APS360_Project_Group_3/pieces/blackKing/mirror/k_b_mirror34.jpeg\n",
            "/content/drive/MyDrive/APS360_Project_Group_3/pieces/blackKing/mirror/k_b_mirror35.jpeg\n",
            "/content/drive/MyDrive/APS360_Project_Group_3/pieces/blackKing/mirror/k_b_mirror36.jpeg\n",
            "/content/drive/MyDrive/APS360_Project_Group_3/pieces/blackKing/mirror/k_b_mirror37.jpeg\n",
            "/content/drive/MyDrive/APS360_Project_Group_3/pieces/blackKing/mirror/k_b_mirror38.jpeg\n",
            "/content/drive/MyDrive/APS360_Project_Group_3/pieces/blackKing/mirror/k_b_mirror39.jpeg\n",
            "/content/drive/MyDrive/APS360_Project_Group_3/pieces/blackKing/mirror/k_b_mirror40.jpeg\n",
            "/content/drive/MyDrive/APS360_Project_Group_3/pieces/blackKing/mirror/k_b_mirror41.jpeg\n",
            "/content/drive/MyDrive/APS360_Project_Group_3/pieces/blackKing/mirror/k_b_mirror42.jpeg\n",
            "/content/drive/MyDrive/APS360_Project_Group_3/pieces/blackKing/mirror/k_b_mirror43.jpeg\n",
            "/content/drive/MyDrive/APS360_Project_Group_3/pieces/blackKing/mirror/k_b_mirror44.jpeg\n",
            "/content/drive/MyDrive/APS360_Project_Group_3/pieces/blackKing/mirror/k_b_mirror45.jpeg\n",
            "/content/drive/MyDrive/APS360_Project_Group_3/pieces/blackKing/mirror/k_b_mirror46.jpeg\n",
            "/content/drive/MyDrive/APS360_Project_Group_3/pieces/blackKing/mirror/k_b_mirror47.jpeg\n",
            "/content/drive/MyDrive/APS360_Project_Group_3/pieces/blackKing/mirror/k_b_mirror48.jpeg\n",
            "/content/drive/MyDrive/APS360_Project_Group_3/pieces/blackKing/mirror/k_b_mirror49.jpeg\n",
            "/content/drive/MyDrive/APS360_Project_Group_3/pieces/blackKing/mirror/k_b_mirror50.jpeg\n",
            "/content/drive/MyDrive/APS360_Project_Group_3/pieces/blackKing/mirror/k_b_mirror51.jpeg\n",
            "/content/drive/MyDrive/APS360_Project_Group_3/pieces/blackKing/mirror/k_b_mirror52.jpeg\n",
            "/content/drive/MyDrive/APS360_Project_Group_3/pieces/blackKing/mirror/k_b_mirror53.jpeg\n",
            "/content/drive/MyDrive/APS360_Project_Group_3/pieces/blackKing/mirror/k_b_mirror54.jpeg\n",
            "/content/drive/MyDrive/APS360_Project_Group_3/pieces/blackKing/mirror/k_b_mirror55.jpeg\n",
            "/content/drive/MyDrive/APS360_Project_Group_3/pieces/blackKing/mirror/k_b_mirror56.jpeg\n",
            "/content/drive/MyDrive/APS360_Project_Group_3/pieces/blackKing/mirror/k_b_mirror57.jpeg\n",
            "/content/drive/MyDrive/APS360_Project_Group_3/pieces/blackKing/mirror/k_b_mirror58.jpeg\n",
            "/content/drive/MyDrive/APS360_Project_Group_3/pieces/blackKing/mirror/k_b_mirror59.jpeg\n",
            "/content/drive/MyDrive/APS360_Project_Group_3/pieces/blackKing/mirror/k_b_mirror60.jpeg\n",
            "/content/drive/MyDrive/APS360_Project_Group_3/pieces/blackKing/mirror/k_b_mirror61.jpeg\n",
            "/content/drive/MyDrive/APS360_Project_Group_3/pieces/blackKing/mirror/k_b_mirror62.jpeg\n",
            "/content/drive/MyDrive/APS360_Project_Group_3/pieces/blackKing/mirror/k_b_mirror63.jpeg\n",
            "/content/drive/MyDrive/APS360_Project_Group_3/pieces/blackKing/mirror/k_b_mirror64.jpeg\n",
            "/content/drive/MyDrive/APS360_Project_Group_3/pieces/blackKing/mirror/k_b_mirror65.jpeg\n",
            "/content/drive/MyDrive/APS360_Project_Group_3/pieces/blackKing/mirror/k_b_mirror66.jpeg\n",
            "/content/drive/MyDrive/APS360_Project_Group_3/pieces/blackKing/mirror/k_b_mirror67.jpeg\n",
            "/content/drive/MyDrive/APS360_Project_Group_3/pieces/blackKing/mirror/k_b_mirror68.jpeg\n",
            "/content/drive/MyDrive/APS360_Project_Group_3/pieces/blackKing/mirror/k_b_mirror69.jpeg\n",
            "/content/drive/MyDrive/APS360_Project_Group_3/pieces/blackKing/mirror/k_b_mirror70.jpeg\n",
            "/content/drive/MyDrive/APS360_Project_Group_3/pieces/blackKing/mirror/k_b_mirror71.jpeg\n",
            "/content/drive/MyDrive/APS360_Project_Group_3/pieces/blackKing/mirror/k_b_mirror72.jpeg\n",
            "/content/drive/MyDrive/APS360_Project_Group_3/pieces/blackKing/mirror/k_b_mirror73.jpeg\n",
            "/content/drive/MyDrive/APS360_Project_Group_3/pieces/blackKing/mirror/k_b_mirror74.jpeg\n",
            "/content/drive/MyDrive/APS360_Project_Group_3/pieces/blackKing/mirror/k_b_mirror75.jpeg\n",
            "/content/drive/MyDrive/APS360_Project_Group_3/pieces/blackKing/mirror/k_b_mirror76.jpeg\n",
            "/content/drive/MyDrive/APS360_Project_Group_3/pieces/blackKing/mirror/k_b_mirror77.jpeg\n",
            "/content/drive/MyDrive/APS360_Project_Group_3/pieces/blackKing/mirror/k_b_mirror78.jpeg\n",
            "/content/drive/MyDrive/APS360_Project_Group_3/pieces/blackKing/mirror/k_b_mirror79.jpeg\n",
            "/content/drive/MyDrive/APS360_Project_Group_3/pieces/blackKing/mirror/k_b_mirror80.jpeg\n",
            "/content/drive/MyDrive/APS360_Project_Group_3/pieces/blackKing/mirror/k_b_mirror81.jpeg\n",
            "/content/drive/MyDrive/APS360_Project_Group_3/pieces/blackKing/mirror/k_b_mirror82.jpeg\n",
            "/content/drive/MyDrive/APS360_Project_Group_3/pieces/blackKing/mirror/k_b_mirror83.jpeg\n",
            "/content/drive/MyDrive/APS360_Project_Group_3/pieces/blackKing/mirror/k_b_mirror84.jpeg\n",
            "/content/drive/MyDrive/APS360_Project_Group_3/pieces/blackKing/mirror/k_b_mirror85.jpeg\n",
            "/content/drive/MyDrive/APS360_Project_Group_3/pieces/blackKing/mirror/k_b_mirror86.jpeg\n",
            "/content/drive/MyDrive/APS360_Project_Group_3/pieces/blackKing/mirror/k_b_mirror87.jpeg\n",
            "/content/drive/MyDrive/APS360_Project_Group_3/pieces/blackKing/mirror/k_b_mirror88.jpeg\n",
            "/content/drive/MyDrive/APS360_Project_Group_3/pieces/blackKing/mirror/k_b_mirror89.jpeg\n",
            "/content/drive/MyDrive/APS360_Project_Group_3/pieces/blackKing/mirror/k_b_mirror90.jpeg\n",
            "/content/drive/MyDrive/APS360_Project_Group_3/pieces/blackKing/mirror/k_b_mirror91.jpeg\n",
            "/content/drive/MyDrive/APS360_Project_Group_3/pieces/blackKing/mirror/k_b_mirror92.jpeg\n",
            "/content/drive/MyDrive/APS360_Project_Group_3/pieces/blackKing/mirror/k_b_mirror93.jpeg\n",
            "/content/drive/MyDrive/APS360_Project_Group_3/pieces/blackKing/mirror/k_b_mirror94.jpeg\n",
            "/content/drive/MyDrive/APS360_Project_Group_3/pieces/blackKing/mirror/k_b_mirror95.jpeg\n",
            "/content/drive/MyDrive/APS360_Project_Group_3/pieces/blackKing/mirror/k_b_mirror96.jpeg\n",
            "/content/drive/MyDrive/APS360_Project_Group_3/pieces/blackKing/mirror/k_b_mirror97.jpeg\n",
            "/content/drive/MyDrive/APS360_Project_Group_3/pieces/blackKing/mirror/k_b_mirror98.jpeg\n",
            "/content/drive/MyDrive/APS360_Project_Group_3/pieces/blackKing/mirror/k_b_mirror99.jpeg\n",
            "/content/drive/MyDrive/APS360_Project_Group_3/pieces/blackKing/mirror/k_b_mirror100.jpeg\n",
            "/content/drive/MyDrive/APS360_Project_Group_3/pieces/blackKing/mirror/k_b_mirror101.jpeg\n",
            "/content/drive/MyDrive/APS360_Project_Group_3/pieces/blackKing/mirror/k_b_mirror102.jpeg\n",
            "/content/drive/MyDrive/APS360_Project_Group_3/pieces/blackKing/mirror/k_b_mirror103.jpeg\n",
            "/content/drive/MyDrive/APS360_Project_Group_3/pieces/blackKing/mirror/k_b_mirror104.jpeg\n",
            "/content/drive/MyDrive/APS360_Project_Group_3/pieces/blackKing/mirror/k_b_mirror105.jpeg\n",
            "/content/drive/MyDrive/APS360_Project_Group_3/pieces/blackKing/mirror/k_b_mirror106.jpeg\n",
            "/content/drive/MyDrive/APS360_Project_Group_3/pieces/blackKing/mirror/k_b_mirror107.jpeg\n",
            "/content/drive/MyDrive/APS360_Project_Group_3/pieces/blackKing/mirror/k_b_mirror108.jpeg\n",
            "/content/drive/MyDrive/APS360_Project_Group_3/pieces/blackKing/mirror/k_b_mirror109.jpeg\n",
            "/content/drive/MyDrive/APS360_Project_Group_3/pieces/blackKing/mirror/k_b_mirror110.jpeg\n",
            "/content/drive/MyDrive/APS360_Project_Group_3/pieces/blackKing/mirror/k_b_mirror111.jpeg\n",
            "/content/drive/MyDrive/APS360_Project_Group_3/pieces/blackKing/mirror/k_b_mirror112.jpeg\n",
            "/content/drive/MyDrive/APS360_Project_Group_3/pieces/blackKing/mirror/k_b_mirror113.jpeg\n",
            "/content/drive/MyDrive/APS360_Project_Group_3/pieces/blackKing/mirror/k_b_mirror114.jpeg\n",
            "/content/drive/MyDrive/APS360_Project_Group_3/pieces/blackKing/mirror/k_b_mirror115.jpeg\n",
            "/content/drive/MyDrive/APS360_Project_Group_3/pieces/blackKing/mirror/k_b_mirror116.jpeg\n",
            "/content/drive/MyDrive/APS360_Project_Group_3/pieces/blackKing/mirror/k_b_mirror117.jpeg\n",
            "/content/drive/MyDrive/APS360_Project_Group_3/pieces/blackKing/mirror/k_b_mirror118.jpeg\n",
            "/content/drive/MyDrive/APS360_Project_Group_3/pieces/blackKing/mirror/k_b_mirror119.jpeg\n",
            "/content/drive/MyDrive/APS360_Project_Group_3/pieces/blackKing/mirror/k_b_mirror120.jpeg\n",
            "/content/drive/MyDrive/APS360_Project_Group_3/pieces/blackKing/mirror/k_b_mirror121.jpeg\n",
            "/content/drive/MyDrive/APS360_Project_Group_3/pieces/blackKing/mirror/k_b_mirror122.jpeg\n",
            "/content/drive/MyDrive/APS360_Project_Group_3/pieces/blackKing/mirror/k_b_mirror123.jpeg\n",
            "/content/drive/MyDrive/APS360_Project_Group_3/pieces/blackKing/mirror/k_b_mirror124.jpeg\n",
            "/content/drive/MyDrive/APS360_Project_Group_3/pieces/blackKing/mirror/k_b_mirror125.jpeg\n",
            "/content/drive/MyDrive/APS360_Project_Group_3/pieces/blackKing/mirror/k_b_mirror126.jpeg\n",
            "/content/drive/MyDrive/APS360_Project_Group_3/pieces/blackKing/mirror/k_b_mirror127.jpeg\n",
            "/content/drive/MyDrive/APS360_Project_Group_3/pieces/blackKing/mirror/k_b_mirror128.jpeg\n",
            "/content/drive/MyDrive/APS360_Project_Group_3/pieces/blackKing/mirror/k_b_mirror129.jpeg\n",
            "/content/drive/MyDrive/APS360_Project_Group_3/pieces/blackKing/mirror/k_b_mirror130.jpeg\n",
            "/content/drive/MyDrive/APS360_Project_Group_3/pieces/blackKing/mirror/k_b_mirror131.jpeg\n",
            "/content/drive/MyDrive/APS360_Project_Group_3/pieces/blackKing/mirror/k_b_mirror132.jpeg\n",
            "/content/drive/MyDrive/APS360_Project_Group_3/pieces/blackKing/mirror/k_b_mirror133.jpeg\n",
            "/content/drive/MyDrive/APS360_Project_Group_3/pieces/blackKing/mirror/k_b_mirror134.jpeg\n",
            "/content/drive/MyDrive/APS360_Project_Group_3/pieces/blackKing/mirror/k_b_mirror135.jpeg\n",
            "/content/drive/MyDrive/APS360_Project_Group_3/pieces/blackKing/mirror/k_b_mirror136.jpeg\n",
            "/content/drive/MyDrive/APS360_Project_Group_3/pieces/blackKing/mirror/k_b_mirror137.jpeg\n",
            "/content/drive/MyDrive/APS360_Project_Group_3/pieces/blackKing/mirror/k_b_mirror138.jpeg\n",
            "/content/drive/MyDrive/APS360_Project_Group_3/pieces/blackKing/mirror/k_b_mirror139.jpeg\n",
            "/content/drive/MyDrive/APS360_Project_Group_3/pieces/blackKing/mirror/k_b_mirror140.jpeg\n",
            "/content/drive/MyDrive/APS360_Project_Group_3/pieces/blackKing/mirror/k_b_mirror141.jpeg\n",
            "/content/drive/MyDrive/APS360_Project_Group_3/pieces/blackKing/mirror/k_b_mirror142.jpeg\n",
            "/content/drive/MyDrive/APS360_Project_Group_3/pieces/blackKing/mirror/k_b_mirror143.jpeg\n",
            "/content/drive/MyDrive/APS360_Project_Group_3/pieces/blackKing/mirror/k_b_mirror144.jpeg\n",
            "/content/drive/MyDrive/APS360_Project_Group_3/pieces/blackKing/mirror/k_b_mirror145.jpeg\n",
            "/content/drive/MyDrive/APS360_Project_Group_3/pieces/blackKing/mirror/k_b_mirror146.jpeg\n",
            "/content/drive/MyDrive/APS360_Project_Group_3/pieces/blackKing/mirror/k_b_mirror147.jpeg\n",
            "/content/drive/MyDrive/APS360_Project_Group_3/pieces/blackKing/mirror/k_b_mirror148.jpeg\n",
            "/content/drive/MyDrive/APS360_Project_Group_3/pieces/blackKing/mirror/k_b_mirror149.jpeg\n",
            "/content/drive/MyDrive/APS360_Project_Group_3/pieces/blackKing/mirror/k_b_mirror150.jpeg\n",
            "/content/drive/MyDrive/APS360_Project_Group_3/pieces/blackKing/mirror/k_b_mirror151.jpeg\n",
            "/content/drive/MyDrive/APS360_Project_Group_3/pieces/blackKing/mirror/k_b_mirror152.jpeg\n",
            "/content/drive/MyDrive/APS360_Project_Group_3/pieces/blackKing/mirror/k_b_mirror153.jpeg\n",
            "/content/drive/MyDrive/APS360_Project_Group_3/pieces/blackKing/mirror/k_b_mirror154.jpeg\n",
            "/content/drive/MyDrive/APS360_Project_Group_3/pieces/blackKing/mirror/k_b_mirror155.jpeg\n",
            "/content/drive/MyDrive/APS360_Project_Group_3/pieces/blackKing/mirror/k_b_mirror156.jpeg\n",
            "/content/drive/MyDrive/APS360_Project_Group_3/pieces/blackKing/mirror/k_b_mirror157.jpeg\n",
            "/content/drive/MyDrive/APS360_Project_Group_3/pieces/blackKing/mirror/k_b_mirror158.jpeg\n",
            "/content/drive/MyDrive/APS360_Project_Group_3/pieces/blackKing/mirror/k_b_mirror159.jpeg\n",
            "/content/drive/MyDrive/APS360_Project_Group_3/pieces/blackKing/mirror/k_b_mirror160.jpeg\n",
            "/content/drive/MyDrive/APS360_Project_Group_3/pieces/blackKing/mirror/k_b_mirror161.jpeg\n",
            "/content/drive/MyDrive/APS360_Project_Group_3/pieces/blackKing/mirror/k_b_mirror162.jpeg\n",
            "/content/drive/MyDrive/APS360_Project_Group_3/pieces/blackKing/mirror/k_b_mirror163.jpeg\n",
            "/content/drive/MyDrive/APS360_Project_Group_3/pieces/blackKing/mirror/k_b_mirror164.jpeg\n",
            "/content/drive/MyDrive/APS360_Project_Group_3/pieces/blackKing/mirror/k_b_mirror165.jpeg\n",
            "/content/drive/MyDrive/APS360_Project_Group_3/pieces/blackKing/mirror/k_b_mirror166.jpeg\n",
            "/content/drive/MyDrive/APS360_Project_Group_3/pieces/blackKing/mirror/k_b_mirror167.jpeg\n",
            "/content/drive/MyDrive/APS360_Project_Group_3/pieces/blackKing/mirror/k_b_mirror168.jpeg\n",
            "/content/drive/MyDrive/APS360_Project_Group_3/pieces/blackKing/mirror/k_b_mirror169.jpeg\n",
            "/content/drive/MyDrive/APS360_Project_Group_3/pieces/blackKing/mirror/k_b_mirror170.jpeg\n",
            "/content/drive/MyDrive/APS360_Project_Group_3/pieces/blackKing/mirror/k_b_mirror171.jpeg\n",
            "/content/drive/MyDrive/APS360_Project_Group_3/pieces/blackKing/mirror/k_b_mirror172.jpeg\n",
            "/content/drive/MyDrive/APS360_Project_Group_3/pieces/blackKing/mirror/k_b_mirror173.jpeg\n",
            "/content/drive/MyDrive/APS360_Project_Group_3/pieces/blackKing/mirror/k_b_mirror174.jpeg\n",
            "/content/drive/MyDrive/APS360_Project_Group_3/pieces/blackKing/mirror/k_b_mirror175.jpeg\n",
            "/content/drive/MyDrive/APS360_Project_Group_3/pieces/blackKing/mirror/k_b_mirror176.jpeg\n",
            "/content/drive/MyDrive/APS360_Project_Group_3/pieces/blackKing/mirror/k_b_mirror177.jpeg\n",
            "/content/drive/MyDrive/APS360_Project_Group_3/pieces/blackKing/mirror/k_b_mirror178.jpeg\n",
            "/content/drive/MyDrive/APS360_Project_Group_3/pieces/blackKing/mirror/k_b_mirror179.jpeg\n",
            "/content/drive/MyDrive/APS360_Project_Group_3/pieces/blackKing/mirror/k_b_mirror180.jpeg\n",
            "/content/drive/MyDrive/APS360_Project_Group_3/pieces/blackKing/mirror/k_b_mirror181.jpeg\n",
            "/content/drive/MyDrive/APS360_Project_Group_3/pieces/blackKing/mirror/k_b_mirror182.jpeg\n",
            "/content/drive/MyDrive/APS360_Project_Group_3/pieces/blackKing/mirror/k_b_mirror183.jpeg\n",
            "/content/drive/MyDrive/APS360_Project_Group_3/pieces/blackKing/mirror/k_b_mirror184.jpeg\n",
            "/content/drive/MyDrive/APS360_Project_Group_3/pieces/blackKing/mirror/k_b_mirror185.jpeg\n",
            "/content/drive/MyDrive/APS360_Project_Group_3/pieces/blackKing/mirror/k_b_mirror186.jpeg\n",
            "/content/drive/MyDrive/APS360_Project_Group_3/pieces/blackKing/mirror/k_b_mirror187.jpeg\n",
            "/content/drive/MyDrive/APS360_Project_Group_3/pieces/blackKing/mirror/k_b_mirror188.jpeg\n",
            "/content/drive/MyDrive/APS360_Project_Group_3/pieces/blackKing/mirror/k_b_mirror189.jpeg\n",
            "/content/drive/MyDrive/APS360_Project_Group_3/pieces/blackKing/mirror/k_b_mirror190.jpeg\n",
            "/content/drive/MyDrive/APS360_Project_Group_3/pieces/blackKing/mirror/k_b_mirror191.jpeg\n",
            "/content/drive/MyDrive/APS360_Project_Group_3/pieces/blackKing/mirror/k_b_mirror192.jpeg\n",
            "/content/drive/MyDrive/APS360_Project_Group_3/pieces/blackKing/mirror/k_b_mirror193.jpeg\n",
            "/content/drive/MyDrive/APS360_Project_Group_3/pieces/blackKing/mirror/k_b_mirror194.jpeg\n",
            "/content/drive/MyDrive/APS360_Project_Group_3/pieces/blackKing/mirror/k_b_mirror195.jpeg\n",
            "/content/drive/MyDrive/APS360_Project_Group_3/pieces/blackKing/mirror/k_b_mirror196.jpeg\n",
            "/content/drive/MyDrive/APS360_Project_Group_3/pieces/blackKing/mirror/k_b_mirror197.jpeg\n",
            "/content/drive/MyDrive/APS360_Project_Group_3/pieces/blackKing/mirror/k_b_mirror198.jpeg\n",
            "/content/drive/MyDrive/APS360_Project_Group_3/pieces/blackKing/mirror/k_b_mirror199.jpeg\n",
            "/content/drive/MyDrive/APS360_Project_Group_3/pieces/blackKing/mirror/k_b_mirror200.jpeg\n",
            "/content/drive/MyDrive/APS360_Project_Group_3/pieces/blackKing/mirror/k_b_mirror201.jpeg\n",
            "/content/drive/MyDrive/APS360_Project_Group_3/pieces/blackKing/mirror/k_b_mirror202.jpeg\n",
            "/content/drive/MyDrive/APS360_Project_Group_3/pieces/blackKing/mirror/k_b_mirror203.jpeg\n",
            "/content/drive/MyDrive/APS360_Project_Group_3/pieces/blackKing/mirror/k_b_mirror204.jpeg\n",
            "/content/drive/MyDrive/APS360_Project_Group_3/pieces/blackKing/mirror/k_b_mirror205.jpeg\n",
            "/content/drive/MyDrive/APS360_Project_Group_3/pieces/blackKing/mirror/k_b_mirror206.jpeg\n",
            "/content/drive/MyDrive/APS360_Project_Group_3/pieces/blackKing/mirror/k_b_mirror207.jpeg\n",
            "/content/drive/MyDrive/APS360_Project_Group_3/pieces/blackKing/mirror/k_b_mirror208.jpeg\n",
            "/content/drive/MyDrive/APS360_Project_Group_3/pieces/blackKing/mirror/k_b_mirror209.jpeg\n",
            "/content/drive/MyDrive/APS360_Project_Group_3/pieces/blackKing/mirror/k_b_mirror210.jpeg\n",
            "/content/drive/MyDrive/APS360_Project_Group_3/pieces/blackKing/mirror/k_b_mirror211.jpeg\n",
            "/content/drive/MyDrive/APS360_Project_Group_3/pieces/blackKing/mirror/k_b_mirror212.jpeg\n",
            "/content/drive/MyDrive/APS360_Project_Group_3/pieces/blackKing/mirror/k_b_mirror213.jpeg\n",
            "/content/drive/MyDrive/APS360_Project_Group_3/pieces/blackKing/mirror/k_b_mirror214.jpeg\n",
            "/content/drive/MyDrive/APS360_Project_Group_3/pieces/blackKing/mirror/k_b_mirror215.jpeg\n",
            "/content/drive/MyDrive/APS360_Project_Group_3/pieces/blackKing/mirror/k_b_mirror216.jpeg\n",
            "/content/drive/MyDrive/APS360_Project_Group_3/pieces/blackKing/mirror/k_b_mirror217.jpeg\n",
            "/content/drive/MyDrive/APS360_Project_Group_3/pieces/blackKing/mirror/k_b_mirror218.jpeg\n",
            "/content/drive/MyDrive/APS360_Project_Group_3/pieces/blackKing/mirror/k_b_mirror219.jpeg\n",
            "/content/drive/MyDrive/APS360_Project_Group_3/pieces/blackKing/mirror/k_b_mirror220.jpeg\n",
            "/content/drive/MyDrive/APS360_Project_Group_3/pieces/blackKing/mirror/k_b_mirror221.jpeg\n",
            "/content/drive/MyDrive/APS360_Project_Group_3/pieces/blackKing/mirror/k_b_mirror222.jpeg\n",
            "/content/drive/MyDrive/APS360_Project_Group_3/pieces/blackKing/mirror/k_b_mirror223.jpeg\n",
            "/content/drive/MyDrive/APS360_Project_Group_3/pieces/blackKing/mirror/k_b_mirror224.jpeg\n"
          ],
          "name": "stdout"
        }
      ]
    },
    {
      "cell_type": "code",
      "metadata": {
        "id": "tZuicsnMMgf7"
      },
      "source": [
        "# Image generation of colour and noise\n",
        "pieces_path = '/content/drive/MyDrive/APS360_Project_Group_3/pieces'\n",
        "\n",
        "for folder in os.listdir(pieces_path):\n",
        "  curr_path = os.path.join(pieces_path, folder, \"colournoise\")\n",
        "  formatted_piece = pieceAndColour(folder)\n",
        "  number = 1\n",
        "  for file in glob.iglob(os.path.join(curr_path, \"*.jpeg\")):\n",
        "    nf = round(random.uniform(1.0,1.5), 2)\n",
        "    #https://www.geeksforgeeks.org/how-to-convert-images-to-numpy-array/\n",
        "    img= Image.open(file)\n",
        "    np_img = np.array(img)\n",
        "\n",
        "    tensor_img =torch.tensor(np_img)\n",
        "\n",
        "    noise = tensor_img + nf*torch.randn(*tensor_img.shape)\n",
        "\n",
        "    noisy_image = np.array(noise, dtype=np.uint8)\n",
        "    im = Image.fromarray(noisy_image)\n",
        "    os.chdir(curr_path)\n",
        "    fileName = formatted_piece+\"_colournoise\" + str(number)\n",
        "    im.save(fileName + \".jpeg\", 'JPEG')\n",
        "    number += 1\n",
        "  number = 1"
      ],
      "execution_count": null,
      "outputs": []
    },
    {
      "cell_type": "code",
      "metadata": {
        "id": "laR96CB0ojq6"
      },
      "source": [
        "## function for converting png to jpeg (Joanne)\n",
        "# https://stackoverflow.com/questions/43258461/convert-png-to-jpeg-using-pillow \n",
        "# https://stackoverflow.com/questions/50739732/how-to-covert-png-to-jpeg-using-pillow-while-image-color-is-black\n",
        "\n",
        "# Example of how to use this function:\n",
        "# convert_PNG_to_JPEG('/content/drive/MyDrive/APS360_Project_Group_3/pieces/testing_Joanne', (255,255,255))\n",
        "# or\n",
        "# backgroundColour = (255,255,255)\n",
        "# convert_PNG_to_JPEG('/content/drive/MyDrive/APS360_Project_Group_3/pieces/testing_Joanne', backgroundColour)\n",
        "\n",
        "from PIL import Image\n",
        "import os\n",
        "\n",
        "def convert_PNG_to_JPEG(dir_name, backgroundColour):\n",
        "  # fill_color_white = (255, 255, 255)\n",
        "  \n",
        "  # goes through each file in the directory\n",
        "  for file in os.listdir(dir_name):\n",
        "    curr_path = os.path.join(dir_name, file)\n",
        "\n",
        "    # Getting only the file name without the file extension\n",
        "    fileName = os.path.splitext(curr_path)[0]\n",
        "\n",
        "    # Convert the PNG to JPEG\n",
        "    im = Image.open(curr_path)\n",
        "\n",
        "    im = im.convert(\"RGBA\")   # it had mode P after DL it from OP\n",
        "    if im.mode in ('RGBA'):\n",
        "      # create background, overlay it on top of the image\n",
        "      background = Image.new(im.mode[:-1], im.size, backgroundColour)\n",
        "\n",
        "      # put the png image on top of the background, then get rid of transparency\n",
        "      background.paste(im, im.split()[-1]) # omit transparency\n",
        "      im = background\n",
        "\n",
        "    rgb_im = im.convert('RGB')\n",
        "    rgb_im.save(fileName + '.jpeg', 'JPEG')"
      ],
      "execution_count": null,
      "outputs": []
    },
    {
      "cell_type": "code",
      "metadata": {
        "colab": {
          "base_uri": "https://localhost:8080/"
        },
        "id": "psgCkWQuYL-t",
        "outputId": "c8bb4fdb-9f67-47ef-b22f-9d3bc8af87a3"
      },
      "source": [
        "# Creating Blanks (Joanne)\n",
        "# Populating blanks in the base and colour folder of blanks class\n",
        "from PIL import Image  \n",
        "from random import randint \n",
        "import os\n",
        "\n",
        "image_size = (200, 200)\n",
        "basePath_blankClass = '/content/drive/MyDrive/APS360_Project_Group_3/pieces/blank/base'\n",
        "blankPath = '/content/drive/MyDrive/APS360_Project_Group_3/pieces/blank'\n",
        "os.chdir(blankPath) # change directory\n",
        "\n",
        "\n",
        "variationFolders = ['base', 'colour']\n",
        "for folder in variationFolders:\n",
        "  curr_path = os.path.join(blankPath, folder)\n",
        "\n",
        "  # 16 whites, 16 black images in base folder\n",
        "  if (folder == 'base'):\n",
        "    # delete what's in the folder\n",
        "    for file in os.listdir(curr_path):\n",
        "      os.remove(os.path.join(curr_path, file))\n",
        "      print(\"removed: \" + os.path.join(curr_path, file))\n",
        "\n",
        "    for i in range(1,17):\n",
        "      blackBackground = (0,0,0)\n",
        "      img  = Image.new(\"RGB\", image_size, blackBackground)\n",
        "      saveDestination = os.path.join(curr_path,'blank'+str(i)+'.jpeg')\n",
        "      img.save(saveDestination, 'JPEG')\n",
        "      print(saveDestination)\n",
        "\n",
        "    for i in range(17,33):\n",
        "      whiteBackground = (255,255,255)\n",
        "      img  = Image.new(\"RGB\", image_size, whiteBackground)\n",
        "      saveDestination = os.path.join(curr_path,'blank'+str(i)+'.jpeg')\n",
        "      img.save(saveDestination, 'JPEG')\n",
        "      print(saveDestination)\n",
        "    \n",
        "\n",
        "  if (folder == 'colour'):\n",
        "    for file in os.listdir(curr_path):\n",
        "      os.remove(os.path.join(curr_path, file))\n",
        "      print(\"removed: \" + os.path.join(curr_path, file))\n",
        "\n",
        "    for i in range(1,33):\n",
        "      colour_R = randint(0,255)\n",
        "      colour_G = randint(0,255)\n",
        "      colour_B = randint(0,255)\n",
        "      finalColour = (colour_R, colour_G, colour_B)\n",
        "\n",
        "      img  = Image.new(\"RGB\", image_size, finalColour)\n",
        "      saveDestination = os.path.join(curr_path,'blank_colour'+str(i)+'.jpeg')\n",
        "      img.save(saveDestination, 'JPEG')\n",
        "      print(saveDestination)\n",
        "  "
      ],
      "execution_count": null,
      "outputs": [
        {
          "output_type": "stream",
          "text": [
            "removed: /content/drive/MyDrive/APS360_Project_Group_3/pieces/blank/base/blank2.jpeg\n",
            "removed: /content/drive/MyDrive/APS360_Project_Group_3/pieces/blank/base/blank3.jpeg\n",
            "removed: /content/drive/MyDrive/APS360_Project_Group_3/pieces/blank/base/blank4.jpeg\n",
            "removed: /content/drive/MyDrive/APS360_Project_Group_3/pieces/blank/base/blank5.jpeg\n",
            "removed: /content/drive/MyDrive/APS360_Project_Group_3/pieces/blank/base/blank6.jpeg\n",
            "removed: /content/drive/MyDrive/APS360_Project_Group_3/pieces/blank/base/blank7.jpeg\n",
            "removed: /content/drive/MyDrive/APS360_Project_Group_3/pieces/blank/base/blank9.jpeg\n",
            "removed: /content/drive/MyDrive/APS360_Project_Group_3/pieces/blank/base/blank8.jpeg\n",
            "removed: /content/drive/MyDrive/APS360_Project_Group_3/pieces/blank/base/blank10.jpeg\n",
            "removed: /content/drive/MyDrive/APS360_Project_Group_3/pieces/blank/base/blank11.jpeg\n",
            "removed: /content/drive/MyDrive/APS360_Project_Group_3/pieces/blank/base/blank12.jpeg\n",
            "removed: /content/drive/MyDrive/APS360_Project_Group_3/pieces/blank/base/blank13.jpeg\n",
            "removed: /content/drive/MyDrive/APS360_Project_Group_3/pieces/blank/base/blank14.jpeg\n",
            "removed: /content/drive/MyDrive/APS360_Project_Group_3/pieces/blank/base/blank15.jpeg\n",
            "removed: /content/drive/MyDrive/APS360_Project_Group_3/pieces/blank/base/blank17.jpeg\n",
            "removed: /content/drive/MyDrive/APS360_Project_Group_3/pieces/blank/base/blank18.jpeg\n",
            "removed: /content/drive/MyDrive/APS360_Project_Group_3/pieces/blank/base/blank20.jpeg\n",
            "removed: /content/drive/MyDrive/APS360_Project_Group_3/pieces/blank/base/blank19.jpeg\n",
            "removed: /content/drive/MyDrive/APS360_Project_Group_3/pieces/blank/base/blank21.jpeg\n",
            "removed: /content/drive/MyDrive/APS360_Project_Group_3/pieces/blank/base/blank22.jpeg\n",
            "removed: /content/drive/MyDrive/APS360_Project_Group_3/pieces/blank/base/blank23.jpeg\n",
            "removed: /content/drive/MyDrive/APS360_Project_Group_3/pieces/blank/base/blank25.jpeg\n",
            "removed: /content/drive/MyDrive/APS360_Project_Group_3/pieces/blank/base/blank24.jpeg\n",
            "removed: /content/drive/MyDrive/APS360_Project_Group_3/pieces/blank/base/blank26.jpeg\n",
            "removed: /content/drive/MyDrive/APS360_Project_Group_3/pieces/blank/base/blank27.jpeg\n",
            "removed: /content/drive/MyDrive/APS360_Project_Group_3/pieces/blank/base/blank28.jpeg\n",
            "removed: /content/drive/MyDrive/APS360_Project_Group_3/pieces/blank/base/blank29.jpeg\n",
            "removed: /content/drive/MyDrive/APS360_Project_Group_3/pieces/blank/base/blank30.jpeg\n",
            "removed: /content/drive/MyDrive/APS360_Project_Group_3/pieces/blank/base/blank31.jpeg\n",
            "removed: /content/drive/MyDrive/APS360_Project_Group_3/pieces/blank/base/blank32.jpeg\n",
            "removed: /content/drive/MyDrive/APS360_Project_Group_3/pieces/blank/base/blank1.jpeg\n",
            "/content/drive/MyDrive/APS360_Project_Group_3/pieces/blank/base/blank1.jpeg\n",
            "/content/drive/MyDrive/APS360_Project_Group_3/pieces/blank/base/blank2.jpeg\n",
            "/content/drive/MyDrive/APS360_Project_Group_3/pieces/blank/base/blank3.jpeg\n",
            "/content/drive/MyDrive/APS360_Project_Group_3/pieces/blank/base/blank4.jpeg\n",
            "/content/drive/MyDrive/APS360_Project_Group_3/pieces/blank/base/blank5.jpeg\n",
            "/content/drive/MyDrive/APS360_Project_Group_3/pieces/blank/base/blank6.jpeg\n",
            "/content/drive/MyDrive/APS360_Project_Group_3/pieces/blank/base/blank7.jpeg\n",
            "/content/drive/MyDrive/APS360_Project_Group_3/pieces/blank/base/blank8.jpeg\n",
            "/content/drive/MyDrive/APS360_Project_Group_3/pieces/blank/base/blank9.jpeg\n",
            "/content/drive/MyDrive/APS360_Project_Group_3/pieces/blank/base/blank10.jpeg\n",
            "/content/drive/MyDrive/APS360_Project_Group_3/pieces/blank/base/blank11.jpeg\n",
            "/content/drive/MyDrive/APS360_Project_Group_3/pieces/blank/base/blank12.jpeg\n",
            "/content/drive/MyDrive/APS360_Project_Group_3/pieces/blank/base/blank13.jpeg\n",
            "/content/drive/MyDrive/APS360_Project_Group_3/pieces/blank/base/blank14.jpeg\n",
            "/content/drive/MyDrive/APS360_Project_Group_3/pieces/blank/base/blank15.jpeg\n",
            "/content/drive/MyDrive/APS360_Project_Group_3/pieces/blank/base/blank16.jpeg\n",
            "/content/drive/MyDrive/APS360_Project_Group_3/pieces/blank/base/blank17.jpeg\n",
            "/content/drive/MyDrive/APS360_Project_Group_3/pieces/blank/base/blank18.jpeg\n",
            "/content/drive/MyDrive/APS360_Project_Group_3/pieces/blank/base/blank19.jpeg\n",
            "/content/drive/MyDrive/APS360_Project_Group_3/pieces/blank/base/blank20.jpeg\n",
            "/content/drive/MyDrive/APS360_Project_Group_3/pieces/blank/base/blank21.jpeg\n",
            "/content/drive/MyDrive/APS360_Project_Group_3/pieces/blank/base/blank22.jpeg\n",
            "/content/drive/MyDrive/APS360_Project_Group_3/pieces/blank/base/blank23.jpeg\n",
            "/content/drive/MyDrive/APS360_Project_Group_3/pieces/blank/base/blank24.jpeg\n",
            "/content/drive/MyDrive/APS360_Project_Group_3/pieces/blank/base/blank25.jpeg\n",
            "/content/drive/MyDrive/APS360_Project_Group_3/pieces/blank/base/blank26.jpeg\n",
            "/content/drive/MyDrive/APS360_Project_Group_3/pieces/blank/base/blank27.jpeg\n",
            "/content/drive/MyDrive/APS360_Project_Group_3/pieces/blank/base/blank28.jpeg\n",
            "/content/drive/MyDrive/APS360_Project_Group_3/pieces/blank/base/blank29.jpeg\n",
            "/content/drive/MyDrive/APS360_Project_Group_3/pieces/blank/base/blank30.jpeg\n",
            "/content/drive/MyDrive/APS360_Project_Group_3/pieces/blank/base/blank31.jpeg\n",
            "/content/drive/MyDrive/APS360_Project_Group_3/pieces/blank/base/blank32.jpeg\n",
            "removed: /content/drive/MyDrive/APS360_Project_Group_3/pieces/blank/colour/blank_colour1.jpeg\n",
            "removed: /content/drive/MyDrive/APS360_Project_Group_3/pieces/blank/colour/blank_colour2.jpeg\n",
            "removed: /content/drive/MyDrive/APS360_Project_Group_3/pieces/blank/colour/blank_colour3.jpeg\n",
            "removed: /content/drive/MyDrive/APS360_Project_Group_3/pieces/blank/colour/blank_colour4.jpeg\n",
            "removed: /content/drive/MyDrive/APS360_Project_Group_3/pieces/blank/colour/blank_colour5.jpeg\n",
            "removed: /content/drive/MyDrive/APS360_Project_Group_3/pieces/blank/colour/blank_colour6.jpeg\n",
            "removed: /content/drive/MyDrive/APS360_Project_Group_3/pieces/blank/colour/blank_colour7.jpeg\n",
            "removed: /content/drive/MyDrive/APS360_Project_Group_3/pieces/blank/colour/blank_colour8.jpeg\n",
            "removed: /content/drive/MyDrive/APS360_Project_Group_3/pieces/blank/colour/blank_colour9.jpeg\n",
            "removed: /content/drive/MyDrive/APS360_Project_Group_3/pieces/blank/colour/blank_colour10.jpeg\n",
            "removed: /content/drive/MyDrive/APS360_Project_Group_3/pieces/blank/colour/blank_colour11.jpeg\n",
            "removed: /content/drive/MyDrive/APS360_Project_Group_3/pieces/blank/colour/blank_colour12.jpeg\n",
            "removed: /content/drive/MyDrive/APS360_Project_Group_3/pieces/blank/colour/blank_colour13.jpeg\n",
            "removed: /content/drive/MyDrive/APS360_Project_Group_3/pieces/blank/colour/blank_colour14.jpeg\n",
            "removed: /content/drive/MyDrive/APS360_Project_Group_3/pieces/blank/colour/blank_colour15.jpeg\n",
            "removed: /content/drive/MyDrive/APS360_Project_Group_3/pieces/blank/colour/blank_colour16.jpeg\n",
            "removed: /content/drive/MyDrive/APS360_Project_Group_3/pieces/blank/colour/blank_colour17.jpeg\n",
            "removed: /content/drive/MyDrive/APS360_Project_Group_3/pieces/blank/colour/blank_colour18.jpeg\n",
            "removed: /content/drive/MyDrive/APS360_Project_Group_3/pieces/blank/colour/blank_colour19.jpeg\n",
            "removed: /content/drive/MyDrive/APS360_Project_Group_3/pieces/blank/colour/blank_colour20.jpeg\n",
            "removed: /content/drive/MyDrive/APS360_Project_Group_3/pieces/blank/colour/blank_colour21.jpeg\n",
            "removed: /content/drive/MyDrive/APS360_Project_Group_3/pieces/blank/colour/blank_colour22.jpeg\n",
            "removed: /content/drive/MyDrive/APS360_Project_Group_3/pieces/blank/colour/blank_colour23.jpeg\n",
            "removed: /content/drive/MyDrive/APS360_Project_Group_3/pieces/blank/colour/blank_colour24.jpeg\n",
            "removed: /content/drive/MyDrive/APS360_Project_Group_3/pieces/blank/colour/blank_colour25.jpeg\n",
            "removed: /content/drive/MyDrive/APS360_Project_Group_3/pieces/blank/colour/blank_colour26.jpeg\n",
            "removed: /content/drive/MyDrive/APS360_Project_Group_3/pieces/blank/colour/blank_colour27.jpeg\n",
            "removed: /content/drive/MyDrive/APS360_Project_Group_3/pieces/blank/colour/blank_colour28.jpeg\n",
            "removed: /content/drive/MyDrive/APS360_Project_Group_3/pieces/blank/colour/blank_colour29.jpeg\n",
            "removed: /content/drive/MyDrive/APS360_Project_Group_3/pieces/blank/colour/blank_colour30.jpeg\n",
            "removed: /content/drive/MyDrive/APS360_Project_Group_3/pieces/blank/colour/blank_colour31.jpeg\n",
            "removed: /content/drive/MyDrive/APS360_Project_Group_3/pieces/blank/colour/blank_colour32.jpeg\n",
            "/content/drive/MyDrive/APS360_Project_Group_3/pieces/blank/colour/blank_colour1.jpeg\n",
            "/content/drive/MyDrive/APS360_Project_Group_3/pieces/blank/colour/blank_colour2.jpeg\n",
            "/content/drive/MyDrive/APS360_Project_Group_3/pieces/blank/colour/blank_colour3.jpeg\n",
            "/content/drive/MyDrive/APS360_Project_Group_3/pieces/blank/colour/blank_colour4.jpeg\n",
            "/content/drive/MyDrive/APS360_Project_Group_3/pieces/blank/colour/blank_colour5.jpeg\n",
            "/content/drive/MyDrive/APS360_Project_Group_3/pieces/blank/colour/blank_colour6.jpeg\n",
            "/content/drive/MyDrive/APS360_Project_Group_3/pieces/blank/colour/blank_colour7.jpeg\n",
            "/content/drive/MyDrive/APS360_Project_Group_3/pieces/blank/colour/blank_colour8.jpeg\n",
            "/content/drive/MyDrive/APS360_Project_Group_3/pieces/blank/colour/blank_colour9.jpeg\n",
            "/content/drive/MyDrive/APS360_Project_Group_3/pieces/blank/colour/blank_colour10.jpeg\n",
            "/content/drive/MyDrive/APS360_Project_Group_3/pieces/blank/colour/blank_colour11.jpeg\n",
            "/content/drive/MyDrive/APS360_Project_Group_3/pieces/blank/colour/blank_colour12.jpeg\n",
            "/content/drive/MyDrive/APS360_Project_Group_3/pieces/blank/colour/blank_colour13.jpeg\n",
            "/content/drive/MyDrive/APS360_Project_Group_3/pieces/blank/colour/blank_colour14.jpeg\n",
            "/content/drive/MyDrive/APS360_Project_Group_3/pieces/blank/colour/blank_colour15.jpeg\n",
            "/content/drive/MyDrive/APS360_Project_Group_3/pieces/blank/colour/blank_colour16.jpeg\n",
            "/content/drive/MyDrive/APS360_Project_Group_3/pieces/blank/colour/blank_colour17.jpeg\n",
            "/content/drive/MyDrive/APS360_Project_Group_3/pieces/blank/colour/blank_colour18.jpeg\n",
            "/content/drive/MyDrive/APS360_Project_Group_3/pieces/blank/colour/blank_colour19.jpeg\n",
            "/content/drive/MyDrive/APS360_Project_Group_3/pieces/blank/colour/blank_colour20.jpeg\n",
            "/content/drive/MyDrive/APS360_Project_Group_3/pieces/blank/colour/blank_colour21.jpeg\n",
            "/content/drive/MyDrive/APS360_Project_Group_3/pieces/blank/colour/blank_colour22.jpeg\n",
            "/content/drive/MyDrive/APS360_Project_Group_3/pieces/blank/colour/blank_colour23.jpeg\n",
            "/content/drive/MyDrive/APS360_Project_Group_3/pieces/blank/colour/blank_colour24.jpeg\n",
            "/content/drive/MyDrive/APS360_Project_Group_3/pieces/blank/colour/blank_colour25.jpeg\n",
            "/content/drive/MyDrive/APS360_Project_Group_3/pieces/blank/colour/blank_colour26.jpeg\n",
            "/content/drive/MyDrive/APS360_Project_Group_3/pieces/blank/colour/blank_colour27.jpeg\n",
            "/content/drive/MyDrive/APS360_Project_Group_3/pieces/blank/colour/blank_colour28.jpeg\n",
            "/content/drive/MyDrive/APS360_Project_Group_3/pieces/blank/colour/blank_colour29.jpeg\n",
            "/content/drive/MyDrive/APS360_Project_Group_3/pieces/blank/colour/blank_colour30.jpeg\n",
            "/content/drive/MyDrive/APS360_Project_Group_3/pieces/blank/colour/blank_colour31.jpeg\n",
            "/content/drive/MyDrive/APS360_Project_Group_3/pieces/blank/colour/blank_colour32.jpeg\n"
          ],
          "name": "stdout"
        }
      ]
    },
    {
      "cell_type": "code",
      "metadata": {
        "colab": {
          "base_uri": "https://localhost:8080/"
        },
        "id": "Ag-j44kYaAtL",
        "outputId": "e99516de-f51f-4c08-cee9-baa110a0f420"
      },
      "source": [
        "#Generating colournoise for blank class\n",
        "pieces_path = '/content/drive/MyDrive/APS360_Project_Group_3/pieces/blank/colour'\n",
        "\n",
        "for file in os.listdir('/content/drive/MyDrive/APS360_Project_Group_3/pieces/blank/colournoise'):\n",
        "  removeFile = os.path.join('/content/drive/MyDrive/APS360_Project_Group_3/pieces/blank/colournoise', file)\n",
        "  os.remove(removeFile)\n",
        "  print(\"removed: \" + removeFile)\n",
        "\n",
        "# for folder in os.listdir(pieces_path):\n",
        "curr_path = pieces_path\n",
        "formatted_piece = \"blank\"\n",
        "number = 1\n",
        "for file in glob.iglob(os.path.join(curr_path, \"*.jpeg\")):\n",
        "  nf = round(random.uniform(3,5), 2)\n",
        "  #https://www.geeksforgeeks.org/how-to-convert-images-to-numpy-array/\n",
        "  img= Image.open(file)\n",
        "  np_img = np.array(img)\n",
        "\n",
        "  tensor_img =torch.tensor(np_img)\n",
        "  #Taken from the lecture on autoencoders\n",
        "  noise = tensor_img + nf*torch.randn(*tensor_img.shape)\n",
        "\n",
        "  noisy_image = np.array(noise, dtype=np.uint8)\n",
        "  im = Image.fromarray(noisy_image)\n",
        "  fileName = '/content/drive/MyDrive/APS360_Project_Group_3/pieces/blank/colournoise/' + formatted_piece+\"_colournoise\" + str(number) + \".jpeg\"\n",
        "  im.save(fileName, 'JPEG')\n",
        "  number += 1\n",
        "  print(fileName)"
      ],
      "execution_count": null,
      "outputs": [
        {
          "output_type": "stream",
          "text": [
            "removed: /content/drive/MyDrive/APS360_Project_Group_3/pieces/blank/colournoise/blank_colournoise1.jpeg\n",
            "removed: /content/drive/MyDrive/APS360_Project_Group_3/pieces/blank/colournoise/blank_colournoise2.jpeg\n",
            "removed: /content/drive/MyDrive/APS360_Project_Group_3/pieces/blank/colournoise/blank_colournoise3.jpeg\n",
            "removed: /content/drive/MyDrive/APS360_Project_Group_3/pieces/blank/colournoise/blank_colournoise4.jpeg\n",
            "removed: /content/drive/MyDrive/APS360_Project_Group_3/pieces/blank/colournoise/blank_colournoise5.jpeg\n",
            "removed: /content/drive/MyDrive/APS360_Project_Group_3/pieces/blank/colournoise/blank_colournoise6.jpeg\n",
            "removed: /content/drive/MyDrive/APS360_Project_Group_3/pieces/blank/colournoise/blank_colournoise7.jpeg\n",
            "removed: /content/drive/MyDrive/APS360_Project_Group_3/pieces/blank/colournoise/blank_colournoise8.jpeg\n",
            "removed: /content/drive/MyDrive/APS360_Project_Group_3/pieces/blank/colournoise/blank_colournoise9.jpeg\n",
            "removed: /content/drive/MyDrive/APS360_Project_Group_3/pieces/blank/colournoise/blank_colournoise10.jpeg\n",
            "removed: /content/drive/MyDrive/APS360_Project_Group_3/pieces/blank/colournoise/blank_colournoise11.jpeg\n",
            "removed: /content/drive/MyDrive/APS360_Project_Group_3/pieces/blank/colournoise/blank_colournoise12.jpeg\n",
            "removed: /content/drive/MyDrive/APS360_Project_Group_3/pieces/blank/colournoise/blank_colournoise13.jpeg\n",
            "removed: /content/drive/MyDrive/APS360_Project_Group_3/pieces/blank/colournoise/blank_colournoise14.jpeg\n",
            "removed: /content/drive/MyDrive/APS360_Project_Group_3/pieces/blank/colournoise/blank_colournoise15.jpeg\n",
            "removed: /content/drive/MyDrive/APS360_Project_Group_3/pieces/blank/colournoise/blank_colournoise16.jpeg\n",
            "removed: /content/drive/MyDrive/APS360_Project_Group_3/pieces/blank/colournoise/blank_colournoise17.jpeg\n",
            "removed: /content/drive/MyDrive/APS360_Project_Group_3/pieces/blank/colournoise/blank_colournoise18.jpeg\n",
            "removed: /content/drive/MyDrive/APS360_Project_Group_3/pieces/blank/colournoise/blank_colournoise19.jpeg\n",
            "removed: /content/drive/MyDrive/APS360_Project_Group_3/pieces/blank/colournoise/blank_colournoise20.jpeg\n",
            "removed: /content/drive/MyDrive/APS360_Project_Group_3/pieces/blank/colournoise/blank_colournoise21.jpeg\n",
            "removed: /content/drive/MyDrive/APS360_Project_Group_3/pieces/blank/colournoise/blank_colournoise22.jpeg\n",
            "removed: /content/drive/MyDrive/APS360_Project_Group_3/pieces/blank/colournoise/blank_colournoise23.jpeg\n",
            "removed: /content/drive/MyDrive/APS360_Project_Group_3/pieces/blank/colournoise/blank_colournoise24.jpeg\n",
            "removed: /content/drive/MyDrive/APS360_Project_Group_3/pieces/blank/colournoise/blank_colournoise25.jpeg\n",
            "removed: /content/drive/MyDrive/APS360_Project_Group_3/pieces/blank/colournoise/blank_colournoise26.jpeg\n",
            "removed: /content/drive/MyDrive/APS360_Project_Group_3/pieces/blank/colournoise/blank_colournoise27.jpeg\n",
            "removed: /content/drive/MyDrive/APS360_Project_Group_3/pieces/blank/colournoise/blank_colournoise28.jpeg\n",
            "removed: /content/drive/MyDrive/APS360_Project_Group_3/pieces/blank/colournoise/blank_colournoise29.jpeg\n",
            "removed: /content/drive/MyDrive/APS360_Project_Group_3/pieces/blank/colournoise/blank_colournoise30.jpeg\n",
            "removed: /content/drive/MyDrive/APS360_Project_Group_3/pieces/blank/colournoise/blank_colournoise31.jpeg\n",
            "removed: /content/drive/MyDrive/APS360_Project_Group_3/pieces/blank/colournoise/blank_colournoise32.jpeg\n",
            "/content/drive/MyDrive/APS360_Project_Group_3/pieces/blank/colournoise/blank_colournoise1.jpeg\n",
            "/content/drive/MyDrive/APS360_Project_Group_3/pieces/blank/colournoise/blank_colournoise2.jpeg\n",
            "/content/drive/MyDrive/APS360_Project_Group_3/pieces/blank/colournoise/blank_colournoise3.jpeg\n",
            "/content/drive/MyDrive/APS360_Project_Group_3/pieces/blank/colournoise/blank_colournoise4.jpeg\n",
            "/content/drive/MyDrive/APS360_Project_Group_3/pieces/blank/colournoise/blank_colournoise5.jpeg\n",
            "/content/drive/MyDrive/APS360_Project_Group_3/pieces/blank/colournoise/blank_colournoise6.jpeg\n",
            "/content/drive/MyDrive/APS360_Project_Group_3/pieces/blank/colournoise/blank_colournoise7.jpeg\n",
            "/content/drive/MyDrive/APS360_Project_Group_3/pieces/blank/colournoise/blank_colournoise8.jpeg\n",
            "/content/drive/MyDrive/APS360_Project_Group_3/pieces/blank/colournoise/blank_colournoise9.jpeg\n",
            "/content/drive/MyDrive/APS360_Project_Group_3/pieces/blank/colournoise/blank_colournoise10.jpeg\n",
            "/content/drive/MyDrive/APS360_Project_Group_3/pieces/blank/colournoise/blank_colournoise11.jpeg\n",
            "/content/drive/MyDrive/APS360_Project_Group_3/pieces/blank/colournoise/blank_colournoise12.jpeg\n",
            "/content/drive/MyDrive/APS360_Project_Group_3/pieces/blank/colournoise/blank_colournoise13.jpeg\n",
            "/content/drive/MyDrive/APS360_Project_Group_3/pieces/blank/colournoise/blank_colournoise14.jpeg\n",
            "/content/drive/MyDrive/APS360_Project_Group_3/pieces/blank/colournoise/blank_colournoise15.jpeg\n",
            "/content/drive/MyDrive/APS360_Project_Group_3/pieces/blank/colournoise/blank_colournoise16.jpeg\n",
            "/content/drive/MyDrive/APS360_Project_Group_3/pieces/blank/colournoise/blank_colournoise17.jpeg\n",
            "/content/drive/MyDrive/APS360_Project_Group_3/pieces/blank/colournoise/blank_colournoise18.jpeg\n",
            "/content/drive/MyDrive/APS360_Project_Group_3/pieces/blank/colournoise/blank_colournoise19.jpeg\n",
            "/content/drive/MyDrive/APS360_Project_Group_3/pieces/blank/colournoise/blank_colournoise20.jpeg\n",
            "/content/drive/MyDrive/APS360_Project_Group_3/pieces/blank/colournoise/blank_colournoise21.jpeg\n",
            "/content/drive/MyDrive/APS360_Project_Group_3/pieces/blank/colournoise/blank_colournoise22.jpeg\n",
            "/content/drive/MyDrive/APS360_Project_Group_3/pieces/blank/colournoise/blank_colournoise23.jpeg\n",
            "/content/drive/MyDrive/APS360_Project_Group_3/pieces/blank/colournoise/blank_colournoise24.jpeg\n",
            "/content/drive/MyDrive/APS360_Project_Group_3/pieces/blank/colournoise/blank_colournoise25.jpeg\n",
            "/content/drive/MyDrive/APS360_Project_Group_3/pieces/blank/colournoise/blank_colournoise26.jpeg\n",
            "/content/drive/MyDrive/APS360_Project_Group_3/pieces/blank/colournoise/blank_colournoise27.jpeg\n",
            "/content/drive/MyDrive/APS360_Project_Group_3/pieces/blank/colournoise/blank_colournoise28.jpeg\n",
            "/content/drive/MyDrive/APS360_Project_Group_3/pieces/blank/colournoise/blank_colournoise29.jpeg\n",
            "/content/drive/MyDrive/APS360_Project_Group_3/pieces/blank/colournoise/blank_colournoise30.jpeg\n",
            "/content/drive/MyDrive/APS360_Project_Group_3/pieces/blank/colournoise/blank_colournoise31.jpeg\n",
            "/content/drive/MyDrive/APS360_Project_Group_3/pieces/blank/colournoise/blank_colournoise32.jpeg\n"
          ],
          "name": "stdout"
        }
      ]
    },
    {
      "cell_type": "code",
      "metadata": {
        "colab": {
          "base_uri": "https://localhost:8080/"
        },
        "id": "jZ_DLGScb47G",
        "outputId": "50ab08d4-bd30-4a8d-c852-7fe1d38f0390"
      },
      "source": [
        "# generating noise for blank class\n",
        "pieces_path = '/content/drive/MyDrive/APS360_Project_Group_3/pieces/blank/base'\n",
        "\n",
        "for file in os.listdir('/content/drive/MyDrive/APS360_Project_Group_3/pieces/blank/noise'):\n",
        "  removeFile = os.path.join('/content/drive/MyDrive/APS360_Project_Group_3/pieces/blank/noise', file)\n",
        "  os.remove(removeFile)\n",
        "  print(\"removed: \" + removeFile)\n",
        "\n",
        "formatted_piece = \"blank\"\n",
        "number = 1\n",
        "for file in glob.iglob(os.path.join(pieces_path, \"*.jpeg\")):\n",
        "  nf = round(random.uniform(3,5), 2)\n",
        "  #https://www.geeksforgeeks.org/how-to-convert-images-to-numpy-array/\n",
        "  img= Image.open(file)\n",
        "  np_img = np.array(img)\n",
        "\n",
        "  tensor_img =torch.tensor(np_img)\n",
        "  #Taken from the lecture on autoencoders\n",
        "  noise = tensor_img + nf*torch.randn(*tensor_img.shape)\n",
        "\n",
        "  noisy_image = np.array(noise, dtype=np.uint8)\n",
        "  im = Image.fromarray(noisy_image)\n",
        "  fileName = '/content/drive/MyDrive/APS360_Project_Group_3/pieces/blank/noise/' + formatted_piece+\"_noise\" + str(number) + \".jpeg\"\n",
        "  im.save(fileName, 'JPEG')\n",
        "  number += 1\n",
        "  print(fileName)"
      ],
      "execution_count": null,
      "outputs": [
        {
          "output_type": "stream",
          "text": [
            "/content/drive/MyDrive/APS360_Project_Group_3/pieces/blank/noise/blank_noise1.jpeg\n",
            "/content/drive/MyDrive/APS360_Project_Group_3/pieces/blank/noise/blank_noise2.jpeg\n",
            "/content/drive/MyDrive/APS360_Project_Group_3/pieces/blank/noise/blank_noise3.jpeg\n",
            "/content/drive/MyDrive/APS360_Project_Group_3/pieces/blank/noise/blank_noise4.jpeg\n",
            "/content/drive/MyDrive/APS360_Project_Group_3/pieces/blank/noise/blank_noise5.jpeg\n",
            "/content/drive/MyDrive/APS360_Project_Group_3/pieces/blank/noise/blank_noise6.jpeg\n",
            "/content/drive/MyDrive/APS360_Project_Group_3/pieces/blank/noise/blank_noise7.jpeg\n",
            "/content/drive/MyDrive/APS360_Project_Group_3/pieces/blank/noise/blank_noise8.jpeg\n",
            "/content/drive/MyDrive/APS360_Project_Group_3/pieces/blank/noise/blank_noise9.jpeg\n",
            "/content/drive/MyDrive/APS360_Project_Group_3/pieces/blank/noise/blank_noise10.jpeg\n",
            "/content/drive/MyDrive/APS360_Project_Group_3/pieces/blank/noise/blank_noise11.jpeg\n",
            "/content/drive/MyDrive/APS360_Project_Group_3/pieces/blank/noise/blank_noise12.jpeg\n",
            "/content/drive/MyDrive/APS360_Project_Group_3/pieces/blank/noise/blank_noise13.jpeg\n",
            "/content/drive/MyDrive/APS360_Project_Group_3/pieces/blank/noise/blank_noise14.jpeg\n",
            "/content/drive/MyDrive/APS360_Project_Group_3/pieces/blank/noise/blank_noise15.jpeg\n",
            "/content/drive/MyDrive/APS360_Project_Group_3/pieces/blank/noise/blank_noise16.jpeg\n",
            "/content/drive/MyDrive/APS360_Project_Group_3/pieces/blank/noise/blank_noise17.jpeg\n",
            "/content/drive/MyDrive/APS360_Project_Group_3/pieces/blank/noise/blank_noise18.jpeg\n",
            "/content/drive/MyDrive/APS360_Project_Group_3/pieces/blank/noise/blank_noise19.jpeg\n",
            "/content/drive/MyDrive/APS360_Project_Group_3/pieces/blank/noise/blank_noise20.jpeg\n",
            "/content/drive/MyDrive/APS360_Project_Group_3/pieces/blank/noise/blank_noise21.jpeg\n",
            "/content/drive/MyDrive/APS360_Project_Group_3/pieces/blank/noise/blank_noise22.jpeg\n",
            "/content/drive/MyDrive/APS360_Project_Group_3/pieces/blank/noise/blank_noise23.jpeg\n",
            "/content/drive/MyDrive/APS360_Project_Group_3/pieces/blank/noise/blank_noise24.jpeg\n",
            "/content/drive/MyDrive/APS360_Project_Group_3/pieces/blank/noise/blank_noise25.jpeg\n",
            "/content/drive/MyDrive/APS360_Project_Group_3/pieces/blank/noise/blank_noise26.jpeg\n",
            "/content/drive/MyDrive/APS360_Project_Group_3/pieces/blank/noise/blank_noise27.jpeg\n",
            "/content/drive/MyDrive/APS360_Project_Group_3/pieces/blank/noise/blank_noise28.jpeg\n",
            "/content/drive/MyDrive/APS360_Project_Group_3/pieces/blank/noise/blank_noise29.jpeg\n",
            "/content/drive/MyDrive/APS360_Project_Group_3/pieces/blank/noise/blank_noise30.jpeg\n",
            "/content/drive/MyDrive/APS360_Project_Group_3/pieces/blank/noise/blank_noise31.jpeg\n",
            "/content/drive/MyDrive/APS360_Project_Group_3/pieces/blank/noise/blank_noise32.jpeg\n"
          ],
          "name": "stdout"
        }
      ]
    },
    {
      "cell_type": "code",
      "metadata": {
        "id": "48d38PFNegIR"
      },
      "source": [
        "'''\n",
        "Joanne\n",
        "Mirroring everything in the blank class and put it into the mirror folder\n",
        "'''\n",
        "\n",
        "import os\n",
        "from PIL import Image, ImageOps\n",
        "from random import randint \n",
        "import glob\n",
        "\n",
        "pieces_dataset_path = '/content/drive/MyDrive/APS360_Project_Group_3/pieces/blank'\n",
        "target_path = '/content/drive/MyDrive/APS360_Project_Group_3/pieces/blank/mirror'\n",
        "dir_list = next(os.walk(pieces_dataset_path))[1]\n",
        "print(dir_list)\n",
        "\n",
        "# first delete whatever is in the mirror folder in the blank class\n",
        "for file in os.listdir(target_path):\n",
        "  removeFile = os.path.join(target_path, file)\n",
        "  os.remove(removeFile)\n",
        "  print(\"removed: \" + removeFile)\n",
        "\n",
        "for folder in dir_list:\n",
        "  if (folder == 'mirror'):\n",
        "    continue\n",
        "  curr_path = os.path.join(pieces_dataset_path, folder)\n",
        "\n",
        "  counter = 1\n",
        "  for file in os.listdir(curr_path):\n",
        "    im = Image.open(os.path.join(curr_path, file))\n",
        "\n",
        "    # mirroring all the images in blank class and put it into mirror\n",
        "    im_mirror = ImageOps.mirror(im).convert(\"RGB\")\n",
        "    dest = os.path.join (target_path, 'blank_' + folder + '_mirror' + str(counter) + '.jpeg')\n",
        "\n",
        "    im_mirror.save(dest, 'JPEG')\n",
        "    counter+=1\n",
        "    print(dest)"
      ],
      "execution_count": null,
      "outputs": []
    },
    {
      "cell_type": "code",
      "metadata": {
        "id": "y7EJRroCA9fW"
      },
      "source": [
        "# copy all pngs to another folder for safe keeping\n",
        "png_path = '/content/drive/MyDrive/APS360_Project_Group_3/pieces_png'\n",
        "os.chdir(png_path)\n",
        "\n",
        "pieces = ['whiteRook', 'whiteQueen', 'whitePawn', 'whiteKnight', 'whiteKing', 'whiteBishop', 'blackRook', 'blackQueen', 'blackPawn', 'blackKnight', 'blackKing', 'blackBishop']\n",
        "\n",
        "for chessPiece in pieces:\n",
        "  os.mkdir(chessPiece)"
      ],
      "execution_count": null,
      "outputs": []
    },
    {
      "cell_type": "code",
      "metadata": {
        "id": "9rfN0yS-CBK5"
      },
      "source": [
        "pieces_path = '/content/drive/MyDrive/APS360_Project_Group_3/pieces'\n",
        "png_path = '/content/drive/MyDrive/APS360_Project_Group_3/pieces_png'\n",
        "\n",
        "for pieceFolderName in pieces:\n",
        "  baseFolder = os.path.join(pieces_path, pieceFolderName, 'base')\n",
        "  target_path = os.path.join(png_path, pieceFolderName)\n",
        "  for file in os.listdir(baseFolder):\n",
        "    # print(file)\n",
        "    shutil.copy(os.path.join(baseFolder, file), target_path)"
      ],
      "execution_count": null,
      "outputs": []
    },
    {
      "cell_type": "code",
      "metadata": {
        "id": "x8oxcB_YGst_"
      },
      "source": [
        "# make all base images have a white background\n",
        "pieces_path = '/content/drive/MyDrive/APS360_Project_Group_3/pieces'\n",
        "\n",
        "for folder in os.listdir(pieces_path):\n",
        "  base_path = os.path.join(pieces_path, folder, 'base')\n",
        "  whiteBackground = (255,255,255)\n",
        "  convert_PNG_to_JPEG(base_path, whiteBackground)"
      ],
      "execution_count": null,
      "outputs": []
    },
    {
      "cell_type": "code",
      "metadata": {
        "id": "gWHpIUV0Dp64"
      },
      "source": [
        "'''\n",
        "Re-populating all white pieces base images (Joanne)\n",
        "'''\n",
        "whitePieces = ['whiteRook', 'whiteQueen', 'whitePawn', 'whiteKnight', 'whiteKing', 'whiteBishop']\n",
        "pieces_path = '/content/drive/MyDrive/APS360_Project_Group_3/pieces'\n",
        "png_pieces_path = '/content/drive/MyDrive/APS360_Project_Group_3/pieces_png'\n",
        "whiteBackground = (255,255,255)\n",
        "\n",
        "for whitePiece in whitePieces:\n",
        "  base_path = os.path.join(pieces_path, whitePiece, 'base')\n",
        "  formatted_piece = pieceAndColour(whitePiece)\n",
        "  # first delete whatever is inside the base folder\n",
        "  for file in os.listdir(base_path):\n",
        "    os.remove(os.path.join(base_path, file))\n",
        "\n",
        "  png_path = os.path.join(png_pieces_path, whitePiece)\n",
        "  counter = 1\n",
        "  for file in os.listdir(png_path):\n",
        "    \n",
        "    curr_path = os.path.join(png_path, file)\n",
        "\n",
        "    # Getting only the file name without the file extension\n",
        "    fileName = os.path.splitext(curr_path)[0]\n",
        "\n",
        "    # Convert the PNG to JPEG\n",
        "    im = Image.open(curr_path)\n",
        "\n",
        "    im = im.convert(\"RGBA\")   # it had mode P after DL it from OP\n",
        "    if im.mode in ('RGBA'):\n",
        "      # create background, overlay it on top of the image\n",
        "      background = Image.new(im.mode[:-1], im.size, whiteBackground)\n",
        "\n",
        "      # put the png image on top of the background, then get rid of transparency\n",
        "      background.paste(im, im.split()[-1]) # omit transparency\n",
        "      im = background\n",
        "\n",
        "      rgb_im = im.convert('RGB')\n",
        "      os.chdir(base_path)\n",
        "      rgb_im.save(formatted_piece + '_base' + str(counter) + '.jpeg', 'JPEG')\n",
        "      counter += 1\n"
      ],
      "execution_count": null,
      "outputs": []
    },
    {
      "cell_type": "code",
      "metadata": {
        "id": "oXrkSmtOJk-C"
      },
      "source": [
        "# removing all files with .png ending in base folders\n",
        "pieces_path = '/content/drive/MyDrive/APS360_Project_Group_3/pieces'\n",
        "for folder in os.listdir(pieces_path):\n",
        "  base_path = os.path.join(pieces_path, folder, \"base\")\n",
        "  for file in os.listdir(base_path):\n",
        "    if file.endswith(\".png\"):\n",
        "      os.remove(os.path.join(base_path, file))"
      ],
      "execution_count": null,
      "outputs": []
    },
    {
      "cell_type": "code",
      "metadata": {
        "colab": {
          "base_uri": "https://localhost:8080/"
        },
        "id": "1Ysxs4VWKhLI",
        "outputId": "959204c1-69d9-47a9-b46c-1c09a52a3d08"
      },
      "source": [
        "# rename all jpeg images in base folders to match naming conventions\n",
        "for folder in os.listdir(pieces_path):\n",
        "  if folder == 'blank':\n",
        "    continue\n",
        "  base_path = os.path.join(pieces_path, folder, \"base\")\n",
        "  formatted_piece = pieceAndColour(folder)\n",
        "  print(formatted_piece)\n",
        "  counter = 1\n",
        "  for file in os.listdir(base_path):\n",
        "    newFileName = formatted_piece + \"_base\" + str(counter) + \".jpeg\"\n",
        "    os.rename(os.path.join(base_path, file), os.path.join(base_path, newFileName))\n",
        "    counter += 1"
      ],
      "execution_count": null,
      "outputs": [
        {
          "output_type": "stream",
          "text": [
            "p_w\n",
            "r_w\n",
            "b_w\n",
            "n_w\n",
            "q_w\n",
            "k_w\n",
            "p_b\n",
            "b_b\n",
            "r_b\n",
            "n_b\n",
            "q_b\n",
            "k_b\n"
          ],
          "name": "stdout"
        }
      ]
    },
    {
      "cell_type": "code",
      "metadata": {
        "colab": {
          "base_uri": "https://localhost:8080/"
        },
        "id": "JAYrG_mSQstw",
        "outputId": "e6dd5919-2d8b-43fc-8dae-fe1a9cc9dc1f"
      },
      "source": [
        "# rename all jpeg images in mirror folders to match naming conventions\n",
        "for folder in os.listdir(pieces_path):\n",
        "  if folder == 'blank':\n",
        "    continue\n",
        "  mirror_path = os.path.join(pieces_path, folder, \"mirror\")\n",
        "  formatted_piece = pieceAndColour(folder)\n",
        "  print(formatted_piece)\n",
        "  counter = 1\n",
        "  for file in os.listdir(mirror_path):\n",
        "    newFileName = formatted_piece + \"_mirror\" + str(counter) + \".jpeg\"\n",
        "    os.rename(os.path.join(mirror_path, file), os.path.join(mirror_path, newFileName))\n",
        "    counter += 1"
      ],
      "execution_count": null,
      "outputs": [
        {
          "output_type": "stream",
          "text": [
            "p_w\n",
            "r_w\n",
            "b_w\n",
            "n_w\n",
            "q_w\n",
            "k_w\n",
            "p_b\n",
            "b_b\n",
            "r_b\n",
            "n_b\n",
            "q_b\n",
            "k_b\n"
          ],
          "name": "stdout"
        }
      ]
    },
    {
      "cell_type": "code",
      "metadata": {
        "id": "a3zQaaSnTFrI"
      },
      "source": [
        "# creating folders for pieces_dataset\n",
        "pieces_shortForm = ['r_w', 'q_w', 'p_w', 'n_w', 'k_w', 'b_w', 'r_b', 'q_b', 'p_b', 'n_b', 'k_b', 'b_b', 'blank']\n",
        "pieces_dataset_path = '/content/drive/MyDrive/APS360_Project_Group_3/pieces_dataset'\n",
        "\n",
        "os.chdir(pieces_dataset_path)\n",
        "\n",
        "os.mkdir('pieces_train')\n",
        "os.mkdir('pieces_val')\n",
        "os.mkdir('pieces_test')\n",
        "\n",
        "os.chdir(pieces_dataset_path)\n",
        "for folder in os.listdir(pieces_dataset_path):\n",
        "  for chessPiece in pieces_shortForm:\n",
        "    os.mkdir(os.path.join(pieces_dataset_path, folder, chessPiece))"
      ],
      "execution_count": null,
      "outputs": []
    },
    {
      "cell_type": "code",
      "metadata": {
        "id": "EsrSJeTCnv6J"
      },
      "source": [
        "#Populating the pieces_dataset 60/20/20\n",
        "\n",
        "import random\n",
        "\n",
        "mov_pieces_path = '/content/drive/MyDrive/APS360_Project_Group_3/pieces_dataset/pieces'\n",
        "form = [\"base\",\"colour\",\"colournoise\",\"mirror\",\"noise\"]\n",
        "for folder in os.listdir(mov_pieces_path):\n",
        "  formatted_piece = pieceAndColour(folder)\n",
        "  for fold in form: \n",
        "    mov_path = os.path.join(mov_pieces_path, folder, fold)\n",
        "    count = 1\n",
        "    for file in glob.iglob(os.path.join(mov_path, \"*.jpeg\")):\n",
        "      moving_image = random.choice([\n",
        "    x for x in os.listdir(mov_path)\n",
        "    if os.path.isfile(os.path.join(mov_path, x))])\n",
        "      #https://www.codegrepper.com/code-examples/python/select+random+image+from+folder+python\n",
        "      if fold == \"mirror\":\n",
        "          if count<77:\n",
        "            shutil.move('/content/drive/MyDrive/APS360_Project_Group_3/pieces_dataset/pieces/{}/{}/{}'.format(folder,fold,moving_image),'/content/drive/MyDrive/APS360_Project_Group_3/pieces_dataset/pieces_train/{}'.format(formatted_piece))\n",
        "          elif count<103:\n",
        "            shutil.move('/content/drive/MyDrive/APS360_Project_Group_3/pieces_dataset/pieces/{}/{}/{}'.format(folder,fold,moving_image),'/content/drive/MyDrive/APS360_Project_Group_3/pieces_dataset/pieces_val/{}'.format(formatted_piece))\n",
        "          else:\n",
        "            shutil.move('/content/drive/MyDrive/APS360_Project_Group_3/pieces_dataset/pieces/{}/{}/{}'.format(folder,fold,moving_image),'/content/drive/MyDrive/APS360_Project_Group_3/pieces_dataset/pieces_test/{}'.format(formatted_piece))\n",
        "      else:\n",
        "          if count<21:\n",
        "            shutil.move('/content/drive/MyDrive/APS360_Project_Group_3/pieces_dataset/pieces/{}/{}/{}'.format(folder,fold,moving_image),'/content/drive/MyDrive/APS360_Project_Group_3/pieces_dataset/pieces_train/{}'.format(formatted_piece))\n",
        "          elif count<27:\n",
        "            shutil.move('/content/drive/MyDrive/APS360_Project_Group_3/pieces_dataset/pieces/{}/{}/{}'.format(folder,fold,moving_image),'/content/drive/MyDrive/APS360_Project_Group_3/pieces_dataset/pieces_val/{}'.format(formatted_piece))\n",
        "          else:\n",
        "            shutil.move('/content/drive/MyDrive/APS360_Project_Group_3/pieces_dataset/pieces/{}/{}/{}'.format(folder,fold,moving_image),'/content/drive/MyDrive/APS360_Project_Group_3/pieces_dataset/pieces_test/{}'.format(formatted_piece))\n",
        "      count+=1\n"
      ],
      "execution_count": null,
      "outputs": []
    },
    {
      "cell_type": "code",
      "metadata": {
        "colab": {
          "base_uri": "https://localhost:8080/"
        },
        "id": "Z9b2UY_sxjJU",
        "outputId": "3e50dc06-831d-4e33-ab77-f070f9f343ab"
      },
      "source": [
        "# count number of files in pieces folder\n",
        "for piece in os.listdir('/content/drive/MyDrive/APS360_Project_Group_3/pieces'):\n",
        "  curr_path = os.path.join('/content/drive/MyDrive/APS360_Project_Group_3/pieces', piece)\n",
        "  \n",
        "  total = 0\n",
        "  for folderVariation in os.listdir(curr_path):\n",
        "    counter = 0\n",
        "    next_path = os.path.join(curr_path, folderVariation)\n",
        "    for file in os.listdir(next_path):\n",
        "      counter += 1\n",
        "    total = total + counter\n",
        "    # print (piece + folderVariation + \" total = \" + str(counter))\n",
        "  print(piece + \"total = \" + str(total))"
      ],
      "execution_count": null,
      "outputs": [
        {
          "output_type": "stream",
          "text": [
            "whitePawntotal = 256\n",
            "whiteRooktotal = 256\n",
            "whiteBishoptotal = 256\n",
            "whiteKnighttotal = 256\n",
            "whiteQueentotal = 256\n",
            "whiteKingtotal = 256\n",
            "blanktotal = 256\n",
            "blackPawntotal = 256\n",
            "blackBishoptotal = 256\n",
            "blackRooktotal = 256\n",
            "blackKnighttotal = 256\n",
            "blackQueentotal = 256\n",
            "blackKingtotal = 256\n"
          ],
          "name": "stdout"
        }
      ]
    },
    {
      "cell_type": "markdown",
      "metadata": {
        "id": "PjL0bY2TTYe3"
      },
      "source": [
        "## How to detect board positions:\n"
      ]
    },
    {
      "cell_type": "markdown",
      "metadata": {
        "id": "CfROIrXDUxop"
      },
      "source": [
        "\n",
        "\n",
        "*   Total of 64 positions on the board, place one piece on each positions individually, generate data\n",
        "*   List item\n",
        "\n"
      ]
    },
    {
      "cell_type": "markdown",
      "metadata": {
        "id": "2ITxg6q2RImL"
      },
      "source": [
        "# How to detect both Chess piece and board position\n",
        "- use bounding boxes to identify pieces on the chess board (can do this in PyTorch or Tensorflow) \n",
        "  - downside: you might need to do this manually\n",
        "- classify each box that was found by the neural network\n"
      ]
    },
    {
      "cell_type": "markdown",
      "metadata": {
        "id": "P8OQxCOU68wa"
      },
      "source": [
        "# Creating the Baseline Model for Identifying a Chess Piece\n"
      ]
    },
    {
      "cell_type": "markdown",
      "metadata": {
        "id": "QHYvg-bl7cvJ"
      },
      "source": [
        "Outline of Baseline Model:\n",
        "*   Start off by first identifying white and black pieces using the colours HSP value\n",
        "*   Identify the piece by comparing it with an existing group of images of each piece\n",
        "\n"
      ]
    },
    {
      "cell_type": "code",
      "metadata": {
        "colab": {
          "base_uri": "https://localhost:8080/"
        },
        "id": "P362CjOUoxYK",
        "outputId": "75f6b8ff-227c-432a-a82e-607551ce1b4b"
      },
      "source": [
        "pieces_path = '/content/drive/MyDrive/APS360_Project_Group_3/baseline/default' #Location of the default piece images\n",
        "test_path = '/content/drive/MyDrive/APS360_Project_Group_3/baseline/test' #Location of the test images\n",
        "\n",
        "colour = None\n",
        "piece = None\n",
        "output = None\n",
        "answer = None\n",
        "total = 0\n",
        "correct = 0\n",
        "piece_correct = 0\n",
        "colour_correct = 0\n",
        "\n",
        "rook = None\n",
        "queen = None\n",
        "pawn = None\n",
        "knight = None\n",
        "king = None\n",
        "bishop = None\n",
        "blank = None\n",
        "\n",
        "#loads in default pieces as numpy arrays\n",
        "for file in glob.iglob(os.path.join(pieces_path, \"*.jpeg\")):\n",
        "\n",
        "  #https://www.geeksforgeeks.org/how-to-convert-images-to-numpy-array/\n",
        "  if file == \"/content/drive/MyDrive/APS360_Project_Group_3/baseline/default/r.jpeg\":\n",
        "    img= Image.open(file)\n",
        "    rook = np.array(img)\n",
        "  elif file == \"/content/drive/MyDrive/APS360_Project_Group_3/baseline/default/q.jpeg\":\n",
        "    img= Image.open(file)\n",
        "    queen = np.array(img)\n",
        "  elif file == \"/content/drive/MyDrive/APS360_Project_Group_3/baseline/default/p.jpeg\":\n",
        "    img= Image.open(file)\n",
        "    pawn = np.array(img)\n",
        "  elif file == \"/content/drive/MyDrive/APS360_Project_Group_3/baseline/default/n.jpeg\":\n",
        "    img= Image.open(file)\n",
        "    knight = np.array(img)\n",
        "  elif file == \"/content/drive/MyDrive/APS360_Project_Group_3/baseline/default/k.jpeg\":\n",
        "    img= Image.open(file)\n",
        "    king = np.array(img)\n",
        "  elif file == \"/content/drive/MyDrive/APS360_Project_Group_3/baseline/default/b.jpeg\":\n",
        "    img= Image.open(file)\n",
        "    bishop = np.array(img) \n",
        "  elif file == \"/content/drive/MyDrive/APS360_Project_Group_3/baseline/default/blank.jpeg\":\n",
        "    img= Image.open(file)\n",
        "    blank = np.array(img)\n",
        "\n",
        "#goes through wherever the images are being stored and checks them for colour and similarity to the piece, it will also keep track of accuracy\n",
        "for image in glob.iglob(os.path.join(test_path, \"*.jpeg\")):\n",
        "  img= Image.open(image)\n",
        "  input = np.array(img)\n",
        "\n",
        "  curr_path = os.path.join(test_path, image)\n",
        "  fileName = os.path.splitext(curr_path)[0]\n",
        "  answer = fileName[60:63]\n",
        "\n",
        "  #Setting the RGB value of the middle of the input image to its own variable\n",
        "  r = input[25][25][0]\n",
        "  g = input[25][25][1]\n",
        "  b = input[25][25][2]\n",
        "\n",
        "  #colour check using HSP value\n",
        "  #https://stackoverflow.com/questions/22603510/is-this-possible-to-detect-a-colour-is-a-light-or-dark-colour\n",
        "  hsp = math.sqrt(0.299 * (r * r) + 0.587 * (g * g) + 0.114 * (b * b))\n",
        "  #print(hsp)\n",
        "  if hsp > 3:\n",
        "    colour = \"w\"\n",
        "  else:\n",
        "    colour = \"b\"\n",
        "\n",
        "\n",
        "  #Checks the input image against all other piece types\n",
        "  totalDifference = None\n",
        "  lowestDifference = None\n",
        "  pieceName = None\n",
        "\n",
        "  totalDifference, pieceName = differenceCheck(input, rook, \"r\")\n",
        "  lowestDifference = totalDifference\n",
        "  piece = pieceName\n",
        "\n",
        "  totalDifference, pieceName = differenceCheck(input, queen, \"q\")\n",
        "  if totalDifference < lowestDifference:\n",
        "    lowestDifference = totalDifference\n",
        "    piece = pieceName\n",
        "\n",
        "  totalDifference, pieceName = differenceCheck(input, pawn, \"p\")\n",
        "  if totalDifference < lowestDifference:\n",
        "    lowestDifference = totalDifference\n",
        "    piece = pieceName\n",
        "\n",
        "  totalDifference, pieceName = differenceCheck(input, knight, \"n\")\n",
        "  if totalDifference < lowestDifference:\n",
        "    lowestDifference = totalDifference\n",
        "    piece = pieceName\n",
        "\n",
        "  totalDifference, pieceName = differenceCheck(input, king, \"k\")\n",
        "  if totalDifference < lowestDifference:\n",
        "    lowestDifference = totalDifference\n",
        "    piece = pieceName\n",
        "\n",
        "  totalDifference, pieceName = differenceCheck(input, bishop, \"b\")\n",
        "  if totalDifference < lowestDifference:\n",
        "    lowestDifference = totalDifference\n",
        "    piece = pieceName\n",
        "\n",
        "  totalDifference, pieceName = differenceCheck(input, blank, \"blank\")\n",
        "  if totalDifference < lowestDifference:\n",
        "    lowestDifference = totalDifference\n",
        "    piece = pieceName\n",
        "\n",
        "  if piece == \"blank\":\n",
        "    output = \"bla\"\n",
        "  else:\n",
        "    output = piece + \"_\" + colour\n",
        "  \n",
        "  #validate the guess\n",
        "  if output == answer:\n",
        "    correct +=1\n",
        "  if output[0] == answer[0] and output != \"bla\":\n",
        "    piece_correct += 1\n",
        "  if output[2] == answer[2] and output != \"bla\":\n",
        "    colour_correct += 1\n",
        "  \n",
        "  total += 1\n",
        "\n",
        "print(\"Total accuracy: \", correct/total)\n",
        "print(\"Colour accuracy: \", colour_correct /total)\n",
        "print(\"Piece accuracy: \", piece_correct/total)"
      ],
      "execution_count": null,
      "outputs": [
        {
          "output_type": "stream",
          "text": [
            "/usr/local/lib/python3.7/dist-packages/ipykernel_launcher.py:63: RuntimeWarning: overflow encountered in ubyte_scalars\n",
            "/usr/local/lib/python3.7/dist-packages/ipykernel_launcher.py:5: RuntimeWarning: overflow encountered in ubyte_scalars\n",
            "  \"\"\"\n"
          ],
          "name": "stderr"
        },
        {
          "output_type": "stream",
          "text": [
            "Total accuracy:  0.14\n",
            "Colour accuracy:  0.34\n",
            "Piece accuracy:  0.16\n"
          ],
          "name": "stdout"
        }
      ]
    },
    {
      "cell_type": "code",
      "metadata": {
        "id": "ufssz6-2pKB2"
      },
      "source": [
        "def differenceCheck(input, pieceName, name):\n",
        "  totalDifference = 0\n",
        "  for i in range(0,49):\n",
        "    for j in range(0,49):\n",
        "      totalDifference += abs(input[i][j][0] - pieceName[i][j][0])\n",
        "  return totalDifference, name"
      ],
      "execution_count": null,
      "outputs": []
    },
    {
      "cell_type": "markdown",
      "metadata": {
        "id": "_k3MzcaD7Cg5"
      },
      "source": [
        "# Our Model"
      ]
    },
    {
      "cell_type": "markdown",
      "metadata": {
        "id": "lapWqFms7iU1"
      },
      "source": [
        "- try overfitting using a small subsample of the dataset first (to see if we even have the capacity to do so)"
      ]
    },
    {
      "cell_type": "markdown",
      "metadata": {
        "id": "GdQfzbv8zmy_"
      },
      "source": [
        "## Accuracy and Plotting Functions"
      ]
    },
    {
      "cell_type": "code",
      "metadata": {
        "id": "b_YPo13KzrUy"
      },
      "source": [
        "def plot_training_curve(path):\n",
        "    import matplotlib.pyplot as plt\n",
        "    train_acc = np.loadtxt(\"{}_train_accuracy.csv\".format(path))\n",
        "    val_acc = np.loadtxt(\"{}_val_accuracy.csv\".format(path))\n",
        "    \n",
        "    plt.title(\"Train vs Validation Accuracy\")\n",
        "    n = len(train_acc) # number of epochs\n",
        "    plt.plot(range(1,n+1), train_acc, label=\"Train\")\n",
        "    plt.plot(range(1,n+1), val_acc, label=\"Validation\")\n",
        "    plt.xlabel(\"Epoch\")\n",
        "    plt.ylabel(\"Accuracy\")\n",
        "    plt.legend(loc='best')\n",
        "    plt.show()"
      ],
      "execution_count": null,
      "outputs": []
    },
    {
      "cell_type": "code",
      "metadata": {
        "id": "ixJRH3Jzzv-a"
      },
      "source": [
        "def get_model_name(name, batch_size, learning_rate, epoch):\n",
        "    path = \"model_{0}_bs{1}_lr{2}_epoch{3}\".format(name,\n",
        "                                                   batch_size,\n",
        "                                                   learning_rate,\n",
        "                                                   epoch)\n",
        "    return path"
      ],
      "execution_count": null,
      "outputs": []
    },
    {
      "cell_type": "code",
      "metadata": {
        "id": "mcFKuVxNz8m6"
      },
      "source": [
        "use_cuda = True"
      ],
      "execution_count": null,
      "outputs": []
    },
    {
      "cell_type": "code",
      "metadata": {
        "id": "-YsVmtJk0DSM"
      },
      "source": [
        "# function from tut3b\n",
        "def get_accuracy(model,  data_loader):\n",
        "\n",
        "    correct = 0\n",
        "    total = 0\n",
        "    for imgs, labels in data_loader:\n",
        "        \n",
        "        #To Enable GPU Usage\n",
        "        if use_cuda and torch.cuda.is_available():\n",
        "          imgs = imgs.cuda()\n",
        "          labels = labels.cuda()\n",
        "        \n",
        "        output = model(imgs)\n",
        "        \n",
        "        #select index with maximum prediction score\n",
        "        pred = output.max(1, keepdim=True)[1]\n",
        "        correct += pred.eq(labels.view_as(pred)).sum().item()\n",
        "        total += imgs.shape[0]\n",
        "    return correct / total"
      ],
      "execution_count": null,
      "outputs": []
    },
    {
      "cell_type": "markdown",
      "metadata": {
        "id": "UAxdolWKcqNP"
      },
      "source": [
        "## Model for Identifying Chess Piece"
      ]
    },
    {
      "cell_type": "code",
      "metadata": {
        "id": "hoQQqY7q7IbO"
      },
      "source": [
        "# from Lab3 - have yet to modify\n",
        "class Gesture(nn.Module):\n",
        "    def __init__(self):\n",
        "        super(Gesture, self).__init__()\n",
        "        self.name = \"Gesture\"\n",
        "        self.conv1 = nn.Conv2d(3, 8, 8)\n",
        "        self.pool = nn.MaxPool2d(3, 3)\n",
        "        self.conv2 = nn.Conv2d(8, 12, 8)\n",
        "\n",
        "        self.fc1 = nn.Linear(12 * 19 * 19, 35)\n",
        "        self.fc2 = nn.Linear(35, 13)\n",
        "\n",
        "    def forward(self, x):\n",
        "        x = self.pool(F.relu(self.conv1(x)))\n",
        "        x = self.pool(F.relu(self.conv2(x)))\n",
        "        # print(x.shape)\n",
        "        x = x.view(-1, 12 * 19 * 19)\n",
        "        x = F.relu(self.fc1(x))\n",
        "        x = self.fc2(x)\n",
        "        #x = x.squeeze(1) # Flatten to [batch_size]\n",
        "        return x"
      ],
      "execution_count": null,
      "outputs": []
    },
    {
      "cell_type": "markdown",
      "metadata": {
        "id": "tABhiDfJyqJN"
      },
      "source": [
        "## Training (Identify Chess Piece)\n"
      ]
    },
    {
      "cell_type": "code",
      "metadata": {
        "colab": {
          "base_uri": "https://localhost:8080/"
        },
        "id": "TARsHxxuufH-",
        "outputId": "9d449f66-aa81-41be-b4fa-5de8152954d9"
      },
      "source": [
        "pieces_train = '/content/drive/MyDrive/APS360_Project_Group_3/pieces_dataset/pieces_train'\n",
        "pieces_val = '/content/drive/MyDrive/APS360_Project_Group_3/pieces_dataset/pieces_val'\n",
        "#pieces_test =  '/content/drive/MyDrive/APS360_Project_Group_3/test_pieces/test'\n",
        "\n",
        "# make sure all images are the same size and convert to tensors\n",
        "transformations = transforms.Compose([transforms.Resize([200,200]),\n",
        "                                transforms.ToTensor()])\n",
        "\n",
        "# setting the paths for ImageFolder to split our data into train, validation, and test set\n",
        "train_set = torchvision.datasets.ImageFolder(pieces_train, transform = transformations)\n",
        "val_set = torchvision.datasets.ImageFolder(pieces_val, transform = transformations)\n",
        "#test_set = torchvision.datasets.ImageFolder(pieces_test, transform = transformations)\n",
        "\n",
        "print('Num training images: ', len(train_set))\n",
        "print('Num validation images: ', len(val_set))\n",
        "#print('Num test images: ', len(test_set))\n",
        "\n",
        "batch_size= 64\n",
        "\n",
        "# instead of using shuffle, we can set a sampler instead ()\n",
        "train_loader = torch.utils.data.DataLoader(train_set, batch_size, shuffle=True, num_workers = 1)\n",
        "val_loader = torch.utils.data.DataLoader(val_set, batch_size, shuffle=True, num_workers = 1)\n",
        "#test_loader = torch.utils.data.DataLoader(test_set, batch_size, shuffle=True, num_workers = 1)"
      ],
      "execution_count": null,
      "outputs": [
        {
          "output_type": "stream",
          "text": [
            "Num training images:  2028\n",
            "Num validation images:  650\n"
          ],
          "name": "stdout"
        }
      ]
    },
    {
      "cell_type": "code",
      "metadata": {
        "colab": {
          "base_uri": "https://localhost:8080/",
          "height": 564
        },
        "id": "Tf2vAoYy39fm",
        "outputId": "d5e12c7b-d809-4942-cc04-52ef3e2d7fe6"
      },
      "source": [
        "# obtain one batch of training images\n",
        "dataiter = iter(train_loader)\n",
        "images, labels = dataiter.next()\n",
        "images = images.numpy() # convert images to numpy for display\n",
        "\n",
        "# plot the images in the batch, along with the corresponding labels\n",
        "# (code modified; originally taken from tut3b)\n",
        "fig = plt.figure(figsize=(5, 12))\n",
        "for idx in np.arange(13):\n",
        "    ax = fig.add_subplot(6, 3, idx+1, xticks=[], yticks=[])\n",
        "    plt.imshow(np.transpose(images[idx], (1, 2, 0)))"
      ],
      "execution_count": null,
      "outputs": [
        {
          "output_type": "display_data",
          "data": {
            "image/png": "[encoded data removed]",
            "text/plain": [
              "<Figure size 360x864 with 13 Axes>"
            ]
          },
          "metadata": {
            "tags": []
          }
        }
      ]
    },
    {
      "cell_type": "code",
      "metadata": {
        "id": "XQxSHVEJyrEx"
      },
      "source": [
        "# from Lab3\n",
        "def train_net_v2(net, batch_size=64, learning_rate=0.01, num_epochs=10):\n",
        " \n",
        "    # Fixed PyTorch random seed for reproducible result\n",
        "    torch.manual_seed(5)\n",
        "\n",
        "    # Define the Loss function and optimizer\n",
        "    # The loss function will be CrossEntropyLoss because we are trying to\n",
        "    # classify 9 different images\n",
        "    # Using Adam optimizer for the reasons described in text cell above\n",
        "    criterion = nn.CrossEntropyLoss()\n",
        "    optimizer = optim.Adam(net.parameters(), lr=learning_rate)\n",
        "    \n",
        "    train_acc, val_acc = [], []\n",
        "\n",
        "    # training\n",
        "    n = 0 # the number of iterations\n",
        "    for epoch in range(num_epochs):\n",
        "      print(\"Epoch num \"+str(epoch))\n",
        "\n",
        "      for imgs, labels in iter(train_loader):\n",
        "        #To Enable GPU Usage\n",
        "        if use_cuda and torch.cuda.is_available():\n",
        "          imgs = imgs.cuda()\n",
        "          labels = labels.cuda()\n",
        "\n",
        "        outputs = net(imgs)           # forward pass\n",
        "        loss = criterion(outputs, labels) # compute the total loss\n",
        "        loss.backward()               # backward pass (compute parameter updates)\n",
        "        optimizer.step()              # make the updates for each parameter\n",
        "        optimizer.zero_grad()         # a clean up step for PyTorch\n",
        "\n",
        "        n += 1\n",
        "\n",
        "      train_acc.append( get_accuracy(net, train_loader))\n",
        "      print(\"training accuracy = \" + str(train_acc[-1]))\n",
        "\n",
        "      val_acc.append( get_accuracy(net, val_loader))\n",
        "      print(\"validation accuracy = \" + str(val_acc[-1]))\n",
        "\n",
        "      model_path = get_model_name(net.name, batch_size, learning_rate, epoch)\n",
        "      torch.save(net.state_dict(), model_path)\n",
        "\n",
        "    # Write the train/test loss/err into CSV file for plotting later\n",
        "    epochs = np.arange(1, num_epochs + 1)\n",
        "    np.savetxt(\"{}_train_accuracy.csv\".format(model_path), train_acc)\n",
        "    np.savetxt(\"{}_val_accuracy.csv\".format(model_path), val_acc)\n",
        "\n",
        "\n",
        "    return train_acc, val_acc\n",
        "      "
      ],
      "execution_count": null,
      "outputs": []
    },
    {
      "cell_type": "markdown",
      "metadata": {
        "id": "0R5--Qc27Mzt"
      },
      "source": [
        "# Summary of Results V1 (for Progress Report July 9th, 2021)"
      ]
    },
    {
      "cell_type": "code",
      "metadata": {
        "id": "XOBSoWNVywpY",
        "colab": {
          "base_uri": "https://localhost:8080/"
        },
        "outputId": "ab37728f-9b91-4b0d-b7ef-e467dc2aeab1"
      },
      "source": [
        "model = Gesture()\n",
        "if torch.cuda.is_available():\n",
        "    model.cuda()\n",
        "train_net_v2(model,  batch_size=128, learning_rate=0.01, num_epochs=30)\n",
        "print(\"DONE!!!!\")"
      ],
      "execution_count": null,
      "outputs": [
        {
          "output_type": "stream",
          "text": [
            "Epoch num 0\n",
            "training accuracy = 0.09171597633136094\n",
            "validation accuracy = 0.09538461538461539\n",
            "Epoch num 1\n",
            "training accuracy = 0.10059171597633136\n",
            "validation accuracy = 0.10307692307692308\n",
            "Epoch num 2\n",
            "training accuracy = 0.10502958579881656\n",
            "validation accuracy = 0.12\n",
            "Epoch num 3\n",
            "training accuracy = 0.1242603550295858\n",
            "validation accuracy = 0.13692307692307693\n",
            "Epoch num 4\n",
            "training accuracy = 0.13313609467455623\n",
            "validation accuracy = 0.15538461538461537\n",
            "Epoch num 5\n",
            "training accuracy = 0.14053254437869822\n",
            "validation accuracy = 0.16\n",
            "Epoch num 6\n",
            "training accuracy = 0.133629191321499\n",
            "validation accuracy = 0.15076923076923077\n",
            "Epoch num 7\n",
            "training accuracy = 0.1858974358974359\n",
            "validation accuracy = 0.2276923076923077\n",
            "Epoch num 8\n",
            "training accuracy = 0.16321499013806706\n",
            "validation accuracy = 0.18615384615384614\n",
            "Epoch num 9\n",
            "training accuracy = 0.133629191321499\n",
            "validation accuracy = 0.1476923076923077\n",
            "Epoch num 10\n",
            "training accuracy = 0.22534516765285997\n",
            "validation accuracy = 0.24615384615384617\n",
            "Epoch num 11\n",
            "training accuracy = 0.2943786982248521\n",
            "validation accuracy = 0.2969230769230769\n",
            "Epoch num 12\n",
            "training accuracy = 0.5877712031558185\n",
            "validation accuracy = 0.6046153846153847\n",
            "Epoch num 13\n",
            "training accuracy = 0.7075936883629191\n",
            "validation accuracy = 0.6784615384615384\n",
            "Epoch num 14\n",
            "training accuracy = 0.8076923076923077\n",
            "validation accuracy = 0.7569230769230769\n",
            "Epoch num 15\n",
            "training accuracy = 0.8574950690335306\n",
            "validation accuracy = 0.8092307692307692\n",
            "Epoch num 16\n",
            "training accuracy = 0.8856015779092702\n",
            "validation accuracy = 0.8615384615384616\n",
            "Epoch num 17\n",
            "training accuracy = 0.8939842209072978\n",
            "validation accuracy = 0.8692307692307693\n",
            "Epoch num 18\n",
            "training accuracy = 0.9442800788954635\n",
            "validation accuracy = 0.9107692307692308\n",
            "Epoch num 19\n"
          ],
          "name": "stdout"
        },
        {
          "output_type": "stream",
          "text": [
            "Exception ignored in: <function _MultiProcessingDataLoaderIter.__del__ at 0x7f10a8fea320>\n",
            "Traceback (most recent call last):\n",
            "  File \"/usr/local/lib/python3.7/dist-packages/torch/utils/data/dataloader.py\", line 1328, in __del__\n",
            "    self._shutdown_workers()\n",
            "  File \"/usr/local/lib/python3.7/dist-packages/torch/utils/data/dataloader.py\", line 1320, in _shutdown_workers\n",
            "    if w.is_alive():\n",
            "  File \"/usr/lib/python3.7/multiprocessing/process.py\", line 151, in is_alive\n",
            "    assert self._parent_pid == os.getpid(), 'can only test a child process'\n",
            "AssertionError: can only test a child process\n"
          ],
          "name": "stderr"
        },
        {
          "output_type": "stream",
          "text": [
            "training accuracy = 0.9299802761341223\n",
            "validation accuracy = 0.8923076923076924\n",
            "Epoch num 20\n"
          ],
          "name": "stdout"
        },
        {
          "output_type": "stream",
          "text": [
            "Exception ignored in: <function _MultiProcessingDataLoaderIter.__del__ at 0x7f10a8fea320>\n",
            "Traceback (most recent call last):\n",
            "  File \"/usr/local/lib/python3.7/dist-packages/torch/utils/data/dataloader.py\", line 1328, in __del__\n",
            "    self._shutdown_workers()\n",
            "  File \"/usr/local/lib/python3.7/dist-packages/torch/utils/data/dataloader.py\", line 1320, in _shutdown_workers\n",
            "    if w.is_alive():\n",
            "  File \"/usr/lib/python3.7/multiprocessing/process.py\", line 151, in is_alive\n",
            "    assert self._parent_pid == os.getpid(), 'can only test a child process'\n",
            "AssertionError: can only test a child process\n",
            "Exception ignored in: <function _MultiProcessingDataLoaderIter.__del__ at 0x7f10a8fea320>\n",
            "Traceback (most recent call last):\n",
            "  File \"/usr/local/lib/python3.7/dist-packages/torch/utils/data/dataloader.py\", line 1328, in __del__\n",
            "    self._shutdown_workers()\n",
            "  File \"/usr/local/lib/python3.7/dist-packages/torch/utils/data/dataloader.py\", line 1320, in _shutdown_workers\n",
            "    if w.is_alive():\n",
            "  File \"/usr/lib/python3.7/multiprocessing/process.py\", line 151, in is_alive\n",
            "    assert self._parent_pid == os.getpid(), 'can only test a child process'\n",
            "AssertionError: can only test a child process\n"
          ],
          "name": "stderr"
        },
        {
          "output_type": "stream",
          "text": [
            "training accuracy = 0.9580867850098619\n",
            "validation accuracy = 0.9246153846153846\n",
            "Epoch num 21\n"
          ],
          "name": "stdout"
        },
        {
          "output_type": "stream",
          "text": [
            "Exception ignored in: <function _MultiProcessingDataLoaderIter.__del__ at 0x7f10a8fea320>\n",
            "Traceback (most recent call last):\n",
            "  File \"/usr/local/lib/python3.7/dist-packages/torch/utils/data/dataloader.py\", line 1328, in __del__\n",
            "    self._shutdown_workers()\n",
            "  File \"/usr/local/lib/python3.7/dist-packages/torch/utils/data/dataloader.py\", line 1320, in _shutdown_workers\n",
            "    if w.is_alive():\n",
            "  File \"/usr/lib/python3.7/multiprocessing/process.py\", line 151, in is_alive\n",
            "    assert self._parent_pid == os.getpid(), 'can only test a child process'\n",
            "AssertionError: can only test a child process\n"
          ],
          "name": "stderr"
        },
        {
          "output_type": "stream",
          "text": [
            "training accuracy = 0.9575936883629191\n"
          ],
          "name": "stdout"
        },
        {
          "output_type": "stream",
          "text": [
            "Exception ignored in: <function _MultiProcessingDataLoaderIter.__del__ at 0x7f10a8fea320>\n",
            "Traceback (most recent call last):\n",
            "  File \"/usr/local/lib/python3.7/dist-packages/torch/utils/data/dataloader.py\", line 1328, in __del__\n",
            "    self._shutdown_workers()\n",
            "  File \"/usr/local/lib/python3.7/dist-packages/torch/utils/data/dataloader.py\", line 1320, in _shutdown_workers\n",
            "    if w.is_alive():\n",
            "  File \"/usr/lib/python3.7/multiprocessing/process.py\", line 151, in is_alive\n",
            "    assert self._parent_pid == os.getpid(), 'can only test a child process'\n",
            "AssertionError: can only test a child process\n"
          ],
          "name": "stderr"
        },
        {
          "output_type": "stream",
          "text": [
            "validation accuracy = 0.9107692307692308\n",
            "Epoch num 22\n"
          ],
          "name": "stdout"
        },
        {
          "output_type": "stream",
          "text": [
            "Exception ignored in: <function _MultiProcessingDataLoaderIter.__del__ at 0x7f10a8fea320>\n",
            "Traceback (most recent call last):\n",
            "  File \"/usr/local/lib/python3.7/dist-packages/torch/utils/data/dataloader.py\", line 1328, in __del__\n",
            "    self._shutdown_workers()\n",
            "  File \"/usr/local/lib/python3.7/dist-packages/torch/utils/data/dataloader.py\", line 1320, in _shutdown_workers\n",
            "    if w.is_alive():\n",
            "  File \"/usr/lib/python3.7/multiprocessing/process.py\", line 151, in is_alive\n",
            "    assert self._parent_pid == os.getpid(), 'can only test a child process'\n",
            "AssertionError: can only test a child process\n",
            "Exception ignored in: <function _MultiProcessingDataLoaderIter.__del__ at 0x7f10a8fea320>\n",
            "Traceback (most recent call last):\n",
            "  File \"/usr/local/lib/python3.7/dist-packages/torch/utils/data/dataloader.py\", line 1328, in __del__\n",
            "    self._shutdown_workers()\n",
            "  File \"/usr/local/lib/python3.7/dist-packages/torch/utils/data/dataloader.py\", line 1320, in _shutdown_workers\n",
            "    if w.is_alive():\n",
            "  File \"/usr/lib/python3.7/multiprocessing/process.py\", line 151, in is_alive\n",
            "    assert self._parent_pid == os.getpid(), 'can only test a child process'\n",
            "AssertionError: can only test a child process\n"
          ],
          "name": "stderr"
        },
        {
          "output_type": "stream",
          "text": [
            "training accuracy = 0.9748520710059172\n"
          ],
          "name": "stdout"
        },
        {
          "output_type": "stream",
          "text": [
            "Exception ignored in: <function _MultiProcessingDataLoaderIter.__del__ at 0x7f10a8fea320>\n",
            "Traceback (most recent call last):\n",
            "  File \"/usr/local/lib/python3.7/dist-packages/torch/utils/data/dataloader.py\", line 1328, in __del__\n",
            "    self._shutdown_workers()\n",
            "  File \"/usr/local/lib/python3.7/dist-packages/torch/utils/data/dataloader.py\", line 1320, in _shutdown_workers\n",
            "    if w.is_alive():\n",
            "  File \"/usr/lib/python3.7/multiprocessing/process.py\", line 151, in is_alive\n",
            "    assert self._parent_pid == os.getpid(), 'can only test a child process'\n",
            "AssertionError: can only test a child process\n"
          ],
          "name": "stderr"
        },
        {
          "output_type": "stream",
          "text": [
            "validation accuracy = 0.9384615384615385\n",
            "Epoch num 23\n"
          ],
          "name": "stdout"
        },
        {
          "output_type": "stream",
          "text": [
            "Exception ignored in: <function _MultiProcessingDataLoaderIter.__del__ at 0x7f10a8fea320>\n",
            "Traceback (most recent call last):\n",
            "  File \"/usr/local/lib/python3.7/dist-packages/torch/utils/data/dataloader.py\", line 1328, in __del__\n",
            "    self._shutdown_workers()\n",
            "  File \"/usr/local/lib/python3.7/dist-packages/torch/utils/data/dataloader.py\", line 1320, in _shutdown_workers\n",
            "    if w.is_alive():\n",
            "  File \"/usr/lib/python3.7/multiprocessing/process.py\", line 151, in is_alive\n",
            "    assert self._parent_pid == os.getpid(), 'can only test a child process'\n",
            "AssertionError: can only test a child process\n",
            "Exception ignored in: <function _MultiProcessingDataLoaderIter.__del__ at 0x7f10a8fea320>\n",
            "Traceback (most recent call last):\n",
            "  File \"/usr/local/lib/python3.7/dist-packages/torch/utils/data/dataloader.py\", line 1328, in __del__\n",
            "    self._shutdown_workers()\n",
            "  File \"/usr/local/lib/python3.7/dist-packages/torch/utils/data/dataloader.py\", line 1320, in _shutdown_workers\n",
            "    if w.is_alive():\n",
            "  File \"/usr/lib/python3.7/multiprocessing/process.py\", line 151, in is_alive\n",
            "    assert self._parent_pid == os.getpid(), 'can only test a child process'\n",
            "AssertionError: can only test a child process\n"
          ],
          "name": "stderr"
        },
        {
          "output_type": "stream",
          "text": [
            "training accuracy = 0.9664694280078896\n",
            "validation accuracy = 0.916923076923077\n",
            "Epoch num 24\n"
          ],
          "name": "stdout"
        },
        {
          "output_type": "stream",
          "text": [
            "Exception ignored in: <function _MultiProcessingDataLoaderIter.__del__ at 0x7f10a8fea320>\n",
            "Traceback (most recent call last):\n",
            "  File \"/usr/local/lib/python3.7/dist-packages/torch/utils/data/dataloader.py\", line 1328, in __del__\n",
            "    self._shutdown_workers()\n",
            "  File \"/usr/local/lib/python3.7/dist-packages/torch/utils/data/dataloader.py\", line 1320, in _shutdown_workers\n",
            "    if w.is_alive():\n",
            "  File \"/usr/lib/python3.7/multiprocessing/process.py\", line 151, in is_alive\n",
            "    assert self._parent_pid == os.getpid(), 'can only test a child process'\n",
            "AssertionError: can only test a child process\n",
            "Exception ignored in: <function _MultiProcessingDataLoaderIter.__del__ at 0x7f10a8fea320>\n",
            "Traceback (most recent call last):\n",
            "  File \"/usr/local/lib/python3.7/dist-packages/torch/utils/data/dataloader.py\", line 1328, in __del__\n",
            "    self._shutdown_workers()\n",
            "  File \"/usr/local/lib/python3.7/dist-packages/torch/utils/data/dataloader.py\", line 1320, in _shutdown_workers\n",
            "    if w.is_alive():\n",
            "  File \"/usr/lib/python3.7/multiprocessing/process.py\", line 151, in is_alive\n",
            "    assert self._parent_pid == os.getpid(), 'can only test a child process'\n",
            "AssertionError: can only test a child process\n"
          ],
          "name": "stderr"
        },
        {
          "output_type": "stream",
          "text": [
            "training accuracy = 0.9467455621301775\n"
          ],
          "name": "stdout"
        },
        {
          "output_type": "stream",
          "text": [
            "Exception ignored in: <function _MultiProcessingDataLoaderIter.__del__ at 0x7f10a8fea320>\n",
            "Traceback (most recent call last):\n",
            "  File \"/usr/local/lib/python3.7/dist-packages/torch/utils/data/dataloader.py\", line 1328, in __del__\n",
            "    self._shutdown_workers()\n",
            "  File \"/usr/local/lib/python3.7/dist-packages/torch/utils/data/dataloader.py\", line 1320, in _shutdown_workers\n",
            "    if w.is_alive():\n",
            "  File \"/usr/lib/python3.7/multiprocessing/process.py\", line 151, in is_alive\n",
            "    assert self._parent_pid == os.getpid(), 'can only test a child process'\n",
            "AssertionError: can only test a child process\n"
          ],
          "name": "stderr"
        },
        {
          "output_type": "stream",
          "text": [
            "validation accuracy = 0.9\n",
            "Epoch num 25\n"
          ],
          "name": "stdout"
        },
        {
          "output_type": "stream",
          "text": [
            "Exception ignored in: <function _MultiProcessingDataLoaderIter.__del__ at 0x7f10a8fea320>\n",
            "Traceback (most recent call last):\n",
            "  File \"/usr/local/lib/python3.7/dist-packages/torch/utils/data/dataloader.py\", line 1328, in __del__\n",
            "    self._shutdown_workers()\n",
            "  File \"/usr/local/lib/python3.7/dist-packages/torch/utils/data/dataloader.py\", line 1320, in _shutdown_workers\n",
            "    if w.is_alive():\n",
            "  File \"/usr/lib/python3.7/multiprocessing/process.py\", line 151, in is_alive\n",
            "    assert self._parent_pid == os.getpid(), 'can only test a child process'\n",
            "AssertionError: can only test a child process\n",
            "Exception ignored in: <function _MultiProcessingDataLoaderIter.__del__ at 0x7f10a8fea320>\n",
            "Traceback (most recent call last):\n",
            "  File \"/usr/local/lib/python3.7/dist-packages/torch/utils/data/dataloader.py\", line 1328, in __del__\n",
            "    self._shutdown_workers()\n",
            "  File \"/usr/local/lib/python3.7/dist-packages/torch/utils/data/dataloader.py\", line 1320, in _shutdown_workers\n",
            "    if w.is_alive():\n",
            "  File \"/usr/lib/python3.7/multiprocessing/process.py\", line 151, in is_alive\n",
            "    assert self._parent_pid == os.getpid(), 'can only test a child process'\n",
            "AssertionError: can only test a child process\n"
          ],
          "name": "stderr"
        },
        {
          "output_type": "stream",
          "text": [
            "training accuracy = 0.9644970414201184\n"
          ],
          "name": "stdout"
        },
        {
          "output_type": "stream",
          "text": [
            "Exception ignored in: <function _MultiProcessingDataLoaderIter.__del__ at 0x7f10a8fea320>\n",
            "Traceback (most recent call last):\n",
            "  File \"/usr/local/lib/python3.7/dist-packages/torch/utils/data/dataloader.py\", line 1328, in __del__\n",
            "    self._shutdown_workers()\n",
            "  File \"/usr/local/lib/python3.7/dist-packages/torch/utils/data/dataloader.py\", line 1320, in _shutdown_workers\n",
            "    if w.is_alive():\n",
            "  File \"/usr/lib/python3.7/multiprocessing/process.py\", line 151, in is_alive\n",
            "    assert self._parent_pid == os.getpid(), 'can only test a child process'\n",
            "AssertionError: can only test a child process\n"
          ],
          "name": "stderr"
        },
        {
          "output_type": "stream",
          "text": [
            "validation accuracy = 0.9123076923076923\n",
            "Epoch num 26\n"
          ],
          "name": "stdout"
        },
        {
          "output_type": "stream",
          "text": [
            "Exception ignored in: <function _MultiProcessingDataLoaderIter.__del__ at 0x7f10a8fea320>\n",
            "Traceback (most recent call last):\n",
            "  File \"/usr/local/lib/python3.7/dist-packages/torch/utils/data/dataloader.py\", line 1328, in __del__\n",
            "    self._shutdown_workers()\n",
            "  File \"/usr/local/lib/python3.7/dist-packages/torch/utils/data/dataloader.py\", line 1320, in _shutdown_workers\n",
            "    if w.is_alive():\n",
            "  File \"/usr/lib/python3.7/multiprocessing/process.py\", line 151, in is_alive\n",
            "    assert self._parent_pid == os.getpid(), 'can only test a child process'\n",
            "AssertionError: can only test a child process\n",
            "Exception ignored in: <function _MultiProcessingDataLoaderIter.__del__ at 0x7f10a8fea320>\n",
            "Traceback (most recent call last):\n",
            "  File \"/usr/local/lib/python3.7/dist-packages/torch/utils/data/dataloader.py\", line 1328, in __del__\n",
            "    self._shutdown_workers()\n",
            "  File \"/usr/local/lib/python3.7/dist-packages/torch/utils/data/dataloader.py\", line 1320, in _shutdown_workers\n",
            "    if w.is_alive():\n",
            "  File \"/usr/lib/python3.7/multiprocessing/process.py\", line 151, in is_alive\n",
            "    assert self._parent_pid == os.getpid(), 'can only test a child process'\n",
            "AssertionError: can only test a child process\n"
          ],
          "name": "stderr"
        },
        {
          "output_type": "stream",
          "text": [
            "training accuracy = 0.967948717948718\n"
          ],
          "name": "stdout"
        },
        {
          "output_type": "stream",
          "text": [
            "Exception ignored in: <function _MultiProcessingDataLoaderIter.__del__ at 0x7f10a8fea320>\n",
            "Traceback (most recent call last):\n",
            "  File \"/usr/local/lib/python3.7/dist-packages/torch/utils/data/dataloader.py\", line 1328, in __del__\n",
            "    self._shutdown_workers()\n",
            "  File \"/usr/local/lib/python3.7/dist-packages/torch/utils/data/dataloader.py\", line 1320, in _shutdown_workers\n",
            "    if w.is_alive():\n",
            "  File \"/usr/lib/python3.7/multiprocessing/process.py\", line 151, in is_alive\n",
            "    assert self._parent_pid == os.getpid(), 'can only test a child process'\n",
            "AssertionError: can only test a child process\n"
          ],
          "name": "stderr"
        },
        {
          "output_type": "stream",
          "text": [
            "validation accuracy = 0.9230769230769231\n",
            "Epoch num 27\n"
          ],
          "name": "stdout"
        },
        {
          "output_type": "stream",
          "text": [
            "Exception ignored in: <function _MultiProcessingDataLoaderIter.__del__ at 0x7f10a8fea320>\n",
            "Traceback (most recent call last):\n",
            "  File \"/usr/local/lib/python3.7/dist-packages/torch/utils/data/dataloader.py\", line 1328, in __del__\n",
            "    self._shutdown_workers()\n",
            "  File \"/usr/local/lib/python3.7/dist-packages/torch/utils/data/dataloader.py\", line 1320, in _shutdown_workers\n",
            "    if w.is_alive():\n",
            "  File \"/usr/lib/python3.7/multiprocessing/process.py\", line 151, in is_alive\n",
            "    assert self._parent_pid == os.getpid(), 'can only test a child process'\n",
            "AssertionError: can only test a child process\n",
            "Exception ignored in: <function _MultiProcessingDataLoaderIter.__del__ at 0x7f10a8fea320>\n",
            "Traceback (most recent call last):\n",
            "  File \"/usr/local/lib/python3.7/dist-packages/torch/utils/data/dataloader.py\", line 1328, in __del__\n",
            "    self._shutdown_workers()\n",
            "  File \"/usr/local/lib/python3.7/dist-packages/torch/utils/data/dataloader.py\", line 1320, in _shutdown_workers\n",
            "    if w.is_alive():\n",
            "  File \"/usr/lib/python3.7/multiprocessing/process.py\", line 151, in is_alive\n",
            "    assert self._parent_pid == os.getpid(), 'can only test a child process'\n",
            "AssertionError: can only test a child process\n"
          ],
          "name": "stderr"
        },
        {
          "output_type": "stream",
          "text": [
            "training accuracy = 0.9891518737672583\n"
          ],
          "name": "stdout"
        },
        {
          "output_type": "stream",
          "text": [
            "Exception ignored in: <function _MultiProcessingDataLoaderIter.__del__ at 0x7f10a8fea320>\n",
            "Traceback (most recent call last):\n",
            "  File \"/usr/local/lib/python3.7/dist-packages/torch/utils/data/dataloader.py\", line 1328, in __del__\n",
            "    self._shutdown_workers()\n",
            "  File \"/usr/local/lib/python3.7/dist-packages/torch/utils/data/dataloader.py\", line 1320, in _shutdown_workers\n",
            "    if w.is_alive():\n",
            "  File \"/usr/lib/python3.7/multiprocessing/process.py\", line 151, in is_alive\n",
            "    assert self._parent_pid == os.getpid(), 'can only test a child process'\n",
            "AssertionError: can only test a child process\n"
          ],
          "name": "stderr"
        },
        {
          "output_type": "stream",
          "text": [
            "validation accuracy = 0.9307692307692308\n",
            "Epoch num 28\n"
          ],
          "name": "stdout"
        },
        {
          "output_type": "stream",
          "text": [
            "Exception ignored in: <function _MultiProcessingDataLoaderIter.__del__ at 0x7f10a8fea320>\n",
            "Traceback (most recent call last):\n",
            "  File \"/usr/local/lib/python3.7/dist-packages/torch/utils/data/dataloader.py\", line 1328, in __del__\n",
            "    self._shutdown_workers()\n",
            "  File \"/usr/local/lib/python3.7/dist-packages/torch/utils/data/dataloader.py\", line 1320, in _shutdown_workers\n",
            "    if w.is_alive():\n",
            "  File \"/usr/lib/python3.7/multiprocessing/process.py\", line 151, in is_alive\n",
            "    assert self._parent_pid == os.getpid(), 'can only test a child process'\n",
            "AssertionError: can only test a child process\n",
            "Exception ignored in: <function _MultiProcessingDataLoaderIter.__del__ at 0x7f10a8fea320>\n",
            "Traceback (most recent call last):\n",
            "  File \"/usr/local/lib/python3.7/dist-packages/torch/utils/data/dataloader.py\", line 1328, in __del__\n",
            "    self._shutdown_workers()\n",
            "  File \"/usr/local/lib/python3.7/dist-packages/torch/utils/data/dataloader.py\", line 1320, in _shutdown_workers\n",
            "    if w.is_alive():\n",
            "  File \"/usr/lib/python3.7/multiprocessing/process.py\", line 151, in is_alive\n",
            "    assert self._parent_pid == os.getpid(), 'can only test a child process'\n",
            "AssertionError: can only test a child process\n"
          ],
          "name": "stderr"
        },
        {
          "output_type": "stream",
          "text": [
            "training accuracy = 0.9866863905325444\n"
          ],
          "name": "stdout"
        },
        {
          "output_type": "stream",
          "text": [
            "Exception ignored in: <function _MultiProcessingDataLoaderIter.__del__ at 0x7f10a8fea320>\n",
            "Traceback (most recent call last):\n",
            "  File \"/usr/local/lib/python3.7/dist-packages/torch/utils/data/dataloader.py\", line 1328, in __del__\n",
            "    self._shutdown_workers()\n",
            "  File \"/usr/local/lib/python3.7/dist-packages/torch/utils/data/dataloader.py\", line 1320, in _shutdown_workers\n",
            "    if w.is_alive():\n",
            "  File \"/usr/lib/python3.7/multiprocessing/process.py\", line 151, in is_alive\n",
            "    assert self._parent_pid == os.getpid(), 'can only test a child process'\n",
            "AssertionError: can only test a child process\n"
          ],
          "name": "stderr"
        },
        {
          "output_type": "stream",
          "text": [
            "validation accuracy = 0.9338461538461539\n",
            "Epoch num 29\n"
          ],
          "name": "stdout"
        },
        {
          "output_type": "stream",
          "text": [
            "Exception ignored in: <function _MultiProcessingDataLoaderIter.__del__ at 0x7f10a8fea320>\n",
            "Traceback (most recent call last):\n",
            "  File \"/usr/local/lib/python3.7/dist-packages/torch/utils/data/dataloader.py\", line 1328, in __del__\n",
            "    self._shutdown_workers()\n",
            "  File \"/usr/local/lib/python3.7/dist-packages/torch/utils/data/dataloader.py\", line 1320, in _shutdown_workers\n",
            "    if w.is_alive():\n",
            "  File \"/usr/lib/python3.7/multiprocessing/process.py\", line 151, in is_alive\n",
            "    assert self._parent_pid == os.getpid(), 'can only test a child process'\n",
            "AssertionError: can only test a child process\n",
            "Exception ignored in: <function _MultiProcessingDataLoaderIter.__del__ at 0x7f10a8fea320>\n",
            "Traceback (most recent call last):\n",
            "  File \"/usr/local/lib/python3.7/dist-packages/torch/utils/data/dataloader.py\", line 1328, in __del__\n",
            "    self._shutdown_workers()\n",
            "  File \"/usr/local/lib/python3.7/dist-packages/torch/utils/data/dataloader.py\", line 1320, in _shutdown_workers\n",
            "    if w.is_alive():\n",
            "  File \"/usr/lib/python3.7/multiprocessing/process.py\", line 151, in is_alive\n",
            "    assert self._parent_pid == os.getpid(), 'can only test a child process'\n",
            "AssertionError: can only test a child process\n"
          ],
          "name": "stderr"
        },
        {
          "output_type": "stream",
          "text": [
            "training accuracy = 0.9861932938856016\n"
          ],
          "name": "stdout"
        },
        {
          "output_type": "stream",
          "text": [
            "Exception ignored in: <function _MultiProcessingDataLoaderIter.__del__ at 0x7f10a8fea320>\n",
            "Traceback (most recent call last):\n",
            "  File \"/usr/local/lib/python3.7/dist-packages/torch/utils/data/dataloader.py\", line 1328, in __del__\n",
            "    self._shutdown_workers()\n",
            "  File \"/usr/local/lib/python3.7/dist-packages/torch/utils/data/dataloader.py\", line 1320, in _shutdown_workers\n",
            "    if w.is_alive():\n",
            "  File \"/usr/lib/python3.7/multiprocessing/process.py\", line 151, in is_alive\n",
            "    assert self._parent_pid == os.getpid(), 'can only test a child process'\n",
            "AssertionError: can only test a child process\n"
          ],
          "name": "stderr"
        },
        {
          "output_type": "stream",
          "text": [
            "validation accuracy = 0.9292307692307692\n",
            "DONE!!!!\n"
          ],
          "name": "stdout"
        }
      ]
    },
    {
      "cell_type": "code",
      "metadata": {
        "colab": {
          "base_uri": "https://localhost:8080/"
        },
        "id": "LqSJttlvNxVS",
        "outputId": "a101917b-2dc8-4c44-8b63-2c43367f2cda"
      },
      "source": [
        "!python train.py --img 200 --batch 50 --epochs 200 \\\n",
        "  --adam --data /content/yolov5/FEN.yaml --weights yolov5x.pt \\\n",
        "  --name yolov5x_b50_ep200_run_train282_val61_adam --cache --project /content/drive/MyDrive/APS360_Project_Group_3/YOLOv5"
      ],
      "execution_count": null,
      "outputs": [
        {
          "output_type": "stream",
          "text": [
            "python3: can't open file 'train.py': [Errno 2] No such file or directory\n"
          ],
          "name": "stdout"
        }
      ]
    }
  ]
}